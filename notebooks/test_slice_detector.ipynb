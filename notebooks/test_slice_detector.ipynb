{
 "cells": [
  {
   "cell_type": "code",
   "execution_count": 21,
   "metadata": {},
   "outputs": [
    {
     "name": "stdout",
     "output_type": "stream",
     "text": [
      "The autoreload extension is already loaded. To reload it, use:\n",
      "  %reload_ext autoreload\n"
     ]
    }
   ],
   "source": [
    "\n",
    "from __future__ import print_function\n",
    "\n",
    "import sys\n",
    "\n",
    "# sys.path.extend(['/home/jogi/git/repository/dcnn_acdc'])\n",
    "sys.path.extend(['/home/jorg/repository/dcnn_acdc'])\n",
    "\n",
    "import matplotlib\n",
    "import matplotlib.pyplot as plt\n",
    "\n",
    "from matplotlib import cm\n",
    "\n",
    "\n",
    "from datetime import datetime\n",
    "from pytz import timezone\n",
    "import itertools\n",
    "import copy\n",
    "\n",
    "import SimpleITK as sitk\n",
    "import numpy as np\n",
    "import torch\n",
    "from torch.autograd import Variable\n",
    "import torch.nn as nn\n",
    "import torch.nn.functional as F\n",
    "import torch.optim as optim\n",
    "from torch.nn import init\n",
    "\n",
    "import numpy as np\n",
    "import dill\n",
    "import os\n",
    "import glob\n",
    "from collections import OrderedDict\n",
    "\n",
    "from in_out.load_data import ACDC2017DataSet\n",
    "from in_out.dataset_slice_detector import create_dataset\n",
    "from config.config import config\n",
    "from common.dslices.config import config as sd_config\n",
    "\n",
    "from utils.dslices.exper_handler import ExperHandlerEnsemble, ExperimentHandler as ExperimentHandlerSD\n",
    "\n",
    "from models.slice_detector import DegenerateSliceDetector\n",
    "from utils.dslices.batch_handler import BatchHandler as BatchHandlerSD\n",
    "\n",
    "%matplotlib inline\n",
    "%load_ext autoreload\n",
    "%autoreload 2"
   ]
  },
  {
   "cell_type": "code",
   "execution_count": 31,
   "metadata": {},
   "outputs": [
    {
     "name": "stdout",
     "output_type": "stream",
     "text": [
      "Load experiment from /home/jorg/repository/dcnn_acdc/logs/20180418_15_02_05_dcnn_mcv1_150000E_lr2e02/stats/exper_stats.dll\n",
      "INFO - Experimental details extracted:: dcnn_mc p=0.10 fold=['0'] loss=brier\n",
      "Load experiment from /home/jorg/repository/dcnn_acdc/logs/20180426_14_13_46_dcnn_mc_f1p01_brier_150KE_lr2e02/stats/exper_stats.dll\n",
      "INFO - Experimental details extracted:: dcnn_mc p=0.10 fold=['1'] loss=brier\n",
      "Load experiment from /home/jorg/repository/dcnn_acdc/logs/20180426_14_14_39_dcnn_mc_f2p01_brier_150KE_lr2e02/stats/exper_stats.dll\n",
      "INFO - Experimental details extracted:: dcnn_mc p=0.10 fold=['2'] loss=brier\n",
      "Load experiment from /home/jorg/repository/dcnn_acdc/logs/20180426_14_14_57_dcnn_mc_f3p01_brier_150KE_lr2e02/stats/exper_stats.dll\n",
      "INFO - Experimental details extracted:: dcnn_mc p=0.10 fold=['3'] loss=brier\n",
      "Load experiment from /home/jorg/repository/dcnn_acdc/logs/20180824_13_06_44_sdvgg11_bn_f1p01_brier_umap_6KE_lr1e05/stats/exper_stats.dll\n",
      "Model name: sdvgg11_bn-u_map-f1 \n",
      "-------------------------------------------------------------------------\n",
      "Load experiment from /home/jorg/repository/dcnn_acdc/logs/20180824_16_37_26_sdvgg11_bn_f1p01_brier_umap_6KE_lr1e05/stats/exper_stats.dll\n",
      "Model name: sdvgg11_bn-u_map-f1 \n",
      "-------------------------------------------------------------------------\n"
     ]
    }
   ],
   "source": [
    "# Constants aka fixed variables\n",
    "ROOT_DIR = \"/home/jorg/repository/dcnn_acdc\"\n",
    "LOG_DIR = os.path.join(ROOT_DIR, \"logs\")\n",
    "# set seeds\n",
    "SEED = 4325\n",
    "torch.manual_seed(SEED)\n",
    "torch.cuda.manual_seed(SEED)\n",
    "torch.backends.cudnn.enabled = True\n",
    "torch.backends.cudnn.deterministic = True\n",
    "np.random.seed(SEED)\n",
    "\n",
    "# Load our baseline \n",
    "seg_exper_ensemble = ExperHandlerEnsemble(sd_config.exper_dict_brier)\n",
    "\n",
    "# IMPORTANT - THE FOLD WE'RE USING FOR TESTING. \n",
    "TEST_FOLD = 1\n",
    "\n",
    "exp_umaps = {3: \"\",\n",
    "             2: \"\",\n",
    "             1: \"20180824_13_06_44_sdvgg11_bn_f1p01_brier_umap_6KE_lr1e05\",\n",
    "             0: \"\"}\n",
    "exp_umaps_path = os.path.join(LOG_DIR, exp_umaps[TEST_FOLD])\n",
    "\n",
    "exper_hdl_umaps = ExperimentHandlerSD()\n",
    "exper_hdl_umaps.set_seg_ensemble(seg_exper_ensemble)\n",
    "exper_hdl_umaps.load_experiment(exp_umaps_path, use_logfile=False)\n",
    "exper_hdl_umaps.set_root_dir(ROOT_DIR)\n",
    "\n",
    "print(\"Model name: {}\".format(exper_hdl_umaps.model_name))\n",
    "print(\"-------------------------------------------------------------------------\")\n",
    "\n",
    "exp_umaps_l1 = {3: \"\",\n",
    "                2: \"\",\n",
    "                1: \"20180824_16_37_26_sdvgg11_bn_f1p01_brier_umap_6KE_lr1e05\",\n",
    "                0: \"\"}\n",
    "\n",
    "exp_umaps_l1_path = os.path.join(LOG_DIR, exp_umaps_l1[TEST_FOLD])\n",
    "\n",
    "exper_hdl_umaps_l1 = ExperimentHandlerSD()\n",
    "exper_hdl_umaps_l1.set_seg_ensemble(seg_exper_ensemble)\n",
    "exper_hdl_umaps_l1.load_experiment(exp_umaps_l1_path, use_logfile=False)\n",
    "exper_hdl_umaps_l1.set_root_dir(ROOT_DIR)\n",
    "\n",
    "print(\"Model name: {}\".format(exper_hdl_umaps_l1.model_name))\n",
    "print(\"-------------------------------------------------------------------------\")\n",
    "\n"
   ]
  },
  {
   "cell_type": "code",
   "execution_count": 3,
   "metadata": {},
   "outputs": [
    {
     "name": "stdout",
     "output_type": "stream",
     "text": [
      "Creating new model DegenerateSliceDetector\n",
      "Loading existing model with checkpoint 6000 from dir /home/jorg/repository/dcnn_acdc/logs/20180824_13_06_44_sdvgg11_bn_f1p01_brier_umap_6KE_lr1e05/checkpoints\n"
     ]
    }
   ],
   "source": [
    "sdvgg = exper_hdl_umaps.load_checkpoint(exper_hdl_umaps.exper.run_args.log_dir)"
   ]
  },
  {
   "cell_type": "code",
   "execution_count": 42,
   "metadata": {},
   "outputs": [
    {
     "name": "stdout",
     "output_type": "stream",
     "text": [
      "Creating new model DegenerateSliceDetector\n",
      "Loading existing model with checkpoint 6000 from dir /home/jorg/repository/dcnn_acdc/logs/20180824_16_37_26_sdvgg11_bn_f1p01_brier_umap_6KE_lr1e05/checkpoints\n"
     ]
    }
   ],
   "source": [
    "sdvgg_l1 = exper_hdl_umaps_l1.load_checkpoint(exper_hdl_umaps_l1.exper.run_args.log_dir)"
   ]
  },
  {
   "cell_type": "code",
   "execution_count": null,
   "metadata": {},
   "outputs": [],
   "source": [
    "detect_dataset = create_dataset(TEST_FOLD, seg_exper_ensemble, type_of_map=\"u_map\", degenerate_type=\"mean\", \n",
    "                                pos_label=1)\n"
   ]
  },
  {
   "cell_type": "code",
   "execution_count": 59,
   "metadata": {},
   "outputs": [
    {
     "name": "stdout",
     "output_type": "stream",
     "text": [
      "INFO - Begin test run 17\n",
      "INFO - End test run 17 #slices=138: f1=0.797 - roc_auc=0.945 - pr_auc=0.955 - prec=0.959 - rec=0.681 - 0.93 seconds\n"
     ]
    }
   ],
   "source": [
    "exper_hdl_umaps_l1.test(data_set=detect_dataset, model=sdvgg_l1)"
   ]
  },
  {
   "cell_type": "code",
   "execution_count": 65,
   "metadata": {},
   "outputs": [],
   "source": [
    "test_id = exper_hdl_umaps.last_test_id\n",
    "\n",
    "precision, recall, thresholds = exper_hdl_umaps.test_stats[test_id][\"pr_curve\"]\n",
    "average_precision = exper_hdl_umaps.test_stats[test_id][\"pr_auc\"]"
   ]
  },
  {
   "cell_type": "code",
   "execution_count": 67,
   "metadata": {
    "collapsed": true
   },
   "outputs": [],
   "source": [
    "test_id = exper_hdl_umaps_l1.last_test_id\n",
    "\n",
    "precision, recall, thresholds = exper_hdl_umaps_l1.test_stats[test_id][\"pr_curve\"]\n",
    "average_precision = exper_hdl_umaps_l1.test_stats[test_id][\"pr_auc\"]"
   ]
  },
  {
   "cell_type": "code",
   "execution_count": 68,
   "metadata": {},
   "outputs": [
    {
     "data": {
      "text/plain": [
       "Text(0.5,1,u'2-class Precision-Recall curve: AP=0.96')"
      ]
     },
     "execution_count": 68,
     "metadata": {},
     "output_type": "execute_result"
    },
    {
     "data": {
      "image/png": "[encoded data removed]",
      "text/plain": [
       "<matplotlib.figure.Figure at 0x7fce37a99c50>"
      ]
     },
     "metadata": {},
     "output_type": "display_data"
    }
   ],
   "source": [
    "plt.step(recall, precision, color='b', alpha=0.2,\n",
    "         where='post')\n",
    "plt.fill_between(recall, precision, step='post', alpha=0.2,\n",
    "                 color='b')\n",
    "\n",
    "plt.xlabel('Recall')\n",
    "plt.ylabel('Precision')\n",
    "plt.ylim([0.0, 1.05])\n",
    "plt.xlim([0.0, 1.0])\n",
    "plt.title('2-class Precision-Recall curve: AP={0:0.2f}'.format(\n",
    "          average_precision))"
   ]
  }
 ],
 "metadata": {
  "kernelspec": {
   "display_name": "Python 2",
   "language": "python",
   "name": "python2"
  },
  "language_info": {
   "codemirror_mode": {
    "name": "ipython",
    "version": 2
   },
   "file_extension": ".py",
   "mimetype": "text/x-python",
   "name": "python",
   "nbconvert_exporter": "python",
   "pygments_lexer": "ipython2",
   "version": "2.7.14"
  }
 },
 "nbformat": 4,
 "nbformat_minor": 2
}
