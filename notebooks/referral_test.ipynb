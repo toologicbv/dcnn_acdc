{
 "cells": [
  {
   "cell_type": "code",
   "execution_count": 1,
   "metadata": {},
   "outputs": [],
   "source": [
    "\n",
    "from __future__ import print_function\n",
    "\n",
    "import sys\n",
    "\n",
    "sys.path.extend(['/home/jorg/repository/dcnn_acdc'])\n",
    "\n",
    "import matplotlib\n",
    "import matplotlib.pyplot as plt\n",
    "\n",
    "from matplotlib import cm\n",
    "\n",
    "\n",
    "from datetime import datetime\n",
    "from pytz import timezone\n",
    "import itertools\n",
    "import copy\n",
    "\n",
    "import SimpleITK as sitk\n",
    "import numpy as np\n",
    "import torch\n",
    "from torch.autograd import Variable\n",
    "import torch.nn as nn\n",
    "import torch.nn.functional as F\n",
    "import torch.optim as optim\n",
    "from torch.nn import init\n",
    "\n",
    "import numpy as np\n",
    "import dill\n",
    "import os\n",
    "import glob\n",
    "from collections import OrderedDict\n",
    "\n",
    "from in_out.load_data import ACDC2017DataSet\n",
    "from config.config import config\n",
    "from utils.experiment import Experiment, ExperimentHandler\n",
    "from utils.batch_handlers import TwoDimBatchHandler\n",
    "from utils.test_handler import ACDC2017TestHandler, test_ensemble\n",
    "from utils.test_results import TestResults\n",
    "from plotting.learning_curves import loss_plot\n",
    "from plotting.uncertainty_plots import analyze_slices\n",
    "from plotting.slice_outliers_plots import plot_outlier_slice_hists\n",
    "from utils.generate_uncertainty_maps import ImageOutliers\n",
    "\n",
    "from models.dilated_cnn import BaseDilated2DCNN\n",
    "\n",
    "%matplotlib inline\n",
    "%load_ext autoreload\n",
    "%autoreload 2"
   ]
  },
  {
   "cell_type": "code",
   "execution_count": 2,
   "metadata": {
    "collapsed": true
   },
   "outputs": [],
   "source": [
    "ROOT_DIR = \"/home/jorg/repository/dcnn_acdc\"\n",
    "LOG_DIR = os.path.join(ROOT_DIR, \"logs\")\n",
    "CYCLE_OFFSET = 100000\n",
    "# set seeds\n",
    "SEED = 4325\n",
    "torch.manual_seed(SEED)\n",
    "torch.cuda.manual_seed(SEED)\n",
    "torch.backends.cudnn.enabled = True\n",
    "np.random.seed(SEED)\n",
    "\n",
    "# IMPORTANT - THE FOLD WE'RE USING FOR TESTING. NOTE: Training and testing fold should be the same\n",
    "# we raise an error in the test_ensemble method if this is not the case!\n",
    "TEST_FOLD = 0\n",
    "\n",
    "# baseline: \n",
    "# exp_base = {2: \"20180328_10_53_16_dcnnv1_150000E_lr2e02\",\n",
    "#            0: \"20180330_09_56_39_dcnnv1_150000E_lr2e02\"}\n",
    "# exp_base_model = os.path.join(LOG_DIR, exp_base[TEST_FOLD])\n",
    "\n",
    "# MC dropout models\n",
    "# Fold 2: \n",
    "# Fold 0: 20180413_16_36_58_dcnn_mcv1_150000E_lr2e02\n",
    "exp_mc005 = {2: \"\",\n",
    "             0: \"20180413_16_36_58_dcnn_mcv1_150000E_lr2e02\"}\n",
    "exp_mc005_path = os.path.join(LOG_DIR, exp_mc005[TEST_FOLD])\n",
    "\n",
    "# MC dropout models\n",
    "# Fold 2: \n",
    "# Fold 0: 20180413_16_36_58_dcnn_mcv1_150000E_lr2e02\n",
    "exp_mc01 = {2: \"\",\n",
    "            0: \"20180416_08_25_43_dcnn_mcv1_150000E_lr2e02\"}\n",
    "exp_mc01_path = os.path.join(LOG_DIR, exp_mc01[TEST_FOLD])\n",
    "\n",
    "\n",
    "# This model was retrained on checkpoint 140000 of the baseline MC model 20180413_16_36_58_dcnn_mcv1_150000E_lr2e02\n",
    "# @epoch0-> generate uMaps, trained for 20,000 epochs where uMaps are re-generated each 10,000 iterations\n",
    "# IMPORTANT: the model was ONLY trained on outlier slices for 20,000 epochs (after pre-training of 140,000)\n",
    "# Fold 2: \n",
    "# Fold 0: 20180413_17_03_22_dcnn_mcv1_150000E_lr2e02\n",
    "exp_mc005_expert1 = {2: \"\",\n",
    "                     0: \"20180417_17_43_20_dcnn_mcv1_20000E_lr2e02\"}\n",
    "exp_mc005_expert1_path = os.path.join(LOG_DIR, exp_mc005_expert1[TEST_FOLD])\n",
    "\n",
    "# Fold 2: \n",
    "# Fold 0: 20180418_15_02_05_dcnn_mcv1_150000E_lr2e02\n",
    "exp_mc01_brier = {2: \"\",\n",
    "                    0: \"20180418_15_02_05_dcnn_mcv1_150000E_lr2e02\"}\n",
    "exp_mc01_brier_path = os.path.join(LOG_DIR, exp_mc01_brier[TEST_FOLD])"
   ]
  },
  {
   "cell_type": "code",
   "execution_count": 3,
   "metadata": {},
   "outputs": [
    {
     "name": "stderr",
     "output_type": "stream",
     "text": [
      "\r",
      "  0%|          | 0/25 [00:00<?, ?it/s]"
     ]
    },
    {
     "name": "stdout",
     "output_type": "stream",
     "text": [
      "Load experiment from /home/jorg/repository/dcnn_acdc/logs/20180413_16_36_58_dcnn_mcv1_150000E_lr2e02/stats/exper_stats.dll\n",
      "Model name MC-dropout fold-0 (p=0.05)\n",
      "Load experiment from /home/jorg/repository/dcnn_acdc/logs/20180416_08_25_43_dcnn_mcv1_150000E_lr2e02/stats/exper_stats.dll\n",
      "Model name MC-dropout fold-0 (p=0.1)\n",
      "Load experiment from /home/jorg/repository/dcnn_acdc/logs/20180417_17_43_20_dcnn_mcv1_20000E_lr2e02/stats/exper_stats.dll\n",
      "Model name MC-dropout-expert1 fold-10000 (p=0)\n",
      "Load experiment from /home/jorg/repository/dcnn_acdc/logs/20180418_15_02_05_dcnn_mcv1_150000E_lr2e02/stats/exper_stats.dll\n",
      "Model name MC-dropout brier fold-0 (p=0.1)\n",
      "INFO - Testhandler - >>> Search in val-dir for /home/jorg/repository/dcnn_acdc/data/Folds/fold0/validate/images_iso/*patient*.mhd <<<\n",
      "INFO - File list contains 50 files, hence 25 patients\n"
     ]
    },
    {
     "name": "stderr",
     "output_type": "stream",
     "text": [
      "100%|██████████| 25/25 [00:01<00:00, 16.48it/s]"
     ]
    },
    {
     "name": "stdout",
     "output_type": "stream",
     "text": [
      "INFO - Successfully loaded 25 ED/ES patient pairs\n"
     ]
    },
    {
     "name": "stderr",
     "output_type": "stream",
     "text": [
      "\n"
     ]
    }
   ],
   "source": [
    "exper_mc005 = ExperimentHandler.load_experiment(exp_mc005_path)\n",
    "exper_hdl_mc005 = ExperimentHandler(exper_mc005, use_logfile=False)\n",
    "exper_hdl_mc005.set_root_dir(ROOT_DIR)\n",
    "exper_hdl_mc005.set_model_name(\"MC-dropout fold-{} (p={})\".format(exper_hdl_mc005.exper.run_args.fold_ids[0],\n",
    "    exper_hdl_mc005.exper.run_args.drop_prob))\n",
    "print(\"Model name {}\".format(exper_hdl_mc005.exper.model_name))\n",
    "\n",
    "exper_mc01 = ExperimentHandler.load_experiment(exp_mc01_path)\n",
    "exper_hdl_mc01 = ExperimentHandler(exper_mc01, use_logfile=False)\n",
    "exper_hdl_mc01.set_root_dir(ROOT_DIR)\n",
    "exper_hdl_mc01.set_model_name(\"MC-dropout fold-{} (p={})\".format(exper_hdl_mc01.exper.run_args.fold_ids[0],\n",
    "    exper_hdl_mc01.exper.run_args.drop_prob))\n",
    "print(\"Model name {}\".format(exper_hdl_mc01.exper.model_name))\n",
    "\n",
    "exper_mc005_expert1 = ExperimentHandler.load_experiment(exp_mc005_expert1_path)\n",
    "exper_hdl_mc005_expert1 = ExperimentHandler(exper_mc005_expert1, use_logfile=False)\n",
    "exper_hdl_mc005_expert1.set_root_dir(ROOT_DIR)\n",
    "exper_hdl_mc005_expert1.set_model_name(\"MC-dropout-expert1 fold-{} (p={})\".format(\n",
    "                                     exper_hdl_mc005_expert1.exper.run_args.chkpnt_freq,\n",
    "                                     exper_hdl_mc005_expert1.exper.run_args.fold_ids[0],\n",
    "                                     exper_hdl_mc005_expert1.exper.run_args.drop_prob))\n",
    "print(\"Model name {}\".format(exper_hdl_mc005_expert1.exper.model_name))\n",
    "\n",
    "exper_mc01_brier = ExperimentHandler.load_experiment(exp_mc01_brier_path)\n",
    "exper_hdl_mc01_brier = ExperimentHandler(exper_mc01_brier, use_logfile=False)\n",
    "exper_hdl_mc01_brier.set_root_dir(ROOT_DIR)\n",
    "exper_hdl_mc01_brier.set_model_name(\"MC-dropout brier fold-{} (p={})\".format(\n",
    "                                exper_hdl_mc01_brier.exper.run_args.fold_ids[0],\n",
    "                                exper_hdl_mc01_brier.exper.run_args.drop_prob))\n",
    "print(\"Model name {}\".format(exper_hdl_mc01_brier.exper.model_name))\n",
    "\n",
    "try:\n",
    "    del test_set\n",
    "except:\n",
    "    pass\n",
    "\n",
    "test_set = ACDC2017TestHandler(exper_config=exper_hdl_mc005.exper.config, \n",
    "                               search_mask=config.dflt_image_name + \".mhd\", fold_ids=[TEST_FOLD],\n",
    "                               debug=False, batch_size=25, use_cuda=True, load_train=False, load_val=True,\n",
    "                               use_iso_path=True)"
   ]
  },
  {
   "cell_type": "code",
   "execution_count": 4,
   "metadata": {
    "scrolled": true
   },
   "outputs": [
    {
     "name": "stdout",
     "output_type": "stream",
     "text": [
      "Loading existing model loaded from checkpoint dir /home/jorg/repository/dcnn_acdc/logs/20180418_15_02_05_dcnn_mcv1_150000E_lr2e02/checkpoints\n",
      "Evaluating model MC-dropout brier fold-0 (p=0.1) - runID 1\n",
      "INFO - Running test on 5 images with model from checkpoint 150000\n",
      "Image 21-patient096 - Test accuracy: test loss -2.210\t  dice(RV/Myo/LV): ES 0.88/0.88/0.90 --- ED 0.94/0.87/0.97\n",
      "Image 21 - Test accuracy: test loss -2.210\t Hausdorff(RV/Myo/LV): ES 12.52/12.52/19.55 --- ED 10.26/24.44/5.19\n",
      "Image 22-patient097 - Test accuracy: test loss -2.810\t  dice(RV/Myo/LV): ES 0.85/0.90/0.94 --- ED 0.94/0.87/0.97\n",
      "Image 22 - Test accuracy: test loss -2.810\t Hausdorff(RV/Myo/LV): ES 13.06/9.39/5.60 --- ED 9.80/5.60/5.77\n",
      "Image 23-patient098 - Test accuracy: test loss -2.138\t  dice(RV/Myo/LV): ES 0.91/0.89/0.94 --- ED 0.92/0.86/0.92\n",
      "Image 23 - Test accuracy: test loss -2.138\t Hausdorff(RV/Myo/LV): ES 16.09/26.04/5.05 --- ED 9.90/12.29/23.84\n",
      "Image 24-patient099 - Test accuracy: test loss -1.199\t  dice(RV/Myo/LV): ES 0.85/0.88/0.92 --- ED 0.95/0.86/0.96\n",
      "Image 24 - Test accuracy: test loss -1.199\t Hausdorff(RV/Myo/LV): ES 13.04/12.89/10.17 --- ED 10.48/10.10/8.01\n",
      "Image 25-patient100 - Test accuracy: test loss -1.099\t  dice(RV/Myo/LV): ES 0.73/0.89/0.93 --- ED 0.88/0.88/0.96\n",
      "Image 25 - Test accuracy: test loss -1.099\t Hausdorff(RV/Myo/LV): ES 11.80/23.92/2.80 --- ED 15.59/28.56/12.52\n",
      "(2, 8)\n",
      "Test accuracy: \t dice(RV/Myo/LV): ES 0.84 (0.06)/0.89 (0.01)/0.92 (0.01) --- ED 0.93 (0.02)/0.87 (0.01)/0.96 (0.02)\n",
      "Test accuracy: \t Hausdorff(RV/Myo/LV): ES 13.30 (1.47)/16.95 (6.70)/8.63 (5.96) --- ED 11.21 (2.21)/16.20 (8.78)/11.07 (6.89)\n",
      "INFO - generating statistics for 5 run(s). May take a while\n",
      "Ready\n"
     ]
    }
   ],
   "source": [
    "mc_samples = 10\n",
    "sample_weights = True\n",
    "store_details = True\n",
    "image_range = [20,21,22,23,24]\n",
    "if not sample_weights:\n",
    "    generate_stats = False\n",
    "else:\n",
    "    generate_stats = True\n",
    "save_results = False\n",
    "checkpoints = [150000]  #  [150000]\n",
    "use_uncertainty = False\n",
    "\n",
    "exper_handler = exper_hdl_mc01_brier\n",
    "\n",
    "exper_handler.logger = None   # exper_hdl_base\n",
    "exper_handler.exper.outliers_per_epoch = None\n",
    "\n",
    "test_ensemble(test_set, exper_handler, mc_samples=mc_samples, sample_weights=sample_weights,  \n",
    "              use_uncertainty=use_uncertainty, referral_threshold=0., image_range=image_range, \n",
    "              checkpoints=checkpoints,\n",
    "              verbose=False, reset_results=True, store_details=store_details, \n",
    "              generate_stats=generate_stats, save_results=save_results, do_filter=True)\n",
    "\n",
    "\n",
    "    \n",
    "print(\"Ready\")"
   ]
  },
  {
   "cell_type": "code",
   "execution_count": 89,
   "metadata": {},
   "outputs": [
    {
     "name": "stdout",
     "output_type": "stream",
     "text": [
      "(8, 223, 264, 8)\n",
      "(223, 264)\n",
      "(10, 223, 264)\n"
     ]
    }
   ],
   "source": [
    "mc_probs = exper_handler.test_results.mc_pred_probs[0]\n",
    "std_stats = exper_handler.test_results.stddev_maps[0]\n",
    "print(std_stats.shape)\n",
    "sliceid = 7\n",
    "c=1  # ES-RV\n",
    "# get probs from slice 8 [#samples, classes, width, height, #slices]\n",
    "mc_probs_slice = mc_probs[:, 1, :, :, 7]\n",
    "# get stddev-maps [classes, width, height, #slices]\n",
    "std_stats_slice = std_stats[1, :, :, 7]\n",
    "print(std_stats_slice.shape)\n",
    "print(mc_probs_slice.shape)"
   ]
  },
  {
   "cell_type": "code",
   "execution_count": 195,
   "metadata": {},
   "outputs": [
    {
     "name": "stdout",
     "output_type": "stream",
     "text": [
      "INFO - Loading results from file /home/jorg/repository/dcnn_acdc/logs/20180418_15_02_05_dcnn_mcv1_150000E_lr2e02//stats/test_results_25imgs_mc10_fold0_ep150000.dll\n",
      "INFO - Successfully loaded TestResult object.\n",
      "Num of images in test set 25\n"
     ]
    }
   ],
   "source": [
    "exper_handler = exper_hdl_mc01_brier\n",
    "t_path = \"/home/jorg/repository/dcnn_acdc/logs/20180418_15_02_05_dcnn_mcv1_150000E_lr2e02//stats/test_results_25imgs_mc10_fold0_ep150000.dll\"\n",
    "test_results = TestResults.load_results(t_path)\n",
    "print(\"Num of images in test set {}\".format(len(test_results.image_ids)))\n",
    "exper_handler.test_results = test_results"
   ]
  },
  {
   "cell_type": "code",
   "execution_count": 196,
   "metadata": {
    "scrolled": false
   },
   "outputs": [
    {
     "name": "stdout",
     "output_type": "stream",
     "text": [
      "INFO - No image range specified using test_result object.image_ids [0, 1, 2, 3, 4, 5, 6, 7, 8, 9, 10, 11, 12, 13, 14, 15, 16, 17, 18, 19, 20, 21, 22, 23, 24]\n",
      "--------- Outlier slices -------------\n",
      "[ 1 10]\n",
      "INFO - Successfully saved fig /home/jorg/repository/dcnn_acdc/logs/20180418_15_02_05_dcnn_mcv1_150000E_lr2e02/figures/patient016/slice_analysis_img_0_threshold0_1.pdf\n",
      "--------- Outlier slices -------------\n",
      "[1 2 4 7]\n",
      "INFO - Successfully saved fig /home/jorg/repository/dcnn_acdc/logs/20180418_15_02_05_dcnn_mcv1_150000E_lr2e02/figures/patient017/slice_analysis_img_1_threshold0_1.pdf\n",
      "--------- Outlier slices -------------\n",
      "[8]\n",
      "INFO - Successfully saved fig /home/jorg/repository/dcnn_acdc/logs/20180418_15_02_05_dcnn_mcv1_150000E_lr2e02/figures/patient018/slice_analysis_img_2_threshold0_1.pdf\n",
      "--------- Outlier slices -------------\n",
      "[11]\n",
      "INFO - Successfully saved fig /home/jorg/repository/dcnn_acdc/logs/20180418_15_02_05_dcnn_mcv1_150000E_lr2e02/figures/patient019/slice_analysis_img_3_threshold0_1.pdf\n",
      "--------- Outlier slices -------------\n",
      "[1 2 3 4 5 6 7 8]\n",
      "INFO - Successfully saved fig /home/jorg/repository/dcnn_acdc/logs/20180418_15_02_05_dcnn_mcv1_150000E_lr2e02/figures/patient020/slice_analysis_img_4_threshold0_1.pdf\n",
      "--------- Outlier slices -------------\n",
      "[8]\n",
      "INFO - Successfully saved fig /home/jorg/repository/dcnn_acdc/logs/20180418_15_02_05_dcnn_mcv1_150000E_lr2e02/figures/patient036/slice_analysis_img_5_threshold0_1.pdf\n",
      "--------- Outlier slices -------------\n",
      "[1 5 6 7]\n",
      "INFO - Successfully saved fig /home/jorg/repository/dcnn_acdc/logs/20180418_15_02_05_dcnn_mcv1_150000E_lr2e02/figures/patient037/slice_analysis_img_6_threshold0_1.pdf\n",
      "INFO - Successfully saved fig /home/jorg/repository/dcnn_acdc/logs/20180418_15_02_05_dcnn_mcv1_150000E_lr2e02/figures/patient038/slice_analysis_img_7_threshold0_1.pdf\n",
      "--------- Outlier slices -------------\n",
      "[1 9]\n",
      "INFO - Successfully saved fig /home/jorg/repository/dcnn_acdc/logs/20180418_15_02_05_dcnn_mcv1_150000E_lr2e02/figures/patient039/slice_analysis_img_8_threshold0_1.pdf\n",
      "--------- Outlier slices -------------\n",
      "[1]\n",
      "INFO - Successfully saved fig /home/jorg/repository/dcnn_acdc/logs/20180418_15_02_05_dcnn_mcv1_150000E_lr2e02/figures/patient040/slice_analysis_img_9_threshold0_1.pdf\n",
      "--------- Outlier slices -------------\n",
      "[9]\n",
      "INFO - Successfully saved fig /home/jorg/repository/dcnn_acdc/logs/20180418_15_02_05_dcnn_mcv1_150000E_lr2e02/figures/patient056/slice_analysis_img_10_threshold0_1.pdf\n",
      "--------- Outlier slices -------------\n",
      "[1 3 8]\n",
      "INFO - Successfully saved fig /home/jorg/repository/dcnn_acdc/logs/20180418_15_02_05_dcnn_mcv1_150000E_lr2e02/figures/patient057/slice_analysis_img_11_threshold0_1.pdf\n",
      "--------- Outlier slices -------------\n",
      "[9]\n",
      "INFO - Successfully saved fig /home/jorg/repository/dcnn_acdc/logs/20180418_15_02_05_dcnn_mcv1_150000E_lr2e02/figures/patient058/slice_analysis_img_12_threshold0_1.pdf\n",
      "--------- Outlier slices -------------\n",
      "[9]\n",
      "INFO - Successfully saved fig /home/jorg/repository/dcnn_acdc/logs/20180418_15_02_05_dcnn_mcv1_150000E_lr2e02/figures/patient059/slice_analysis_img_13_threshold0_1.pdf\n",
      "--------- Outlier slices -------------\n",
      "[1]\n",
      "INFO - Successfully saved fig /home/jorg/repository/dcnn_acdc/logs/20180418_15_02_05_dcnn_mcv1_150000E_lr2e02/figures/patient060/slice_analysis_img_14_threshold0_1.pdf\n",
      "--------- Outlier slices -------------\n",
      "[1 2 8]\n",
      "INFO - Successfully saved fig /home/jorg/repository/dcnn_acdc/logs/20180418_15_02_05_dcnn_mcv1_150000E_lr2e02/figures/patient076/slice_analysis_img_15_threshold0_1.pdf\n",
      "--------- Outlier slices -------------\n",
      "[2 8]\n",
      "INFO - Successfully saved fig /home/jorg/repository/dcnn_acdc/logs/20180418_15_02_05_dcnn_mcv1_150000E_lr2e02/figures/patient077/slice_analysis_img_16_threshold0_1.pdf\n",
      "INFO - Successfully saved fig /home/jorg/repository/dcnn_acdc/logs/20180418_15_02_05_dcnn_mcv1_150000E_lr2e02/figures/patient078/slice_analysis_img_17_threshold0_1.pdf\n",
      "INFO - Successfully saved fig /home/jorg/repository/dcnn_acdc/logs/20180418_15_02_05_dcnn_mcv1_150000E_lr2e02/figures/patient079/slice_analysis_img_18_threshold0_1.pdf\n",
      "--------- Outlier slices -------------\n",
      "[1 6]\n",
      "INFO - Successfully saved fig /home/jorg/repository/dcnn_acdc/logs/20180418_15_02_05_dcnn_mcv1_150000E_lr2e02/figures/patient080/slice_analysis_img_19_threshold0_1.pdf\n",
      "--------- Outlier slices -------------\n",
      "[1 3 4 6]\n",
      "INFO - Successfully saved fig /home/jorg/repository/dcnn_acdc/logs/20180418_15_02_05_dcnn_mcv1_150000E_lr2e02/figures/patient096/slice_analysis_img_20_threshold0_1.pdf\n",
      "--------- Outlier slices -------------\n",
      "[1 2]\n",
      "INFO - Successfully saved fig /home/jorg/repository/dcnn_acdc/logs/20180418_15_02_05_dcnn_mcv1_150000E_lr2e02/figures/patient097/slice_analysis_img_21_threshold0_1.pdf\n",
      "--------- Outlier slices -------------\n",
      "[1]\n",
      "INFO - Successfully saved fig /home/jorg/repository/dcnn_acdc/logs/20180418_15_02_05_dcnn_mcv1_150000E_lr2e02/figures/patient098/slice_analysis_img_22_threshold0_1.pdf\n",
      "--------- Outlier slices -------------\n",
      "[ 1  4 15 16]\n",
      "INFO - Successfully saved fig /home/jorg/repository/dcnn_acdc/logs/20180418_15_02_05_dcnn_mcv1_150000E_lr2e02/figures/patient099/slice_analysis_img_23_threshold0_1.pdf\n",
      "--------- Outlier slices -------------\n",
      "[5 7 8]\n",
      "INFO - Successfully saved fig /home/jorg/repository/dcnn_acdc/logs/20180418_15_02_05_dcnn_mcv1_150000E_lr2e02/figures/patient100/slice_analysis_img_24_threshold0_1.pdf\n"
     ]
    }
   ],
   "source": [
    "image_range = None\n",
    "u_type = \"stddev\"\n",
    "\n",
    "analyze_slices(exper_handler, image_range=image_range, do_save=True, do_show=False, u_type=u_type,\n",
    "              use_high_threshold=True, translate_img_range=True)"
   ]
  },
  {
   "cell_type": "code",
   "execution_count": 5,
   "metadata": {},
   "outputs": [
    {
     "name": "stdout",
     "output_type": "stream",
     "text": [
      "Rows/columns 14/4\n",
      "p-values ttest/Mann-Withney-U 0.00E+00/0.00E+00 \n",
      "INFO - Successfully saved fig /home/jorg/repository/dcnn_acdc/logs/20180418_15_02_05_dcnn_mcv1_150000E_lr2e02/figures/patient096/analysis_seg_err_slice1_mc10.pdf\n",
      "p-values ttest/Mann-Withney-U 0.00E+00/4.67E-187 \n",
      "INFO - Successfully saved fig /home/jorg/repository/dcnn_acdc/logs/20180418_15_02_05_dcnn_mcv1_150000E_lr2e02/figures/patient096/analysis_seg_err_slice2_mc10.pdf\n",
      "p-values ttest/Mann-Withney-U 0.00E+00/2.36E-124 \n",
      "INFO - Successfully saved fig /home/jorg/repository/dcnn_acdc/logs/20180418_15_02_05_dcnn_mcv1_150000E_lr2e02/figures/patient096/analysis_seg_err_slice3_mc10.pdf\n",
      "p-values ttest/Mann-Withney-U 0.00E+00/4.14E-117 \n",
      "INFO - Successfully saved fig /home/jorg/repository/dcnn_acdc/logs/20180418_15_02_05_dcnn_mcv1_150000E_lr2e02/figures/patient096/analysis_seg_err_slice4_mc10.pdf\n",
      "p-values ttest/Mann-Withney-U 0.00E+00/1.19E-145 \n",
      "INFO - Successfully saved fig /home/jorg/repository/dcnn_acdc/logs/20180418_15_02_05_dcnn_mcv1_150000E_lr2e02/figures/patient096/analysis_seg_err_slice5_mc10.pdf\n",
      "p-values ttest/Mann-Withney-U 0.00E+00/1.82E-128 \n",
      "INFO - Successfully saved fig /home/jorg/repository/dcnn_acdc/logs/20180418_15_02_05_dcnn_mcv1_150000E_lr2e02/figures/patient096/analysis_seg_err_slice6_mc10.pdf\n",
      "p-values ttest/Mann-Withney-U 0.00E+00/9.46E-189 \n",
      "INFO - Successfully saved fig /home/jorg/repository/dcnn_acdc/logs/20180418_15_02_05_dcnn_mcv1_150000E_lr2e02/figures/patient096/analysis_seg_err_slice7_mc10.pdf\n",
      "p-values ttest/Mann-Withney-U 0.00E+00/3.17E-140 \n",
      "INFO - Successfully saved fig /home/jorg/repository/dcnn_acdc/logs/20180418_15_02_05_dcnn_mcv1_150000E_lr2e02/figures/patient096/analysis_seg_err_slice8_mc10.pdf\n",
      "p-values ttest/Mann-Withney-U 0.00E+00/6.87E-114 \n",
      "INFO - Successfully saved fig /home/jorg/repository/dcnn_acdc/logs/20180418_15_02_05_dcnn_mcv1_150000E_lr2e02/figures/patient096/analysis_seg_err_slice9_mc10.pdf\n",
      "p-values ttest/Mann-Withney-U 0.00E+00/6.25E-214 \n",
      "INFO - Successfully saved fig /home/jorg/repository/dcnn_acdc/logs/20180418_15_02_05_dcnn_mcv1_150000E_lr2e02/figures/patient096/analysis_seg_err_slice10_mc10.pdf\n",
      "p-values ttest/Mann-Withney-U 0.00E+00/9.05E-183 \n",
      "INFO - Successfully saved fig /home/jorg/repository/dcnn_acdc/logs/20180418_15_02_05_dcnn_mcv1_150000E_lr2e02/figures/patient096/analysis_seg_err_slice11_mc10.pdf\n",
      "p-values ttest/Mann-Withney-U 0.00E+00/2.38E-99 \n",
      "INFO - Successfully saved fig /home/jorg/repository/dcnn_acdc/logs/20180418_15_02_05_dcnn_mcv1_150000E_lr2e02/figures/patient096/analysis_seg_err_slice12_mc10.pdf\n",
      "p-values ttest/Mann-Withney-U 0.00E+00/3.95E-88 \n",
      "INFO - Successfully saved fig /home/jorg/repository/dcnn_acdc/logs/20180418_15_02_05_dcnn_mcv1_150000E_lr2e02/figures/patient096/analysis_seg_err_slice13_mc10.pdf\n",
      "p-values ttest/Mann-Withney-U 0.00E+00/8.99E-85 \n",
      "INFO - Successfully saved fig /home/jorg/repository/dcnn_acdc/logs/20180418_15_02_05_dcnn_mcv1_150000E_lr2e02/figures/patient096/analysis_seg_err_slice14_mc10.pdf\n",
      "p-values ttest/Mann-Withney-U 0.00E+00/1.03E-87 \n",
      "INFO - Successfully saved fig /home/jorg/repository/dcnn_acdc/logs/20180418_15_02_05_dcnn_mcv1_150000E_lr2e02/figures/patient096/analysis_seg_err_slice15_mc10.pdf\n",
      "p-values ttest/Mann-Withney-U 0.00E+00/3.06E-63 \n",
      "INFO - Successfully saved fig /home/jorg/repository/dcnn_acdc/logs/20180418_15_02_05_dcnn_mcv1_150000E_lr2e02/figures/patient096/analysis_seg_err_slice16_mc10.pdf\n",
      "p-values ttest/Mann-Withney-U 0.00E+00/8.92E-40 \n",
      "INFO - Successfully saved fig /home/jorg/repository/dcnn_acdc/logs/20180418_15_02_05_dcnn_mcv1_150000E_lr2e02/figures/patient096/analysis_seg_err_slice17_mc10.pdf\n",
      "p-values ttest/Mann-Withney-U 0.00E+00/5.92E-121 \n",
      "INFO - Successfully saved fig /home/jorg/repository/dcnn_acdc/logs/20180418_15_02_05_dcnn_mcv1_150000E_lr2e02/figures/patient096/analysis_seg_err_slice18_mc10.pdf\n",
      "Rows/columns 14/4\n",
      "p-values ttest/Mann-Withney-U 0.00E+00/2.68E-185 \n",
      "INFO - Successfully saved fig /home/jorg/repository/dcnn_acdc/logs/20180418_15_02_05_dcnn_mcv1_150000E_lr2e02/figures/patient097/analysis_seg_err_slice1_mc10.pdf\n",
      "p-values ttest/Mann-Withney-U 0.00E+00/1.17E-164 \n",
      "INFO - Successfully saved fig /home/jorg/repository/dcnn_acdc/logs/20180418_15_02_05_dcnn_mcv1_150000E_lr2e02/figures/patient097/analysis_seg_err_slice2_mc10.pdf\n",
      "p-values ttest/Mann-Withney-U 0.00E+00/8.49E-144 \n",
      "INFO - Successfully saved fig /home/jorg/repository/dcnn_acdc/logs/20180418_15_02_05_dcnn_mcv1_150000E_lr2e02/figures/patient097/analysis_seg_err_slice3_mc10.pdf\n",
      "p-values ttest/Mann-Withney-U 0.00E+00/2.83E-138 \n",
      "INFO - Successfully saved fig /home/jorg/repository/dcnn_acdc/logs/20180418_15_02_05_dcnn_mcv1_150000E_lr2e02/figures/patient097/analysis_seg_err_slice4_mc10.pdf\n",
      "p-values ttest/Mann-Withney-U 0.00E+00/3.61E-134 \n",
      "INFO - Successfully saved fig /home/jorg/repository/dcnn_acdc/logs/20180418_15_02_05_dcnn_mcv1_150000E_lr2e02/figures/patient097/analysis_seg_err_slice5_mc10.pdf\n",
      "p-values ttest/Mann-Withney-U 0.00E+00/1.62E-71 \n",
      "INFO - Successfully saved fig /home/jorg/repository/dcnn_acdc/logs/20180418_15_02_05_dcnn_mcv1_150000E_lr2e02/figures/patient097/analysis_seg_err_slice6_mc10.pdf\n",
      "p-values ttest/Mann-Withney-U 0.00E+00/8.47E-71 \n",
      "INFO - Successfully saved fig /home/jorg/repository/dcnn_acdc/logs/20180418_15_02_05_dcnn_mcv1_150000E_lr2e02/figures/patient097/analysis_seg_err_slice7_mc10.pdf\n",
      "p-values ttest/Mann-Withney-U 0.00E+00/8.46E-78 \n",
      "INFO - Successfully saved fig /home/jorg/repository/dcnn_acdc/logs/20180418_15_02_05_dcnn_mcv1_150000E_lr2e02/figures/patient097/analysis_seg_err_slice8_mc10.pdf\n",
      "Rows/columns 14/4\n",
      "p-values ttest/Mann-Withney-U 0.00E+00/1.26E-191 \n",
      "INFO - Successfully saved fig /home/jorg/repository/dcnn_acdc/logs/20180418_15_02_05_dcnn_mcv1_150000E_lr2e02/figures/patient098/analysis_seg_err_slice1_mc10.pdf\n",
      "p-values ttest/Mann-Withney-U 0.00E+00/1.14E-218 \n",
      "INFO - Successfully saved fig /home/jorg/repository/dcnn_acdc/logs/20180418_15_02_05_dcnn_mcv1_150000E_lr2e02/figures/patient098/analysis_seg_err_slice2_mc10.pdf\n",
      "p-values ttest/Mann-Withney-U 0.00E+00/6.55E-130 \n",
      "INFO - Successfully saved fig /home/jorg/repository/dcnn_acdc/logs/20180418_15_02_05_dcnn_mcv1_150000E_lr2e02/figures/patient098/analysis_seg_err_slice3_mc10.pdf\n",
      "p-values ttest/Mann-Withney-U 0.00E+00/1.73E-119 \n",
      "INFO - Successfully saved fig /home/jorg/repository/dcnn_acdc/logs/20180418_15_02_05_dcnn_mcv1_150000E_lr2e02/figures/patient098/analysis_seg_err_slice4_mc10.pdf\n",
      "p-values ttest/Mann-Withney-U 0.00E+00/1.67E-109 \n",
      "INFO - Successfully saved fig /home/jorg/repository/dcnn_acdc/logs/20180418_15_02_05_dcnn_mcv1_150000E_lr2e02/figures/patient098/analysis_seg_err_slice5_mc10.pdf\n",
      "p-values ttest/Mann-Withney-U 0.00E+00/2.25E-127 \n",
      "INFO - Successfully saved fig /home/jorg/repository/dcnn_acdc/logs/20180418_15_02_05_dcnn_mcv1_150000E_lr2e02/figures/patient098/analysis_seg_err_slice6_mc10.pdf\n",
      "p-values ttest/Mann-Withney-U 0.00E+00/2.72E-182 \n",
      "INFO - Successfully saved fig /home/jorg/repository/dcnn_acdc/logs/20180418_15_02_05_dcnn_mcv1_150000E_lr2e02/figures/patient098/analysis_seg_err_slice7_mc10.pdf\n",
      "Rows/columns 14/4\n",
      "p-values ttest/Mann-Withney-U 0.00E+00/7.00E-164 \n",
      "INFO - Successfully saved fig /home/jorg/repository/dcnn_acdc/logs/20180418_15_02_05_dcnn_mcv1_150000E_lr2e02/figures/patient099/analysis_seg_err_slice1_mc10.pdf\n",
      "p-values ttest/Mann-Withney-U 0.00E+00/4.02E-93 \n",
      "INFO - Successfully saved fig /home/jorg/repository/dcnn_acdc/logs/20180418_15_02_05_dcnn_mcv1_150000E_lr2e02/figures/patient099/analysis_seg_err_slice2_mc10.pdf\n",
      "p-values ttest/Mann-Withney-U 0.00E+00/5.18E-110 \n",
      "INFO - Successfully saved fig /home/jorg/repository/dcnn_acdc/logs/20180418_15_02_05_dcnn_mcv1_150000E_lr2e02/figures/patient099/analysis_seg_err_slice3_mc10.pdf\n",
      "p-values ttest/Mann-Withney-U 0.00E+00/5.04E-115 \n",
      "INFO - Successfully saved fig /home/jorg/repository/dcnn_acdc/logs/20180418_15_02_05_dcnn_mcv1_150000E_lr2e02/figures/patient099/analysis_seg_err_slice4_mc10.pdf\n",
      "p-values ttest/Mann-Withney-U 0.00E+00/4.49E-121 \n",
      "INFO - Successfully saved fig /home/jorg/repository/dcnn_acdc/logs/20180418_15_02_05_dcnn_mcv1_150000E_lr2e02/figures/patient099/analysis_seg_err_slice5_mc10.pdf\n",
      "p-values ttest/Mann-Withney-U 0.00E+00/6.46E-114 \n",
      "INFO - Successfully saved fig /home/jorg/repository/dcnn_acdc/logs/20180418_15_02_05_dcnn_mcv1_150000E_lr2e02/figures/patient099/analysis_seg_err_slice6_mc10.pdf\n"
     ]
    },
    {
     "name": "stdout",
     "output_type": "stream",
     "text": [
      "p-values ttest/Mann-Withney-U 0.00E+00/2.46E-98 \n",
      "INFO - Successfully saved fig /home/jorg/repository/dcnn_acdc/logs/20180418_15_02_05_dcnn_mcv1_150000E_lr2e02/figures/patient099/analysis_seg_err_slice7_mc10.pdf\n",
      "p-values ttest/Mann-Withney-U 0.00E+00/3.57E-84 \n",
      "INFO - Successfully saved fig /home/jorg/repository/dcnn_acdc/logs/20180418_15_02_05_dcnn_mcv1_150000E_lr2e02/figures/patient099/analysis_seg_err_slice8_mc10.pdf\n",
      "p-values ttest/Mann-Withney-U 0.00E+00/3.10E-90 \n",
      "INFO - Successfully saved fig /home/jorg/repository/dcnn_acdc/logs/20180418_15_02_05_dcnn_mcv1_150000E_lr2e02/figures/patient099/analysis_seg_err_slice9_mc10.pdf\n",
      "p-values ttest/Mann-Withney-U 0.00E+00/7.81E-87 \n",
      "INFO - Successfully saved fig /home/jorg/repository/dcnn_acdc/logs/20180418_15_02_05_dcnn_mcv1_150000E_lr2e02/figures/patient099/analysis_seg_err_slice10_mc10.pdf\n",
      "p-values ttest/Mann-Withney-U 0.00E+00/3.68E-123 \n",
      "INFO - Successfully saved fig /home/jorg/repository/dcnn_acdc/logs/20180418_15_02_05_dcnn_mcv1_150000E_lr2e02/figures/patient099/analysis_seg_err_slice11_mc10.pdf\n",
      "p-values ttest/Mann-Withney-U 0.00E+00/4.99E-92 \n",
      "INFO - Successfully saved fig /home/jorg/repository/dcnn_acdc/logs/20180418_15_02_05_dcnn_mcv1_150000E_lr2e02/figures/patient099/analysis_seg_err_slice12_mc10.pdf\n",
      "p-values ttest/Mann-Withney-U 0.00E+00/4.53E-68 \n",
      "INFO - Successfully saved fig /home/jorg/repository/dcnn_acdc/logs/20180418_15_02_05_dcnn_mcv1_150000E_lr2e02/figures/patient099/analysis_seg_err_slice13_mc10.pdf\n",
      "p-values ttest/Mann-Withney-U 0.00E+00/3.49E-68 \n",
      "INFO - Successfully saved fig /home/jorg/repository/dcnn_acdc/logs/20180418_15_02_05_dcnn_mcv1_150000E_lr2e02/figures/patient099/analysis_seg_err_slice14_mc10.pdf\n",
      "p-values ttest/Mann-Withney-U 0.00E+00/1.17E-66 \n",
      "INFO - Successfully saved fig /home/jorg/repository/dcnn_acdc/logs/20180418_15_02_05_dcnn_mcv1_150000E_lr2e02/figures/patient099/analysis_seg_err_slice15_mc10.pdf\n",
      "p-values ttest/Mann-Withney-U 0.00E+00/1.35E-251 \n",
      "INFO - Successfully saved fig /home/jorg/repository/dcnn_acdc/logs/20180418_15_02_05_dcnn_mcv1_150000E_lr2e02/figures/patient099/analysis_seg_err_slice16_mc10.pdf\n",
      "Rows/columns 14/4\n",
      "p-values ttest/Mann-Withney-U 0.00E+00/2.91E-267 \n",
      "INFO - Successfully saved fig /home/jorg/repository/dcnn_acdc/logs/20180418_15_02_05_dcnn_mcv1_150000E_lr2e02/figures/patient100/analysis_seg_err_slice1_mc10.pdf\n",
      "p-values ttest/Mann-Withney-U 0.00E+00/6.44E-174 \n",
      "INFO - Successfully saved fig /home/jorg/repository/dcnn_acdc/logs/20180418_15_02_05_dcnn_mcv1_150000E_lr2e02/figures/patient100/analysis_seg_err_slice2_mc10.pdf\n",
      "p-values ttest/Mann-Withney-U 0.00E+00/1.87E-196 \n",
      "INFO - Successfully saved fig /home/jorg/repository/dcnn_acdc/logs/20180418_15_02_05_dcnn_mcv1_150000E_lr2e02/figures/patient100/analysis_seg_err_slice3_mc10.pdf\n",
      "p-values ttest/Mann-Withney-U 0.00E+00/2.97E-151 \n",
      "INFO - Successfully saved fig /home/jorg/repository/dcnn_acdc/logs/20180418_15_02_05_dcnn_mcv1_150000E_lr2e02/figures/patient100/analysis_seg_err_slice4_mc10.pdf\n",
      "p-values ttest/Mann-Withney-U 2.13E-263/2.85E-141 \n",
      "INFO - Successfully saved fig /home/jorg/repository/dcnn_acdc/logs/20180418_15_02_05_dcnn_mcv1_150000E_lr2e02/figures/patient100/analysis_seg_err_slice5_mc10.pdf\n",
      "p-values ttest/Mann-Withney-U 2.34E-204/2.83E-50 \n",
      "INFO - Successfully saved fig /home/jorg/repository/dcnn_acdc/logs/20180418_15_02_05_dcnn_mcv1_150000E_lr2e02/figures/patient100/analysis_seg_err_slice6_mc10.pdf\n",
      "p-values ttest/Mann-Withney-U 0.00E+00/9.40E-188 \n",
      "INFO - Successfully saved fig /home/jorg/repository/dcnn_acdc/logs/20180418_15_02_05_dcnn_mcv1_150000E_lr2e02/figures/patient100/analysis_seg_err_slice7_mc10.pdf\n",
      "p-values ttest/Mann-Withney-U 0.00E+00/0.00E+00 \n",
      "INFO - Successfully saved fig /home/jorg/repository/dcnn_acdc/logs/20180418_15_02_05_dcnn_mcv1_150000E_lr2e02/figures/patient100/analysis_seg_err_slice8_mc10.pdf\n",
      "INFO - Ready!\n"
     ]
    }
   ],
   "source": [
    "image_range = [20,21,22,23,24]\n",
    "errors_only = False\n",
    "\n",
    "for image_num in image_range:\n",
    "    exper_handler.test_results.visualize_uncertainty_histograms(image_num=image_num, width=20, height=60, \n",
    "                                                                info_type=\"uncertainty\",\n",
    "                                                                 do_save=True, slice_range=None,\n",
    "                                                                 std_threshold=0., errors_only=errors_only, \n",
    "                                                                 do_show=False, use_bald=True,\n",
    "                                                                 model_name = exper_handler.exper.model_name)\n",
    "                                                                 # model_name=\"MC-dropout (0.1)\") [0,1,2,3,4,5]\n",
    "print(\"INFO - Ready!\")"
   ]
  },
  {
   "cell_type": "code",
   "execution_count": 43,
   "metadata": {},
   "outputs": [
    {
     "name": "stdout",
     "output_type": "stream",
     "text": [
      "Loaded outlier stats for 1 training epochs (property=outliers_per_epoch, dictionary (key=epoch) with tuple (6 elements) and property=test_results_per_epoch, dict (key=epoch) with tuple (4))\n"
     ]
    }
   ],
   "source": [
    "exper_handler = exper_hdl_mc005\n",
    "exper_handler.get_outlier_stats(verbose=True)"
   ]
  },
  {
   "cell_type": "code",
   "execution_count": 44,
   "metadata": {},
   "outputs": [
    {
     "name": "stdout",
     "output_type": "stream",
     "text": [
      "Patient ID patient036\n",
      "{7: [1, 2, 3]}\n",
      "{6: [1], 7: [1, 2, 3]}\n"
     ]
    }
   ],
   "source": [
    "\n",
    "image_num = 5\n",
    "# geth the patient id for this image_num\n",
    "patient_id = test_set.img_file_names[image_num]\n",
    "print(\"Patient ID {}\".format(patient_id))\n",
    "# get the \"latest\" (max epoch) outlier statistics, tuple with 6 dictionaries\n",
    "outlier_stats = exper_handler.exper.outliers_per_epoch[exper_handler.exper.epoch_id]\n",
    "image_outliers = ImageOutliers(patient_id, outlier_stats)\n",
    "print(image_outliers.out_img_cls_es)\n",
    "print(image_outliers.out_img_cls_ed)"
   ]
  }
 ],
 "metadata": {
  "kernelspec": {
   "display_name": "Python 2",
   "language": "python",
   "name": "python2"
  },
  "language_info": {
   "codemirror_mode": {
    "name": "ipython",
    "version": 2
   },
   "file_extension": ".py",
   "mimetype": "text/x-python",
   "name": "python",
   "nbconvert_exporter": "python",
   "pygments_lexer": "ipython2",
   "version": "2.7.14"
  }
 },
 "nbformat": 4,
 "nbformat_minor": 2
}
