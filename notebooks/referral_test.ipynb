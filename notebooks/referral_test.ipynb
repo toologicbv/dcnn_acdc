{
 "cells": [
  {
   "cell_type": "code",
   "execution_count": 1,
   "metadata": {
    "collapsed": true
   },
   "outputs": [],
   "source": [
    "\n",
    "from __future__ import print_function\n",
    "\n",
    "import sys\n",
    "\n",
    "# sys.path.extend(['/home/jogi/git/repository/dcnn_acdc'])\n",
    "sys.path.extend(['/home/jorg/repository/dcnn_acdc'])\n",
    "\n",
    "import matplotlib\n",
    "import matplotlib.pyplot as plt\n",
    "\n",
    "from matplotlib import cm\n",
    "\n",
    "\n",
    "from datetime import datetime\n",
    "from pytz import timezone\n",
    "import itertools\n",
    "import copy\n",
    "\n",
    "import SimpleITK as sitk\n",
    "import numpy as np\n",
    "import torch\n",
    "from torch.autograd import Variable\n",
    "import torch.nn as nn\n",
    "import torch.nn.functional as F\n",
    "import torch.optim as optim\n",
    "from torch.nn import init\n",
    "\n",
    "import numpy as np\n",
    "import dill\n",
    "import os\n",
    "import glob\n",
    "from collections import OrderedDict\n",
    "\n",
    "from in_out.load_data import ACDC2017DataSet\n",
    "from config.config import config\n",
    "from utils.experiment import Experiment, ExperimentHandler\n",
    "from utils.batch_handlers import TwoDimBatchHandler\n",
    "from utils.test_handler import ACDC2017TestHandler, test_ensemble\n",
    "from utils.test_results import TestResults, load_all_results\n",
    "from utils.referral_handler import ReferralHandler, ReferralResults\n",
    "from plotting.learning_curves import loss_plot\n",
    "from plotting.uncertainty_plots import analyze_slices\n",
    "from plotting.main_seg_results import plot_seg_erros_uncertainties\n",
    "from plotting.result_plots import plot_referral_results\n",
    "\n",
    "from models.dilated_cnn import BaseDilated2DCNN\n",
    "\n",
    "%matplotlib inline\n",
    "%load_ext autoreload\n",
    "%autoreload 2"
   ]
  },
  {
   "cell_type": "code",
   "execution_count": 5,
   "metadata": {
    "collapsed": true
   },
   "outputs": [],
   "source": [
    "# Constants aka fixed variables\n",
    "ROOT_DIR = \"/home/jorg/repository/dcnn_acdc\"\n",
    "LOG_DIR = os.path.join(ROOT_DIR, \"logs\")\n",
    "CYCLE_OFFSET = 100000\n",
    "# set seeds\n",
    "SEED = 4325\n",
    "torch.manual_seed(SEED)\n",
    "torch.cuda.manual_seed(SEED)\n",
    "torch.backends.cudnn.enabled = True\n",
    "np.random.seed(SEED)\n",
    "\n",
    "# IMPORTANT - THE FOLD WE'RE USING FOR TESTING. NOTE: Training and testing fold should be the same\n",
    "# we raise an error in the test_ensemble method if this is not the case!\n",
    "TEST_FOLD = 3\n",
    "\n",
    "# baseline: \n",
    "exp_base = {3: \"20180509_18_36_23_dcnn_f3_150KE_lr2e02\",\n",
    "            2: \"20180509_18_36_28_dcnn_f2_150KE_lr2e02\",\n",
    "            1: \"20180509_18_36_32_dcnn_f1_150KE_lr2e02\",\n",
    "            0: \"20180330_09_56_39_dcnnv1_150000E_lr2e02\"}\n",
    "exp_base_path = os.path.join(LOG_DIR, exp_base[TEST_FOLD])\n",
    "\n",
    "\n",
    "exp_mc005_brier = {3: \"20180428_09_11_35_dcnn_mc_f3p005_brier_150KE_lr2e02\",\n",
    "                   2: \"20180426_14_47_23_dcnn_mc_f2p005_brier_150KE_lr2e02\",\n",
    "                   1: \"20180426_14_45_50_dcnn_mc_f1p005_brier_150KE_lr2e02\",\n",
    "                   0: \"20180418_15_02_36_dcnn_mcv1_150000E_lr2e02\"}\n",
    "exp_mc005_brier_path = os.path.join(LOG_DIR, exp_mc005_brier[TEST_FOLD])\n",
    "\n",
    "\n",
    "# 20180508_11_47_05_dcnn_mc_f2p01_brier_20KE_lr2e02\n",
    "# 20180426_14_14_39_dcnn_mc_f2p01_brier_150KE_lr2e02\n",
    "exp_mc01_brier = {3: \"20180426_14_14_57_dcnn_mc_f3p01_brier_150KE_lr2e02\",\n",
    "                  2: \"20180426_14_14_39_dcnn_mc_f2p01_brier_150KE_lr2e02\",\n",
    "                  1: \"20180426_14_13_46_dcnn_mc_f1p01_brier_150KE_lr2e02\",\n",
    "                  0: \"20180418_15_02_05_dcnn_mcv1_150000E_lr2e02\"}\n",
    "exp_mc01_brier_path = os.path.join(LOG_DIR, exp_mc01_brier[TEST_FOLD])\n",
    "\n",
    "print(\"!!! IMPORTANT !!! - EVALUATING MODELS ON HOLD OUT IMAGES IN FOLD {}\".format(TEST_FOLD))\n",
    "\n",
    "exper_base = ExperimentHandler.load_experiment(exp_base_path)\n",
    "exper_hdl_base = ExperimentHandler(exper_base, use_logfile=False)\n",
    "exper_hdl_base.set_root_dir(ROOT_DIR)\n",
    "exper_hdl_base.set_model_name(\"Base DCNN fold-{} (p={})\".format(\n",
    "                                     exper_hdl_base.exper.run_args.fold_ids[0],\n",
    "                                     exper_hdl_base.exper.run_args.drop_prob))\n",
    "print(\"Model name {}\".format(exper_hdl_base.exper.model_name))\n",
    "\n",
    "\n",
    "exper_mc005_brier = ExperimentHandler.load_experiment(exp_mc005_brier_path)\n",
    "exper_hdl_mc005_brier = ExperimentHandler(exper_mc005_brier, use_logfile=False)\n",
    "exper_hdl_mc005_brier.set_root_dir(ROOT_DIR)\n",
    "exper_hdl_mc005_brier.set_model_name(\"MC-dropout-brier fold-{} (p={})\".format(\n",
    "                                     exper_hdl_mc005_brier.exper.run_args.fold_ids[0],\n",
    "                                     exper_hdl_mc005_brier.exper.run_args.drop_prob))\n",
    "print(\"Model name {}\".format(exper_hdl_mc005_brier.exper.model_name))\n",
    "\n",
    "\n",
    "exper_mc01_brier = ExperimentHandler.load_experiment(exp_mc01_brier_path)\n",
    "exper_hdl_mc01_brier = ExperimentHandler(exper_mc01_brier, use_logfile=False)\n",
    "exper_hdl_mc01_brier.set_root_dir(ROOT_DIR)\n",
    "exper_hdl_mc01_brier.set_model_name(\"MC-dropout brier fold-{} (p={})\".format(\n",
    "                                exper_hdl_mc01_brier.exper.run_args.fold_ids[0],\n",
    "                                exper_hdl_mc01_brier.exper.run_args.drop_prob))\n",
    "print(\"Model name {}\".format(exper_hdl_mc01_brier.exper.model_name))\n",
    "\n",
    "\n",
    "try:\n",
    "    del test_set\n",
    "except:\n",
    "    pass"
   ]
  },
  {
   "cell_type": "markdown",
   "metadata": {},
   "source": [
    "### Load referral results"
   ]
  },
  {
   "cell_type": "code",
   "execution_count": null,
   "metadata": {
    "collapsed": true
   },
   "outputs": [],
   "source": [
    "exper_dict = exp_mc01_brier\n",
    "referral_thresholds = [0.1, 0.12, 0.14, 0.16]  # [0.08, 0.1, 0.12, 0.14, 0.16, 0.18, 0.2, 0.22, 0.24] \n",
    "\n",
    "# ref_results_pos_only = ReferralResults(exper_dict, referral_thresholds, pos_only=True, print_results=False,\n",
    "#                                       fold=None)\n",
    "ref_results = ReferralResults(exper_dict, referral_thresholds, pos_only=False, print_results=False,\n",
    "                              fold=None)"
   ]
  },
  {
   "cell_type": "markdown",
   "metadata": {},
   "source": [
    "### Generate slice features"
   ]
  },
  {
   "cell_type": "code",
   "execution_count": null,
   "metadata": {
    "collapsed": true
   },
   "outputs": [],
   "source": [
    "from in_out.generate_slice_features import SliceFeatureGenerator\n",
    "\n",
    "\n",
    "referral_threshold = 0.14\n",
    "\n",
    "slice_features = SliceFeatureGenerator(exper_dict, verbose=False, referral_threshold=referral_threshold)\n",
    "slice_features.generate_features(num_of_bins=25, threshold=None, normalize=False)"
   ]
  },
  {
   "cell_type": "markdown",
   "metadata": {},
   "source": [
    "### Create dataset based on slice-features to regress referral-improvements per slice"
   ]
  },
  {
   "cell_type": "code",
   "execution_count": null,
   "metadata": {
    "collapsed": true
   },
   "outputs": [],
   "source": [
    "from in_out.dataset_slice_referral import SliceReferralDataSet\n",
    "\n",
    "cardiac_phase = 0\n",
    "slice_dataset = SliceReferralDataSet(ref_results, slice_features, referral_threshold=referral_threshold,\n",
    "                                     verbose=True)\n",
    "x_train, y_train, x_test, y_test, train_ids, test_ids =  \\\n",
    "    slice_dataset.split_train_test_set(fold_id=3, cardiac_phase=cardiac_phase)\n",
    "print(np.unique(train_ids))"
   ]
  },
  {
   "cell_type": "markdown",
   "metadata": {},
   "source": [
    "### Run regressor on slice feature dataset"
   ]
  },
  {
   "cell_type": "code",
   "execution_count": null,
   "metadata": {
    "collapsed": true
   },
   "outputs": [],
   "source": [
    "from sklearn.ensemble import RandomForestRegressor as rfreg\n",
    "from sklearn.metrics import r2_score\n",
    "\n",
    "cardiac_phase = 1\n",
    "slice_dataset = SliceReferralDataSet(ref_results, slice_features, referral_threshold=referral_threshold,\n",
    "                                     verbose=True)\n",
    "slice_dataset.verbose = False\n",
    "importances = 0\n",
    "rf = rfreg(n_estimators=100)\n",
    "for fold_id in np.arange(4):\n",
    "    x_train, y_train, x_test, y_test, train_ids, test_ids = \\\n",
    "            slice_dataset.split_train_test_set(fold_id=fold_id, cardiac_phase=cardiac_phase)\n",
    "    rf.fit(x_train, y_train)\n",
    "    y_test_pred = rf.predict(x_test)\n",
    "    importances += rf.feature_importances_\n",
    "    \n",
    "print(importances * 1./4)\n",
    "r2_metric = r2_score(y_test, y_test_pred)\n",
    "print(r2_metric)"
   ]
  }
 ],
 "metadata": {
  "kernelspec": {
   "display_name": "Python 2",
   "language": "python",
   "name": "python2"
  },
  "language_info": {
   "codemirror_mode": {
    "name": "ipython",
    "version": 2
   },
   "file_extension": ".py",
   "mimetype": "text/x-python",
   "name": "python",
   "nbconvert_exporter": "python",
   "pygments_lexer": "ipython2",
   "version": "2.7.14"
  }
 },
 "nbformat": 4,
 "nbformat_minor": 2
}
