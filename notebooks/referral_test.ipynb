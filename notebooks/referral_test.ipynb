{
 "cells": [
  {
   "cell_type": "code",
   "execution_count": 1,
   "metadata": {
    "collapsed": true
   },
   "outputs": [],
   "source": [
    "\n",
    "from __future__ import print_function\n",
    "\n",
    "import sys\n",
    "\n",
    "sys.path.extend(['/home/jorg/repository/dcnn_acdc'])\n",
    "\n",
    "import matplotlib\n",
    "import matplotlib.pyplot as plt\n",
    "\n",
    "from matplotlib import cm\n",
    "\n",
    "\n",
    "from datetime import datetime\n",
    "from pytz import timezone\n",
    "import itertools\n",
    "import copy\n",
    "\n",
    "import SimpleITK as sitk\n",
    "import numpy as np\n",
    "import torch\n",
    "from torch.autograd import Variable\n",
    "import torch.nn as nn\n",
    "import torch.nn.functional as F\n",
    "import torch.optim as optim\n",
    "from torch.nn import init\n",
    "\n",
    "import numpy as np\n",
    "import dill\n",
    "import os\n",
    "import glob\n",
    "from collections import OrderedDict\n",
    "\n",
    "from in_out.load_data import ACDC2017DataSet\n",
    "from config.config import config\n",
    "from utils.experiment import Experiment, ExperimentHandler\n",
    "from utils.batch_handlers import TwoDimBatchHandler\n",
    "from utils.test_handler import ACDC2017TestHandler, test_ensemble\n",
    "from utils.test_results import TestResults\n",
    "from plotting.learning_curves import loss_plot\n",
    "from plotting.uncertainty_plots import analyze_slices\n",
    "from plotting.slice_outliers_plots import plot_outlier_slice_hists\n",
    "from utils.generate_uncertainty_maps import ImageOutliers\n",
    "\n",
    "from models.dilated_cnn import BaseDilated2DCNN\n",
    "\n",
    "%matplotlib inline\n",
    "%load_ext autoreload\n",
    "%autoreload 2"
   ]
  },
  {
   "cell_type": "code",
   "execution_count": 99,
   "metadata": {},
   "outputs": [],
   "source": [
    "ROOT_DIR = \"/home/jorg/repository/dcnn_acdc\"\n",
    "LOG_DIR = os.path.join(ROOT_DIR, \"logs\")\n",
    "CYCLE_OFFSET = 100000\n",
    "# set seeds\n",
    "SEED = 4325\n",
    "torch.manual_seed(SEED)\n",
    "torch.cuda.manual_seed(SEED)\n",
    "torch.backends.cudnn.enabled = True\n",
    "np.random.seed(SEED)\n",
    "\n",
    "# IMPORTANT - THE FOLD WE'RE USING FOR TESTING. NOTE: Training and testing fold should be the same\n",
    "# we raise an error in the test_ensemble method if this is not the case!\n",
    "TEST_FOLD = 2\n",
    "\n",
    "# baseline: \n",
    "exp_base = {2: \"20180328_10_53_16_dcnnv1_150000E_lr2e02\",\n",
    "            0: \"20180330_09_56_39_dcnnv1_150000E_lr2e02\"}\n",
    "exp_base_path = os.path.join(LOG_DIR, exp_base[TEST_FOLD])\n",
    "\n",
    "exp_mc005_path = None\n",
    "# MC dropout models\n",
    "# Fold 2: \n",
    "# Fold 0: 20180413_16_36_58_dcnn_mcv1_150000E_lr2e02\n",
    "# exp_mc005 = {2: \"\",\n",
    "#             0: \"20180413_16_36_58_dcnn_mcv1_150000E_lr2e02\"}\n",
    "# exp_mc005_path = os.path.join(LOG_DIR, exp_mc005[TEST_FOLD])\n",
    "\n",
    "# MC dropout models\n",
    "# Fold 2: \n",
    "# Fold 0: 20180413_16_36_58_dcnn_mcv1_150000E_lr2e02\n",
    "exp_mc01 = {2: \"20180420_11_59_43_dcnn_mcv1_150000E_lr2e02\",\n",
    "            0: \"20180416_08_25_43_dcnn_mcv1_150000E_lr2e02\"}\n",
    "exp_mc01_path = os.path.join(LOG_DIR, exp_mc01[TEST_FOLD])\n",
    "\n",
    "exp_mc005_expert1_path = None\n",
    "# This model was retrained on checkpoint 140000 of the baseline MC model 20180413_16_36_58_dcnn_mcv1_150000E_lr2e02\n",
    "# @epoch0-> generate uMaps, trained for 20,000 epochs where uMaps are re-generated each 10,000 iterations\n",
    "# IMPORTANT: the model was ONLY trained on outlier slices for 20,000 epochs (after pre-training of 140,000)\n",
    "# Fold 2: \n",
    "# Fold 0: 20180413_17_03_22_dcnn_mcv1_150000E_lr2e02\n",
    "# exp_mc005_expert1 = {2: \"\",\n",
    "#                      0: \"20180417_17_43_20_dcnn_mcv1_20000E_lr2e02\"}\n",
    "# exp_mc005_expert1_path = os.path.join(LOG_DIR, exp_mc005_expert1[TEST_FOLD])\n",
    "\n",
    "# Fold 2: \n",
    "# Fold 0: 20180418_15_02_05_dcnn_mcv1_150000E_lr2e02\n",
    "exp_mc01_brier = {2: \"20180420_12_00_23_dcnn_mcv1_150000E_lr2e04\",\n",
    "                  0: \"20180418_15_02_05_dcnn_mcv1_150000E_lr2e02\"}\n",
    "exp_mc01_brier_path = os.path.join(LOG_DIR, exp_mc01_brier[TEST_FOLD])"
   ]
  },
  {
   "cell_type": "code",
   "execution_count": 100,
   "metadata": {},
   "outputs": [
    {
     "name": "stderr",
     "output_type": "stream",
     "text": [
      "  4%|▍         | 1/25 [00:00<00:03,  7.01it/s]"
     ]
    },
    {
     "name": "stdout",
     "output_type": "stream",
     "text": [
      "Load experiment from /home/jorg/repository/dcnn_acdc/logs/20180328_10_53_16_dcnnv1_150000E_lr2e02/stats/exper_stats.dll\n",
      "Model name DCNN baseline fold-2\n",
      "Load experiment from /home/jorg/repository/dcnn_acdc/logs/20180420_11_59_43_dcnn_mcv1_150000E_lr2e02/stats/exper_stats.dll\n",
      "Model name MC-dropout fold-2 (p=0.1)\n",
      "Load experiment from /home/jorg/repository/dcnn_acdc/logs/20180420_12_00_23_dcnn_mcv1_150000E_lr2e04/stats/exper_stats.dll\n",
      "Model name MC-dropout brier fold-2 (p=0.1)\n",
      "INFO - Testhandler - >>> Search in val-dir for /home/jorg/repository/dcnn_acdc/data/Folds/fold2/validate/images_iso/*patient*.mhd <<<\n",
      "INFO - File list contains 50 files, hence 25 patients\n"
     ]
    },
    {
     "name": "stderr",
     "output_type": "stream",
     "text": [
      "100%|██████████| 25/25 [00:01<00:00, 16.43it/s]"
     ]
    },
    {
     "name": "stdout",
     "output_type": "stream",
     "text": [
      "INFO - Successfully loaded 25 ED/ES patient pairs\n"
     ]
    },
    {
     "name": "stderr",
     "output_type": "stream",
     "text": [
      "\n"
     ]
    }
   ],
   "source": [
    "exper_base = ExperimentHandler.load_experiment(exp_base_path)\n",
    "exper_hdl_base = ExperimentHandler(exper_base, use_logfile=False)\n",
    "exper_hdl_base.set_root_dir(ROOT_DIR)\n",
    "exper_hdl_base.set_model_name(\"DCNN baseline fold-{}\".format(exper_hdl_base.exper.run_args.fold_ids[0]))\n",
    "print(\"Model name {}\".format(exper_hdl_base.exper.model_name))\n",
    "\n",
    "if exp_mc005_path is not None:\n",
    "    exper_mc005 = ExperimentHandler.load_experiment(exp_mc005_path)\n",
    "    exper_hdl_mc005 = ExperimentHandler(exper_mc005, use_logfile=False)\n",
    "    exper_hdl_mc005.set_root_dir(ROOT_DIR)\n",
    "    exper_hdl_mc005.set_model_name(\"MC-dropout fold-{} (p={})\".format(exper_hdl_mc005.exper.run_args.fold_ids[0],\n",
    "        exper_hdl_mc005.exper.run_args.drop_prob))\n",
    "    print(\"Model name {}\".format(exper_hdl_mc005.exper.model_name))\n",
    "\n",
    "exper_mc01 = ExperimentHandler.load_experiment(exp_mc01_path)\n",
    "exper_hdl_mc01 = ExperimentHandler(exper_mc01, use_logfile=False)\n",
    "exper_hdl_mc01.set_root_dir(ROOT_DIR)\n",
    "exper_hdl_mc01.set_model_name(\"MC-dropout fold-{} (p={})\".format(exper_hdl_mc01.exper.run_args.fold_ids[0],\n",
    "    exper_hdl_mc01.exper.run_args.drop_prob))\n",
    "print(\"Model name {}\".format(exper_hdl_mc01.exper.model_name))\n",
    "\n",
    "if exp_mc005_expert1_path is not None:\n",
    "    exper_mc005_expert1 = ExperimentHandler.load_experiment(exp_mc005_expert1_path)\n",
    "    exper_hdl_mc005_expert1 = ExperimentHandler(exper_mc005_expert1, use_logfile=False)\n",
    "    exper_hdl_mc005_expert1.set_root_dir(ROOT_DIR)\n",
    "    exper_hdl_mc005_expert1.set_model_name(\"MC-dropout-expert1 fold-{} (p={})\".format(\n",
    "                                         exper_hdl_mc005_expert1.exper.run_args.chkpnt_freq,\n",
    "                                         exper_hdl_mc005_expert1.exper.run_args.fold_ids[0],\n",
    "                                         exper_hdl_mc005_expert1.exper.run_args.drop_prob))\n",
    "    print(\"Model name {}\".format(exper_hdl_mc005_expert1.exper.model_name))\n",
    "\n",
    "exper_mc01_brier = ExperimentHandler.load_experiment(exp_mc01_brier_path)\n",
    "exper_hdl_mc01_brier = ExperimentHandler(exper_mc01_brier, use_logfile=False)\n",
    "exper_hdl_mc01_brier.set_root_dir(ROOT_DIR)\n",
    "exper_hdl_mc01_brier.set_model_name(\"MC-dropout brier fold-{} (p={})\".format(\n",
    "                                exper_hdl_mc01_brier.exper.run_args.fold_ids[0],\n",
    "                                exper_hdl_mc01_brier.exper.run_args.drop_prob))\n",
    "print(\"Model name {}\".format(exper_hdl_mc01_brier.exper.model_name))\n",
    "\n",
    "try:\n",
    "    del test_set\n",
    "except:\n",
    "    pass\n",
    "\n",
    "test_set = ACDC2017TestHandler(exper_config=exper_hdl_mc005.exper.config, \n",
    "                               search_mask=config.dflt_image_name + \".mhd\", fold_ids=[TEST_FOLD],\n",
    "                               debug=False, batch_size=25, use_cuda=True, load_train=False, load_val=True,\n",
    "                               use_iso_path=True)"
   ]
  },
  {
   "cell_type": "code",
   "execution_count": 133,
   "metadata": {
    "scrolled": false
   },
   "outputs": [
    {
     "name": "stdout",
     "output_type": "stream",
     "text": [
      "Loading existing model loaded from checkpoint dir /home/jorg/repository/dcnn_acdc/logs/20180420_11_59_43_dcnn_mcv1_150000E_lr2e02/checkpoints\n",
      "Evaluating model MC-dropout fold-2 (p=0.1) - runID 1\n",
      "INFO - Running test on 1 images with model from checkpoint 150000\n",
      "Check 0 and 0\n",
      "ES: Total unc 5243 total pos1 0 pos1-unc 0 0.00 true-errors-unc 0, errors 0 errors-after 0\n",
      "Check 193 and 193\n",
      "ES: Total unc 2595 total pos1 347 pos1-unc 193 55.62 true-errors-unc 193, errors 347 errors-after 154\n",
      "Check 500 and 500\n",
      "ES: Total unc 2650 total pos1 559 pos1-unc 500 89.45 true-errors-unc 500, errors 559 errors-after 59\n",
      "Check 1096 and 104\n",
      "ES: Total unc 1742 total pos1 1649 pos1-unc 1096 66.46 true-errors-unc 104, errors 248 errors-after 155\n",
      "Check 1107 and 1107\n",
      "ES: Total unc 1656 total pos1 1807 pos1-unc 1107 61.26 true-errors-unc 1107, errors 1807 errors-after 700\n",
      "Check 998 and 49\n",
      "ES: Total unc 1377 total pos1 1659 pos1-unc 998 60.16 true-errors-unc 49, errors 147 errors-after 111\n",
      "Check 1010 and 218\n",
      "ES: Total unc 1276 total pos1 2180 pos1-unc 1010 46.33 true-errors-unc 218, errors 413 errors-after 198\n",
      "Check 954 and 46\n",
      "ES: Total unc 1499 total pos1 1886 pos1-unc 954 50.58 true-errors-unc 46, errors 148 errors-after 113\n",
      "Check 625 and 260\n",
      "ES: Total unc 820 total pos1 1992 pos1-unc 625 31.38 true-errors-unc 260, errors 448 errors-after 193\n",
      "Check 615 and 57\n",
      "ES: Total unc 730 total pos1 1937 pos1-unc 615 31.75 true-errors-unc 57, errors 126 errors-after 101\n",
      "Check 421 and 125\n",
      "ES: Total unc 538 total pos1 1476 pos1-unc 421 28.52 true-errors-unc 125, errors 236 errors-after 115\n",
      "Check 719 and 34\n",
      "ES: Total unc 772 total pos1 1943 pos1-unc 719 37.00 true-errors-unc 34, errors 95 errors-after 68\n",
      "Check 404 and 127\n",
      "ES: Total unc 533 total pos1 1322 pos1-unc 404 30.56 true-errors-unc 127, errors 229 errors-after 110\n",
      "Check 447 and 69\n",
      "ES: Total unc 569 total pos1 1793 pos1-unc 447 24.93 true-errors-unc 69, errors 119 errors-after 56\n",
      "Check 473 and 104\n",
      "ES: Total unc 803 total pos1 987 pos1-unc 473 47.92 true-errors-unc 104, errors 177 errors-after 106\n",
      "Check 412 and 38\n",
      "ES: Total unc 454 total pos1 1465 pos1-unc 412 28.12 true-errors-unc 38, errors 166 errors-after 149\n",
      "Check 346 and 151\n",
      "ES: Total unc 651 total pos1 800 pos1-unc 346 43.25 true-errors-unc 151, errors 195 errors-after 55\n",
      "Check 225 and 36\n",
      "ES: Total unc 366 total pos1 1083 pos1-unc 225 20.78 true-errors-unc 36, errors 117 errors-after 105\n",
      "Check 184 and 118\n",
      "ES: Total unc 768 total pos1 462 pos1-unc 184 39.83 true-errors-unc 118, errors 176 errors-after 90\n",
      "Check 62 and 29\n",
      "ES: Total unc 193 total pos1 616 pos1-unc 62 10.06 true-errors-unc 29, errors 67 errors-after 55\n",
      "Check 153 and 153\n",
      "ES: Total unc 2770 total pos1 162 pos1-unc 153 94.44 true-errors-unc 153, errors 162 errors-after 9\n",
      "Check 80 and 51\n",
      "ES: Total unc 1021 total pos1 282 pos1-unc 80 28.37 true-errors-unc 51, errors 63 errors-after 18\n",
      "Image 1-patient006 - test loss -2.930  dice(RV/Myo/LV):\tES 0.78/0.79/0.94\tED 0.85/0.77/0.95\n",
      "\t\t\t\t\t After referral\t\tES 0.91/0.79/0.96\tED 0.91/0.77/0.97\n",
      "\t\t\t\t\tHausdorff(RV/Myo/LV):\tES 21.19/40.09/12.91\tED 20.67/43.20/12.52\n",
      "\t\t\t\t\tAfter referral:\t\tES 20.00/40.09/10.38\tED 20.00/43.20/10.10\n",
      "------------------------------------------------------------------------------------------------\n",
      "Overall:\tdice(RV/Myo/LV): ES 0.78 (0.00)/0.79 (0.00)/0.94 (0.00)\tED 0.85 (0.00)/0.77 (0.00)/0.95 (0.00)\n",
      "\t\t\t\t ES 0.91 (0.00)/0.79 (0.00)/0.96 (0.00)\tED 0.91 (0.00)/0.77 (0.00)/0.97 (0.00)\n",
      "Hausdorff(RV/Myo/LV):\tES 21.19 (0.00)/40.09 (0.00)/12.91 (0.00)\tED 20.67 (0.00)/43.20 (0.00)/12.52 (0.00)\n",
      "After referral:\t\tES 20.00 (0.00)/40.09 (0.00)/10.38 (0.00)\tED 20.00 (0.00)/43.20 (0.00)/10.10 (0.00)\n",
      "Referral ES %: 22.44 (std=38.42, median=42.13)\tReduction %: 24.86 (std=50.07, median=44.11)\n",
      "Referral ED %: 25.16 (std=14.84, median=30.74)\tReduction %: 19.22 (std=31.34, median=36.04)\n",
      "Ready\n"
     ]
    }
   ],
   "source": [
    "settings = {'sample_eval': {},\n",
    "            'ensemble_eval': {\"mc_samples\": 1}, \"sample_weights\": False, \"store_details\": False,\n",
    "           'generate_stats': False, \"save_results\": True, \"checkpoints\": [150000],\n",
    "           'use_uncertainty': False, \"discard_outliers\": False}\n",
    "\n",
    "\n",
    "mc_samples = 1\n",
    "sample_weights = False\n",
    "store_details = True\n",
    "image_range = [0]\n",
    "if not sample_weights:\n",
    "    generate_stats = False\n",
    "else:\n",
    "    generate_stats = True\n",
    "save_results = False\n",
    "checkpoints = [150000] #  [150000]\n",
    "use_uncertainty = True\n",
    "referral_threshold = 0.2\n",
    "discard_outliers = False\n",
    "\n",
    "exper_handler = exper_hdl_mc01\n",
    "\n",
    "exper_handler.logger = None   \n",
    "exper_handler.exper.outliers_per_epoch = None\n",
    "\n",
    "test_ensemble(test_set, exper_handler, mc_samples=mc_samples, sample_weights=sample_weights,  \n",
    "              discard_outliers=discard_outliers, referral_threshold=referral_threshold, image_range=image_range, \n",
    "              checkpoints=checkpoints, use_uncertainty=use_uncertainty,\n",
    "              verbose=False, reset_results=True, store_details=store_details, \n",
    "              generate_stats=generate_stats, save_results=save_results, do_filter=True)\n",
    "# do_filter = 6 most connected component filtering\n",
    "\n",
    "\n",
    "    \n",
    "print(\"Ready\")"
   ]
  },
  {
   "cell_type": "code",
   "execution_count": 77,
   "metadata": {},
   "outputs": [
    {
     "name": "stdout",
     "output_type": "stream",
     "text": [
      "------------------------------------------------------------------------------------------------\n",
      "Overall:\tdice(RV/Myo/LV): ES 0.86 (0.05)/0.88 (0.03)/0.92 (0.07)\tED 0.93 (0.04)/0.87 (0.03)/0.96 (0.02)\n",
      "\t\t\t\t ES 0.91 (0.04)/0.88 (0.03)/0.95 (0.04)\tED 0.96 (0.02)/0.87 (0.03)/0.98 (0.01)\n",
      "Hausdorff(RV/Myo/LV):\tES 14.93 (6.99)/12.07 (7.15)/8.73 (4.70)\tED 12.77 (7.22)/12.77 (7.85)/7.56 (3.24)\n",
      "After referral:\t\tES 11.65 (3.31)/12.07 (7.15)/7.67 (4.24)\tED 8.92 (4.79)/12.77 (7.85)/5.93 (3.16)\n",
      "Referral ES %: 19.25 (std=13.28, median=18.82)\tReduction %: 23.27 (std=43.20, median=41.12)\n",
      "Referral ED %: 11.50 (std=5.44, median=8.71)\tReduction %: 16.91 (std=45.95, median=44.51)\n"
     ]
    }
   ],
   "source": [
    "exper_handler.test_results.compute_mean_stats()\n",
    "exper_handler.test_results.show_results()"
   ]
  },
  {
   "cell_type": "code",
   "execution_count": 89,
   "metadata": {},
   "outputs": [
    {
     "name": "stdout",
     "output_type": "stream",
     "text": [
      "(8, 223, 264, 8)\n",
      "(223, 264)\n",
      "(10, 223, 264)\n"
     ]
    }
   ],
   "source": [
    "mc_probs = exper_handler.test_results.mc_pred_probs[0]\n",
    "std_stats = exper_handler.test_results.stddev_maps[0]\n",
    "print(std_stats.shape)\n",
    "sliceid = 7\n",
    "c=1  # ES-RV\n",
    "# get probs from slice 8 [#samples, classes, width, height, #slices]\n",
    "mc_probs_slice = mc_probs[:, 1, :, :, 7]\n",
    "# get stddev-maps [classes, width, height, #slices]\n",
    "std_stats_slice = std_stats[1, :, :, 7]\n",
    "print(std_stats_slice.shape)\n",
    "print(mc_probs_slice.shape)"
   ]
  },
  {
   "cell_type": "code",
   "execution_count": 195,
   "metadata": {},
   "outputs": [
    {
     "name": "stdout",
     "output_type": "stream",
     "text": [
      "INFO - Loading results from file /home/jorg/repository/dcnn_acdc/logs/20180418_15_02_05_dcnn_mcv1_150000E_lr2e02//stats/test_results_25imgs_mc10_fold0_ep150000.dll\n",
      "INFO - Successfully loaded TestResult object.\n",
      "Num of images in test set 25\n"
     ]
    }
   ],
   "source": [
    "exper_handler = exper_hdl_mc01_brier\n",
    "t_path = \"/home/jorg/repository/dcnn_acdc/logs/20180418_15_02_05_dcnn_mcv1_150000E_lr2e02//stats/test_results_25imgs_mc10_fold0_ep150000.dll\"\n",
    "test_results = TestResults.load_results(t_path)\n",
    "print(\"Num of images in test set {}\".format(len(test_results.image_ids)))\n",
    "exper_handler.test_results = test_results"
   ]
  },
  {
   "cell_type": "code",
   "execution_count": null,
   "metadata": {
    "collapsed": true,
    "scrolled": false
   },
   "outputs": [],
   "source": [
    "image_range = None\n",
    "u_type = \"stddev\"\n",
    "\n",
    "analyze_slices(exper_handler, image_range=image_range, do_save=True, do_show=False, u_type=u_type,\n",
    "              use_high_threshold=True, translate_img_range=True)"
   ]
  },
  {
   "cell_type": "code",
   "execution_count": 9,
   "metadata": {},
   "outputs": [
    {
     "name": "stdout",
     "output_type": "stream",
     "text": [
      "Rows/columns 14/4\n",
      "INFO - Successfully saved fig /home/jorg/repository/dcnn_acdc/logs/20180416_08_25_43_dcnn_mcv1_150000E_lr2e02/figures/patient080/analysis_seg_err_slice1_mc10.pdf\n",
      "INFO - Successfully saved fig /home/jorg/repository/dcnn_acdc/logs/20180416_08_25_43_dcnn_mcv1_150000E_lr2e02/figures/patient080/analysis_seg_err_slice2_mc10.pdf\n",
      "INFO - Successfully saved fig /home/jorg/repository/dcnn_acdc/logs/20180416_08_25_43_dcnn_mcv1_150000E_lr2e02/figures/patient080/analysis_seg_err_slice3_mc10.pdf\n",
      "INFO - Successfully saved fig /home/jorg/repository/dcnn_acdc/logs/20180416_08_25_43_dcnn_mcv1_150000E_lr2e02/figures/patient080/analysis_seg_err_slice4_mc10.pdf\n",
      "INFO - Successfully saved fig /home/jorg/repository/dcnn_acdc/logs/20180416_08_25_43_dcnn_mcv1_150000E_lr2e02/figures/patient080/analysis_seg_err_slice5_mc10.pdf\n",
      "INFO - Successfully saved fig /home/jorg/repository/dcnn_acdc/logs/20180416_08_25_43_dcnn_mcv1_150000E_lr2e02/figures/patient080/analysis_seg_err_slice6_mc10.pdf\n",
      "Rows/columns 14/4\n",
      "INFO - Successfully saved fig /home/jorg/repository/dcnn_acdc/logs/20180416_08_25_43_dcnn_mcv1_150000E_lr2e02/figures/patient096/analysis_seg_err_slice1_mc10.pdf\n",
      "INFO - Successfully saved fig /home/jorg/repository/dcnn_acdc/logs/20180416_08_25_43_dcnn_mcv1_150000E_lr2e02/figures/patient096/analysis_seg_err_slice2_mc10.pdf\n",
      "INFO - Successfully saved fig /home/jorg/repository/dcnn_acdc/logs/20180416_08_25_43_dcnn_mcv1_150000E_lr2e02/figures/patient096/analysis_seg_err_slice3_mc10.pdf\n",
      "INFO - Successfully saved fig /home/jorg/repository/dcnn_acdc/logs/20180416_08_25_43_dcnn_mcv1_150000E_lr2e02/figures/patient096/analysis_seg_err_slice4_mc10.pdf\n",
      "INFO - Successfully saved fig /home/jorg/repository/dcnn_acdc/logs/20180416_08_25_43_dcnn_mcv1_150000E_lr2e02/figures/patient096/analysis_seg_err_slice5_mc10.pdf\n",
      "INFO - Successfully saved fig /home/jorg/repository/dcnn_acdc/logs/20180416_08_25_43_dcnn_mcv1_150000E_lr2e02/figures/patient096/analysis_seg_err_slice6_mc10.pdf\n",
      "INFO - Successfully saved fig /home/jorg/repository/dcnn_acdc/logs/20180416_08_25_43_dcnn_mcv1_150000E_lr2e02/figures/patient096/analysis_seg_err_slice7_mc10.pdf\n",
      "INFO - Successfully saved fig /home/jorg/repository/dcnn_acdc/logs/20180416_08_25_43_dcnn_mcv1_150000E_lr2e02/figures/patient096/analysis_seg_err_slice8_mc10.pdf\n",
      "INFO - Successfully saved fig /home/jorg/repository/dcnn_acdc/logs/20180416_08_25_43_dcnn_mcv1_150000E_lr2e02/figures/patient096/analysis_seg_err_slice9_mc10.pdf\n",
      "INFO - Successfully saved fig /home/jorg/repository/dcnn_acdc/logs/20180416_08_25_43_dcnn_mcv1_150000E_lr2e02/figures/patient096/analysis_seg_err_slice10_mc10.pdf\n",
      "INFO - Successfully saved fig /home/jorg/repository/dcnn_acdc/logs/20180416_08_25_43_dcnn_mcv1_150000E_lr2e02/figures/patient096/analysis_seg_err_slice11_mc10.pdf\n",
      "INFO - Successfully saved fig /home/jorg/repository/dcnn_acdc/logs/20180416_08_25_43_dcnn_mcv1_150000E_lr2e02/figures/patient096/analysis_seg_err_slice12_mc10.pdf\n",
      "INFO - Successfully saved fig /home/jorg/repository/dcnn_acdc/logs/20180416_08_25_43_dcnn_mcv1_150000E_lr2e02/figures/patient096/analysis_seg_err_slice13_mc10.pdf\n",
      "INFO - Successfully saved fig /home/jorg/repository/dcnn_acdc/logs/20180416_08_25_43_dcnn_mcv1_150000E_lr2e02/figures/patient096/analysis_seg_err_slice14_mc10.pdf\n",
      "INFO - Successfully saved fig /home/jorg/repository/dcnn_acdc/logs/20180416_08_25_43_dcnn_mcv1_150000E_lr2e02/figures/patient096/analysis_seg_err_slice15_mc10.pdf\n",
      "INFO - Successfully saved fig /home/jorg/repository/dcnn_acdc/logs/20180416_08_25_43_dcnn_mcv1_150000E_lr2e02/figures/patient096/analysis_seg_err_slice16_mc10.pdf\n",
      "INFO - Successfully saved fig /home/jorg/repository/dcnn_acdc/logs/20180416_08_25_43_dcnn_mcv1_150000E_lr2e02/figures/patient096/analysis_seg_err_slice17_mc10.pdf\n",
      "INFO - Successfully saved fig /home/jorg/repository/dcnn_acdc/logs/20180416_08_25_43_dcnn_mcv1_150000E_lr2e02/figures/patient096/analysis_seg_err_slice18_mc10.pdf\n",
      "Rows/columns 14/4\n",
      "INFO - Successfully saved fig /home/jorg/repository/dcnn_acdc/logs/20180416_08_25_43_dcnn_mcv1_150000E_lr2e02/figures/patient097/analysis_seg_err_slice1_mc10.pdf\n",
      "INFO - Successfully saved fig /home/jorg/repository/dcnn_acdc/logs/20180416_08_25_43_dcnn_mcv1_150000E_lr2e02/figures/patient097/analysis_seg_err_slice2_mc10.pdf\n",
      "INFO - Successfully saved fig /home/jorg/repository/dcnn_acdc/logs/20180416_08_25_43_dcnn_mcv1_150000E_lr2e02/figures/patient097/analysis_seg_err_slice3_mc10.pdf\n",
      "INFO - Successfully saved fig /home/jorg/repository/dcnn_acdc/logs/20180416_08_25_43_dcnn_mcv1_150000E_lr2e02/figures/patient097/analysis_seg_err_slice4_mc10.pdf\n",
      "INFO - Successfully saved fig /home/jorg/repository/dcnn_acdc/logs/20180416_08_25_43_dcnn_mcv1_150000E_lr2e02/figures/patient097/analysis_seg_err_slice5_mc10.pdf\n",
      "INFO - Successfully saved fig /home/jorg/repository/dcnn_acdc/logs/20180416_08_25_43_dcnn_mcv1_150000E_lr2e02/figures/patient097/analysis_seg_err_slice6_mc10.pdf\n",
      "INFO - Successfully saved fig /home/jorg/repository/dcnn_acdc/logs/20180416_08_25_43_dcnn_mcv1_150000E_lr2e02/figures/patient097/analysis_seg_err_slice7_mc10.pdf\n",
      "INFO - Successfully saved fig /home/jorg/repository/dcnn_acdc/logs/20180416_08_25_43_dcnn_mcv1_150000E_lr2e02/figures/patient097/analysis_seg_err_slice8_mc10.pdf\n",
      "Rows/columns 14/4\n",
      "INFO - Successfully saved fig /home/jorg/repository/dcnn_acdc/logs/20180416_08_25_43_dcnn_mcv1_150000E_lr2e02/figures/patient098/analysis_seg_err_slice1_mc10.pdf\n",
      "INFO - Successfully saved fig /home/jorg/repository/dcnn_acdc/logs/20180416_08_25_43_dcnn_mcv1_150000E_lr2e02/figures/patient098/analysis_seg_err_slice2_mc10.pdf\n",
      "INFO - Successfully saved fig /home/jorg/repository/dcnn_acdc/logs/20180416_08_25_43_dcnn_mcv1_150000E_lr2e02/figures/patient098/analysis_seg_err_slice3_mc10.pdf\n",
      "INFO - Successfully saved fig /home/jorg/repository/dcnn_acdc/logs/20180416_08_25_43_dcnn_mcv1_150000E_lr2e02/figures/patient098/analysis_seg_err_slice4_mc10.pdf\n",
      "INFO - Successfully saved fig /home/jorg/repository/dcnn_acdc/logs/20180416_08_25_43_dcnn_mcv1_150000E_lr2e02/figures/patient098/analysis_seg_err_slice5_mc10.pdf\n",
      "INFO - Successfully saved fig /home/jorg/repository/dcnn_acdc/logs/20180416_08_25_43_dcnn_mcv1_150000E_lr2e02/figures/patient098/analysis_seg_err_slice6_mc10.pdf\n",
      "INFO - Successfully saved fig /home/jorg/repository/dcnn_acdc/logs/20180416_08_25_43_dcnn_mcv1_150000E_lr2e02/figures/patient098/analysis_seg_err_slice7_mc10.pdf\n",
      "Rows/columns 14/4\n",
      "INFO - Successfully saved fig /home/jorg/repository/dcnn_acdc/logs/20180416_08_25_43_dcnn_mcv1_150000E_lr2e02/figures/patient099/analysis_seg_err_slice1_mc10.pdf\n",
      "INFO - Successfully saved fig /home/jorg/repository/dcnn_acdc/logs/20180416_08_25_43_dcnn_mcv1_150000E_lr2e02/figures/patient099/analysis_seg_err_slice2_mc10.pdf\n",
      "INFO - Successfully saved fig /home/jorg/repository/dcnn_acdc/logs/20180416_08_25_43_dcnn_mcv1_150000E_lr2e02/figures/patient099/analysis_seg_err_slice3_mc10.pdf\n",
      "INFO - Successfully saved fig /home/jorg/repository/dcnn_acdc/logs/20180416_08_25_43_dcnn_mcv1_150000E_lr2e02/figures/patient099/analysis_seg_err_slice4_mc10.pdf\n",
      "INFO - Successfully saved fig /home/jorg/repository/dcnn_acdc/logs/20180416_08_25_43_dcnn_mcv1_150000E_lr2e02/figures/patient099/analysis_seg_err_slice5_mc10.pdf\n",
      "INFO - Successfully saved fig /home/jorg/repository/dcnn_acdc/logs/20180416_08_25_43_dcnn_mcv1_150000E_lr2e02/figures/patient099/analysis_seg_err_slice6_mc10.pdf\n",
      "INFO - Successfully saved fig /home/jorg/repository/dcnn_acdc/logs/20180416_08_25_43_dcnn_mcv1_150000E_lr2e02/figures/patient099/analysis_seg_err_slice7_mc10.pdf\n",
      "INFO - Successfully saved fig /home/jorg/repository/dcnn_acdc/logs/20180416_08_25_43_dcnn_mcv1_150000E_lr2e02/figures/patient099/analysis_seg_err_slice8_mc10.pdf\n",
      "INFO - Successfully saved fig /home/jorg/repository/dcnn_acdc/logs/20180416_08_25_43_dcnn_mcv1_150000E_lr2e02/figures/patient099/analysis_seg_err_slice9_mc10.pdf\n",
      "INFO - Successfully saved fig /home/jorg/repository/dcnn_acdc/logs/20180416_08_25_43_dcnn_mcv1_150000E_lr2e02/figures/patient099/analysis_seg_err_slice10_mc10.pdf\n",
      "INFO - Successfully saved fig /home/jorg/repository/dcnn_acdc/logs/20180416_08_25_43_dcnn_mcv1_150000E_lr2e02/figures/patient099/analysis_seg_err_slice11_mc10.pdf\n"
     ]
    },
    {
     "name": "stdout",
     "output_type": "stream",
     "text": [
      "INFO - Successfully saved fig /home/jorg/repository/dcnn_acdc/logs/20180416_08_25_43_dcnn_mcv1_150000E_lr2e02/figures/patient099/analysis_seg_err_slice12_mc10.pdf\n",
      "INFO - Successfully saved fig /home/jorg/repository/dcnn_acdc/logs/20180416_08_25_43_dcnn_mcv1_150000E_lr2e02/figures/patient099/analysis_seg_err_slice13_mc10.pdf\n",
      "INFO - Successfully saved fig /home/jorg/repository/dcnn_acdc/logs/20180416_08_25_43_dcnn_mcv1_150000E_lr2e02/figures/patient099/analysis_seg_err_slice14_mc10.pdf\n",
      "INFO - Successfully saved fig /home/jorg/repository/dcnn_acdc/logs/20180416_08_25_43_dcnn_mcv1_150000E_lr2e02/figures/patient099/analysis_seg_err_slice15_mc10.pdf\n",
      "INFO - Successfully saved fig /home/jorg/repository/dcnn_acdc/logs/20180416_08_25_43_dcnn_mcv1_150000E_lr2e02/figures/patient099/analysis_seg_err_slice16_mc10.pdf\n",
      "Rows/columns 14/4\n",
      "INFO - Successfully saved fig /home/jorg/repository/dcnn_acdc/logs/20180416_08_25_43_dcnn_mcv1_150000E_lr2e02/figures/patient100/analysis_seg_err_slice1_mc10.pdf\n",
      "INFO - Successfully saved fig /home/jorg/repository/dcnn_acdc/logs/20180416_08_25_43_dcnn_mcv1_150000E_lr2e02/figures/patient100/analysis_seg_err_slice2_mc10.pdf\n",
      "INFO - Successfully saved fig /home/jorg/repository/dcnn_acdc/logs/20180416_08_25_43_dcnn_mcv1_150000E_lr2e02/figures/patient100/analysis_seg_err_slice3_mc10.pdf\n",
      "INFO - Successfully saved fig /home/jorg/repository/dcnn_acdc/logs/20180416_08_25_43_dcnn_mcv1_150000E_lr2e02/figures/patient100/analysis_seg_err_slice4_mc10.pdf\n",
      "INFO - Successfully saved fig /home/jorg/repository/dcnn_acdc/logs/20180416_08_25_43_dcnn_mcv1_150000E_lr2e02/figures/patient100/analysis_seg_err_slice5_mc10.pdf\n",
      "INFO - Successfully saved fig /home/jorg/repository/dcnn_acdc/logs/20180416_08_25_43_dcnn_mcv1_150000E_lr2e02/figures/patient100/analysis_seg_err_slice6_mc10.pdf\n",
      "INFO - Successfully saved fig /home/jorg/repository/dcnn_acdc/logs/20180416_08_25_43_dcnn_mcv1_150000E_lr2e02/figures/patient100/analysis_seg_err_slice7_mc10.pdf\n",
      "INFO - Successfully saved fig /home/jorg/repository/dcnn_acdc/logs/20180416_08_25_43_dcnn_mcv1_150000E_lr2e02/figures/patient100/analysis_seg_err_slice8_mc10.pdf\n",
      "INFO - Ready!\n"
     ]
    }
   ],
   "source": [
    "# image_range = [16,17, 18, 19]\n",
    "errors_only = False\n",
    "\n",
    "for image_num in image_range:\n",
    "    exper_handler.test_results.visualize_uncertainty_histograms(image_num=image_num, width=20, height=60, \n",
    "                                                                info_type=\"uncertainty\",\n",
    "                                                                 do_save=True, slice_range=None,\n",
    "                                                                 std_threshold=0., errors_only=errors_only, \n",
    "                                                                 do_show=False, use_bald=True,\n",
    "                                                                 model_name = exper_handler.exper.model_name)\n",
    "                                                                 # model_name=\"MC-dropout (0.1)\") [0,1,2,3,4,5]\n",
    "print(\"INFO - Ready!\")"
   ]
  },
  {
   "cell_type": "code",
   "execution_count": 43,
   "metadata": {},
   "outputs": [
    {
     "name": "stdout",
     "output_type": "stream",
     "text": [
      "Loaded outlier stats for 1 training epochs (property=outliers_per_epoch, dictionary (key=epoch) with tuple (6 elements) and property=test_results_per_epoch, dict (key=epoch) with tuple (4))\n"
     ]
    }
   ],
   "source": [
    "exper_handler = exper_hdl_mc005\n",
    "exper_handler.get_outlier_stats(verbose=True)"
   ]
  },
  {
   "cell_type": "code",
   "execution_count": 44,
   "metadata": {},
   "outputs": [
    {
     "name": "stdout",
     "output_type": "stream",
     "text": [
      "Patient ID patient036\n",
      "{7: [1, 2, 3]}\n",
      "{6: [1], 7: [1, 2, 3]}\n"
     ]
    }
   ],
   "source": [
    "\n",
    "image_num = 5\n",
    "# geth the patient id for this image_num\n",
    "patient_id = test_set.img_file_names[image_num]\n",
    "print(\"Patient ID {}\".format(patient_id))\n",
    "# get the \"latest\" (max epoch) outlier statistics, tuple with 6 dictionaries\n",
    "outlier_stats = exper_handler.exper.outliers_per_epoch[exper_handler.exper.epoch_id]\n",
    "image_outliers = ImageOutliers(patient_id, outlier_stats)\n",
    "print(image_outliers.out_img_cls_es)\n",
    "print(image_outliers.out_img_cls_ed)"
   ]
  }
 ],
 "metadata": {
  "kernelspec": {
   "display_name": "Python 2",
   "language": "python",
   "name": "python2"
  },
  "language_info": {
   "codemirror_mode": {
    "name": "ipython",
    "version": 2
   },
   "file_extension": ".py",
   "mimetype": "text/x-python",
   "name": "python",
   "nbconvert_exporter": "python",
   "pygments_lexer": "ipython2",
   "version": "2.7.14"
  }
 },
 "nbformat": 4,
 "nbformat_minor": 2
}
