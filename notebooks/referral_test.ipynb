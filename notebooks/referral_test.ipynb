{
 "cells": [
  {
   "cell_type": "code",
   "execution_count": 1,
   "metadata": {
    "collapsed": true
   },
   "outputs": [],
   "source": [
    "\n",
    "from __future__ import print_function\n",
    "\n",
    "import sys\n",
    "\n",
    "sys.path.extend(['/home/jorg/repository/dcnn_acdc'])\n",
    "\n",
    "import matplotlib\n",
    "import matplotlib.pyplot as plt\n",
    "\n",
    "from matplotlib import cm\n",
    "\n",
    "\n",
    "from datetime import datetime\n",
    "from pytz import timezone\n",
    "import itertools\n",
    "import copy\n",
    "\n",
    "import SimpleITK as sitk\n",
    "import numpy as np\n",
    "import torch\n",
    "from torch.autograd import Variable\n",
    "import torch.nn as nn\n",
    "import torch.nn.functional as F\n",
    "import torch.optim as optim\n",
    "from torch.nn import init\n",
    "\n",
    "import numpy as np\n",
    "import dill\n",
    "import os\n",
    "import glob\n",
    "from collections import OrderedDict\n",
    "\n",
    "from in_out.load_data import ACDC2017DataSet\n",
    "from config.config import config\n",
    "from utils.experiment import Experiment, ExperimentHandler\n",
    "from utils.batch_handlers import TwoDimBatchHandler\n",
    "from utils.test_handler import ACDC2017TestHandler, test_ensemble\n",
    "from utils.test_results import TestResults\n",
    "from plotting.learning_curves import loss_plot\n",
    "from plotting.uncertainty_plots import analyze_slices\n",
    "from plotting.slice_outliers_plots import plot_outlier_slice_hists\n",
    "from utils.generate_uncertainty_maps import ImageOutliers\n",
    "\n",
    "from models.dilated_cnn import BaseDilated2DCNN\n",
    "\n",
    "%matplotlib inline\n",
    "%load_ext autoreload\n",
    "%autoreload 2"
   ]
  },
  {
   "cell_type": "code",
   "execution_count": 5,
   "metadata": {
    "collapsed": true
   },
   "outputs": [],
   "source": [
    "ROOT_DIR = \"/home/jorg/repository/dcnn_acdc\"\n",
    "LOG_DIR = os.path.join(ROOT_DIR, \"logs\")\n",
    "CYCLE_OFFSET = 100000\n",
    "# set seeds\n",
    "SEED = 4325\n",
    "torch.manual_seed(SEED)\n",
    "torch.cuda.manual_seed(SEED)\n",
    "torch.backends.cudnn.enabled = True\n",
    "np.random.seed(SEED)\n",
    "\n",
    "# IMPORTANT - THE FOLD WE'RE USING FOR TESTING. NOTE: Training and testing fold should be the same\n",
    "# we raise an error in the test_ensemble method if this is not the case!\n",
    "TEST_FOLD = 2\n",
    "\n",
    "# baseline: \n",
    "exp_base = {2: \"20180328_10_53_16_dcnnv1_150000E_lr2e02\",\n",
    "            0: \"20180330_09_56_39_dcnnv1_150000E_lr2e02\"}\n",
    "exp_base_path = os.path.join(LOG_DIR, exp_base[TEST_FOLD])\n",
    "\n",
    "exp_mc005_path = None\n",
    "# MC dropout models\n",
    "# Fold 2: \n",
    "# Fold 0: 20180413_16_36_58_dcnn_mcv1_150000E_lr2e02\n",
    "# exp_mc005 = {2: \"\",\n",
    "#             0: \"20180413_16_36_58_dcnn_mcv1_150000E_lr2e02\"}\n",
    "# exp_mc005_path = os.path.join(LOG_DIR, exp_mc005[TEST_FOLD])\n",
    "\n",
    "# MC dropout models\n",
    "# Fold 2: \n",
    "# Fold 0: 20180413_16_36_58_dcnn_mcv1_150000E_lr2e02\n",
    "exp_mc01 = {2: \"20180420_11_59_43_dcnn_mcv1_150000E_lr2e02\",\n",
    "            0: \"20180416_08_25_43_dcnn_mcv1_150000E_lr2e02\"}\n",
    "exp_mc01_path = os.path.join(LOG_DIR, exp_mc01[TEST_FOLD])\n",
    "\n",
    "exp_mc005_expert1_path = None\n",
    "# This model was retrained on checkpoint 140000 of the baseline MC model 20180413_16_36_58_dcnn_mcv1_150000E_lr2e02\n",
    "# @epoch0-> generate uMaps, trained for 20,000 epochs where uMaps are re-generated each 10,000 iterations\n",
    "# IMPORTANT: the model was ONLY trained on outlier slices for 20,000 epochs (after pre-training of 140,000)\n",
    "# Fold 2: \n",
    "# Fold 0: 20180413_17_03_22_dcnn_mcv1_150000E_lr2e02\n",
    "# exp_mc005_expert1 = {2: \"\",\n",
    "#                      0: \"20180417_17_43_20_dcnn_mcv1_20000E_lr2e02\"}\n",
    "# exp_mc005_expert1_path = os.path.join(LOG_DIR, exp_mc005_expert1[TEST_FOLD])\n",
    "\n",
    "# Fold 2: \n",
    "# Fold 0: 20180418_15_02_05_dcnn_mcv1_150000E_lr2e02\n",
    "exp_mc01_brier = {2: \"20180420_12_00_23_dcnn_mcv1_150000E_lr2e04\",\n",
    "                  0: \"20180418_15_02_05_dcnn_mcv1_150000E_lr2e02\"}\n",
    "exp_mc01_brier_path = os.path.join(LOG_DIR, exp_mc01_brier[TEST_FOLD])"
   ]
  },
  {
   "cell_type": "code",
   "execution_count": 7,
   "metadata": {},
   "outputs": [
    {
     "name": "stderr",
     "output_type": "stream",
     "text": [
      "  4%|▍         | 1/25 [00:00<00:03,  7.70it/s]"
     ]
    },
    {
     "name": "stdout",
     "output_type": "stream",
     "text": [
      "Load experiment from /home/jorg/repository/dcnn_acdc/logs/20180328_10_53_16_dcnnv1_150000E_lr2e02/stats/exper_stats.dll\n",
      "Model name DCNN baseline fold-2\n",
      "Load experiment from /home/jorg/repository/dcnn_acdc/logs/20180420_11_59_43_dcnn_mcv1_150000E_lr2e02/stats/exper_stats.dll\n",
      "Model name MC-dropout fold-2 (p=0.1)\n",
      "Load experiment from /home/jorg/repository/dcnn_acdc/logs/20180420_12_00_23_dcnn_mcv1_150000E_lr2e04/stats/exper_stats.dll\n",
      "Model name MC-dropout brier fold-2 (p=0.1)\n",
      "INFO - Testhandler - >>> Search in val-dir for /home/jorg/repository/dcnn_acdc/data/Folds/fold2/validate/images_iso/*patient*.mhd <<<\n",
      "INFO - File list contains 50 files, hence 25 patients\n"
     ]
    },
    {
     "name": "stderr",
     "output_type": "stream",
     "text": [
      "100%|██████████| 25/25 [00:01<00:00, 16.69it/s]"
     ]
    },
    {
     "name": "stdout",
     "output_type": "stream",
     "text": [
      "INFO - Successfully loaded 25 ED/ES patient pairs\n"
     ]
    },
    {
     "name": "stderr",
     "output_type": "stream",
     "text": [
      "\n"
     ]
    }
   ],
   "source": [
    "exper_base = ExperimentHandler.load_experiment(exp_base_path)\n",
    "exper_hdl_base = ExperimentHandler(exper_base, use_logfile=False)\n",
    "exper_hdl_base.set_root_dir(ROOT_DIR)\n",
    "exper_hdl_base.set_model_name(\"DCNN baseline fold-{}\".format(exper_hdl_base.exper.run_args.fold_ids[0]))\n",
    "print(\"Model name {}\".format(exper_hdl_base.exper.model_name))\n",
    "\n",
    "if exp_mc005_path is not None:\n",
    "    exper_mc005 = ExperimentHandler.load_experiment(exp_mc005_path)\n",
    "    exper_hdl_mc005 = ExperimentHandler(exper_mc005, use_logfile=False)\n",
    "    exper_hdl_mc005.set_root_dir(ROOT_DIR)\n",
    "    exper_hdl_mc005.set_model_name(\"MC-dropout fold-{} (p={})\".format(exper_hdl_mc005.exper.run_args.fold_ids[0],\n",
    "        exper_hdl_mc005.exper.run_args.drop_prob))\n",
    "    print(\"Model name {}\".format(exper_hdl_mc005.exper.model_name))\n",
    "\n",
    "exper_mc01 = ExperimentHandler.load_experiment(exp_mc01_path)\n",
    "exper_hdl_mc01 = ExperimentHandler(exper_mc01, use_logfile=False)\n",
    "exper_hdl_mc01.set_root_dir(ROOT_DIR)\n",
    "exper_hdl_mc01.set_model_name(\"MC-dropout fold-{} (p={})\".format(exper_hdl_mc01.exper.run_args.fold_ids[0],\n",
    "    exper_hdl_mc01.exper.run_args.drop_prob))\n",
    "print(\"Model name {}\".format(exper_hdl_mc01.exper.model_name))\n",
    "\n",
    "if exp_mc005_expert1_path is not None:\n",
    "    exper_mc005_expert1 = ExperimentHandler.load_experiment(exp_mc005_expert1_path)\n",
    "    exper_hdl_mc005_expert1 = ExperimentHandler(exper_mc005_expert1, use_logfile=False)\n",
    "    exper_hdl_mc005_expert1.set_root_dir(ROOT_DIR)\n",
    "    exper_hdl_mc005_expert1.set_model_name(\"MC-dropout-expert1 fold-{} (p={})\".format(\n",
    "                                         exper_hdl_mc005_expert1.exper.run_args.chkpnt_freq,\n",
    "                                         exper_hdl_mc005_expert1.exper.run_args.fold_ids[0],\n",
    "                                         exper_hdl_mc005_expert1.exper.run_args.drop_prob))\n",
    "    print(\"Model name {}\".format(exper_hdl_mc005_expert1.exper.model_name))\n",
    "\n",
    "exper_mc01_brier = ExperimentHandler.load_experiment(exp_mc01_brier_path)\n",
    "exper_hdl_mc01_brier = ExperimentHandler(exper_mc01_brier, use_logfile=False)\n",
    "exper_hdl_mc01_brier.set_root_dir(ROOT_DIR)\n",
    "exper_hdl_mc01_brier.set_model_name(\"MC-dropout brier fold-{} (p={})\".format(\n",
    "                                exper_hdl_mc01_brier.exper.run_args.fold_ids[0],\n",
    "                                exper_hdl_mc01_brier.exper.run_args.drop_prob))\n",
    "print(\"Model name {}\".format(exper_hdl_mc01_brier.exper.model_name))\n",
    "\n",
    "try:\n",
    "    del test_set\n",
    "except:\n",
    "    pass\n",
    "\n",
    "test_set = ACDC2017TestHandler(exper_config=exper_hdl_mc01.exper.config, \n",
    "                               search_mask=config.dflt_image_name + \".mhd\", fold_ids=[TEST_FOLD],\n",
    "                               debug=False, batch_size=25, use_cuda=True, load_train=False, load_val=True,\n",
    "                               use_iso_path=True)"
   ]
  },
  {
   "cell_type": "code",
   "execution_count": null,
   "metadata": {
    "scrolled": false
   },
   "outputs": [],
   "source": [
    "settings = {'sample_eval': {},\n",
    "            'ensemble_eval': {\"mc_samples\": 1}, \"sample_weights\": False, \"store_details\": False,\n",
    "           'generate_stats': False, \"save_results\": True, \"checkpoints\": [150000],\n",
    "           'use_uncertainty': False, \"discard_outliers\": False}\n",
    "\n",
    "\n",
    "mc_samples = 1\n",
    "sample_weights = False\n",
    "store_details = True\n",
    "image_range = [0, 24]\n",
    "if not sample_weights:\n",
    "    generate_stats = False\n",
    "else:\n",
    "    generate_stats = True\n",
    "save_results = False\n",
    "checkpoints = [150000] #  [150000]\n",
    "use_uncertainty = True\n",
    "referral_threshold = 0.25\n",
    "discard_outliers = False\n",
    "\n",
    "exper_handler = exper_hdl_mc005_brier\n",
    "\n",
    "exper_handler.logger = None   \n",
    "exper_handler.exper.outliers_per_epoch = None\n",
    "\n",
    "test_ensemble(test_set, exper_handler, mc_samples=mc_samples, sample_weights=sample_weights,  \n",
    "              discard_outliers=discard_outliers, referral_threshold=referral_threshold, image_range=image_range, \n",
    "              checkpoints=checkpoints, use_uncertainty=use_uncertainty,\n",
    "              verbose=False, reset_results=True, store_details=store_details, \n",
    "              generate_stats=generate_stats, save_results=save_results, do_filter=True)\n",
    "# do_filter = 6 most connected component filtering\n",
    "\n",
    "\n",
    "    \n",
    "print(\"Ready\")"
   ]
  },
  {
   "cell_type": "code",
   "execution_count": 28,
   "metadata": {},
   "outputs": [
    {
     "name": "stdout",
     "output_type": "stream",
     "text": [
      "------------------------------------------------------------------------------------------------\n",
      "Overall:\tdice(RV/Myo/LV): ES 0.79 (0.01)/0.79 (0.00)/0.92 (0.03)\tED 0.89 (0.03)/0.78 (0.02)/0.94 (0.00)\n",
      "\t\t\t\t ES 0.85 (0.01)/0.84 (0.00)/0.94 (0.01)\tED 0.91 (0.03)/0.84 (0.01)/0.96 (0.00)\n",
      "Hausdorff(RV/Myo/LV):\tES 17.20 (3.99)/27.59 (12.51)/12.05 (0.85)\tED 21.00 (0.33)/26.65 (16.55)/9.39 (3.13)\n",
      "After referral:\t\tES 16.24 (4.95)/25.57 (12.51)/9.95 (2.95)\tED 15.62 (4.77)/25.85 (15.75)/9.06 (3.46)\n",
      "Ref ES %: 0.41 (std=0.34,med=0.28)\tRed%: 28.71 (std=21.28,med=24.18)\tPR/RC 0.25 (0.23)/0.29 (0.21)\n",
      "Ref ED %: 0.58 (std=0.52,med=0.40)\tRed%: 25.30 (std=15.42,med=22.67)\tPR/RC 0.17 (0.12)/0.23 (0.10)\n"
     ]
    }
   ],
   "source": [
    "exper_handler.test_results.compute_mean_stats()\n",
    "exper_handler.test_results.show_results()\n"
   ]
  },
  {
   "cell_type": "code",
   "execution_count": 89,
   "metadata": {},
   "outputs": [
    {
     "name": "stdout",
     "output_type": "stream",
     "text": [
      "(8, 223, 264, 8)\n",
      "(223, 264)\n",
      "(10, 223, 264)\n"
     ]
    }
   ],
   "source": [
    "mc_probs = exper_handler.test_results.mc_pred_probs[0]\n",
    "std_stats = exper_handler.test_results.stddev_maps[0]\n",
    "print(std_stats.shape)\n",
    "sliceid = 7\n",
    "c=1  # ES-RV\n",
    "# get probs from slice 8 [#samples, classes, width, height, #slices]\n",
    "mc_probs_slice = mc_probs[:, 1, :, :, 7]\n",
    "# get stddev-maps [classes, width, height, #slices]\n",
    "std_stats_slice = std_stats[1, :, :, 7]\n",
    "print(std_stats_slice.shape)\n",
    "print(mc_probs_slice.shape)"
   ]
  },
  {
   "cell_type": "code",
   "execution_count": 195,
   "metadata": {},
   "outputs": [
    {
     "name": "stdout",
     "output_type": "stream",
     "text": [
      "INFO - Loading results from file /home/jorg/repository/dcnn_acdc/logs/20180418_15_02_05_dcnn_mcv1_150000E_lr2e02//stats/test_results_25imgs_mc10_fold0_ep150000.dll\n",
      "INFO - Successfully loaded TestResult object.\n",
      "Num of images in test set 25\n"
     ]
    }
   ],
   "source": [
    "exper_handler = exper_hdl_mc01_brier\n",
    "t_path = \"/home/jorg/repository/dcnn_acdc/logs/20180418_15_02_05_dcnn_mcv1_150000E_lr2e02//stats/test_results_25imgs_mc10_fold0_ep150000.dll\"\n",
    "test_results = TestResults.load_results(t_path)\n",
    "print(\"Num of images in test set {}\".format(len(test_results.image_ids)))\n",
    "exper_handler.test_results = test_results"
   ]
  },
  {
   "cell_type": "code",
   "execution_count": null,
   "metadata": {
    "collapsed": true,
    "scrolled": false
   },
   "outputs": [],
   "source": [
    "image_range = None\n",
    "u_type = \"stddev\"\n",
    "\n",
    "analyze_slices(exper_handler, image_range=image_range, do_save=True, do_show=False, u_type=u_type,\n",
    "              use_high_threshold=True, translate_img_range=True)"
   ]
  },
  {
   "cell_type": "code",
   "execution_count": 9,
   "metadata": {},
   "outputs": [
    {
     "name": "stdout",
     "output_type": "stream",
     "text": [
      "Rows/columns 14/4\n",
      "INFO - Successfully saved fig /home/jorg/repository/dcnn_acdc/logs/20180416_08_25_43_dcnn_mcv1_150000E_lr2e02/figures/patient080/analysis_seg_err_slice1_mc10.pdf\n",
      "INFO - Successfully saved fig /home/jorg/repository/dcnn_acdc/logs/20180416_08_25_43_dcnn_mcv1_150000E_lr2e02/figures/patient080/analysis_seg_err_slice2_mc10.pdf\n",
      "INFO - Successfully saved fig /home/jorg/repository/dcnn_acdc/logs/20180416_08_25_43_dcnn_mcv1_150000E_lr2e02/figures/patient080/analysis_seg_err_slice3_mc10.pdf\n",
      "INFO - Successfully saved fig /home/jorg/repository/dcnn_acdc/logs/20180416_08_25_43_dcnn_mcv1_150000E_lr2e02/figures/patient080/analysis_seg_err_slice4_mc10.pdf\n",
      "INFO - Successfully saved fig /home/jorg/repository/dcnn_acdc/logs/20180416_08_25_43_dcnn_mcv1_150000E_lr2e02/figures/patient080/analysis_seg_err_slice5_mc10.pdf\n",
      "INFO - Successfully saved fig /home/jorg/repository/dcnn_acdc/logs/20180416_08_25_43_dcnn_mcv1_150000E_lr2e02/figures/patient080/analysis_seg_err_slice6_mc10.pdf\n",
      "Rows/columns 14/4\n",
      "INFO - Successfully saved fig /home/jorg/repository/dcnn_acdc/logs/20180416_08_25_43_dcnn_mcv1_150000E_lr2e02/figures/patient096/analysis_seg_err_slice1_mc10.pdf\n",
      "INFO - Successfully saved fig /home/jorg/repository/dcnn_acdc/logs/20180416_08_25_43_dcnn_mcv1_150000E_lr2e02/figures/patient096/analysis_seg_err_slice2_mc10.pdf\n",
      "INFO - Successfully saved fig /home/jorg/repository/dcnn_acdc/logs/20180416_08_25_43_dcnn_mcv1_150000E_lr2e02/figures/patient096/analysis_seg_err_slice3_mc10.pdf\n",
      "INFO - Successfully saved fig /home/jorg/repository/dcnn_acdc/logs/20180416_08_25_43_dcnn_mcv1_150000E_lr2e02/figures/patient096/analysis_seg_err_slice4_mc10.pdf\n",
      "INFO - Successfully saved fig /home/jorg/repository/dcnn_acdc/logs/20180416_08_25_43_dcnn_mcv1_150000E_lr2e02/figures/patient096/analysis_seg_err_slice5_mc10.pdf\n",
      "INFO - Successfully saved fig /home/jorg/repository/dcnn_acdc/logs/20180416_08_25_43_dcnn_mcv1_150000E_lr2e02/figures/patient096/analysis_seg_err_slice6_mc10.pdf\n",
      "INFO - Successfully saved fig /home/jorg/repository/dcnn_acdc/logs/20180416_08_25_43_dcnn_mcv1_150000E_lr2e02/figures/patient096/analysis_seg_err_slice7_mc10.pdf\n",
      "INFO - Successfully saved fig /home/jorg/repository/dcnn_acdc/logs/20180416_08_25_43_dcnn_mcv1_150000E_lr2e02/figures/patient096/analysis_seg_err_slice8_mc10.pdf\n",
      "INFO - Successfully saved fig /home/jorg/repository/dcnn_acdc/logs/20180416_08_25_43_dcnn_mcv1_150000E_lr2e02/figures/patient096/analysis_seg_err_slice9_mc10.pdf\n",
      "INFO - Successfully saved fig /home/jorg/repository/dcnn_acdc/logs/20180416_08_25_43_dcnn_mcv1_150000E_lr2e02/figures/patient096/analysis_seg_err_slice10_mc10.pdf\n",
      "INFO - Successfully saved fig /home/jorg/repository/dcnn_acdc/logs/20180416_08_25_43_dcnn_mcv1_150000E_lr2e02/figures/patient096/analysis_seg_err_slice11_mc10.pdf\n",
      "INFO - Successfully saved fig /home/jorg/repository/dcnn_acdc/logs/20180416_08_25_43_dcnn_mcv1_150000E_lr2e02/figures/patient096/analysis_seg_err_slice12_mc10.pdf\n",
      "INFO - Successfully saved fig /home/jorg/repository/dcnn_acdc/logs/20180416_08_25_43_dcnn_mcv1_150000E_lr2e02/figures/patient096/analysis_seg_err_slice13_mc10.pdf\n",
      "INFO - Successfully saved fig /home/jorg/repository/dcnn_acdc/logs/20180416_08_25_43_dcnn_mcv1_150000E_lr2e02/figures/patient096/analysis_seg_err_slice14_mc10.pdf\n",
      "INFO - Successfully saved fig /home/jorg/repository/dcnn_acdc/logs/20180416_08_25_43_dcnn_mcv1_150000E_lr2e02/figures/patient096/analysis_seg_err_slice15_mc10.pdf\n",
      "INFO - Successfully saved fig /home/jorg/repository/dcnn_acdc/logs/20180416_08_25_43_dcnn_mcv1_150000E_lr2e02/figures/patient096/analysis_seg_err_slice16_mc10.pdf\n",
      "INFO - Successfully saved fig /home/jorg/repository/dcnn_acdc/logs/20180416_08_25_43_dcnn_mcv1_150000E_lr2e02/figures/patient096/analysis_seg_err_slice17_mc10.pdf\n",
      "INFO - Successfully saved fig /home/jorg/repository/dcnn_acdc/logs/20180416_08_25_43_dcnn_mcv1_150000E_lr2e02/figures/patient096/analysis_seg_err_slice18_mc10.pdf\n",
      "Rows/columns 14/4\n",
      "INFO - Successfully saved fig /home/jorg/repository/dcnn_acdc/logs/20180416_08_25_43_dcnn_mcv1_150000E_lr2e02/figures/patient097/analysis_seg_err_slice1_mc10.pdf\n",
      "INFO - Successfully saved fig /home/jorg/repository/dcnn_acdc/logs/20180416_08_25_43_dcnn_mcv1_150000E_lr2e02/figures/patient097/analysis_seg_err_slice2_mc10.pdf\n",
      "INFO - Successfully saved fig /home/jorg/repository/dcnn_acdc/logs/20180416_08_25_43_dcnn_mcv1_150000E_lr2e02/figures/patient097/analysis_seg_err_slice3_mc10.pdf\n",
      "INFO - Successfully saved fig /home/jorg/repository/dcnn_acdc/logs/20180416_08_25_43_dcnn_mcv1_150000E_lr2e02/figures/patient097/analysis_seg_err_slice4_mc10.pdf\n",
      "INFO - Successfully saved fig /home/jorg/repository/dcnn_acdc/logs/20180416_08_25_43_dcnn_mcv1_150000E_lr2e02/figures/patient097/analysis_seg_err_slice5_mc10.pdf\n",
      "INFO - Successfully saved fig /home/jorg/repository/dcnn_acdc/logs/20180416_08_25_43_dcnn_mcv1_150000E_lr2e02/figures/patient097/analysis_seg_err_slice6_mc10.pdf\n",
      "INFO - Successfully saved fig /home/jorg/repository/dcnn_acdc/logs/20180416_08_25_43_dcnn_mcv1_150000E_lr2e02/figures/patient097/analysis_seg_err_slice7_mc10.pdf\n",
      "INFO - Successfully saved fig /home/jorg/repository/dcnn_acdc/logs/20180416_08_25_43_dcnn_mcv1_150000E_lr2e02/figures/patient097/analysis_seg_err_slice8_mc10.pdf\n",
      "Rows/columns 14/4\n",
      "INFO - Successfully saved fig /home/jorg/repository/dcnn_acdc/logs/20180416_08_25_43_dcnn_mcv1_150000E_lr2e02/figures/patient098/analysis_seg_err_slice1_mc10.pdf\n",
      "INFO - Successfully saved fig /home/jorg/repository/dcnn_acdc/logs/20180416_08_25_43_dcnn_mcv1_150000E_lr2e02/figures/patient098/analysis_seg_err_slice2_mc10.pdf\n",
      "INFO - Successfully saved fig /home/jorg/repository/dcnn_acdc/logs/20180416_08_25_43_dcnn_mcv1_150000E_lr2e02/figures/patient098/analysis_seg_err_slice3_mc10.pdf\n",
      "INFO - Successfully saved fig /home/jorg/repository/dcnn_acdc/logs/20180416_08_25_43_dcnn_mcv1_150000E_lr2e02/figures/patient098/analysis_seg_err_slice4_mc10.pdf\n",
      "INFO - Successfully saved fig /home/jorg/repository/dcnn_acdc/logs/20180416_08_25_43_dcnn_mcv1_150000E_lr2e02/figures/patient098/analysis_seg_err_slice5_mc10.pdf\n",
      "INFO - Successfully saved fig /home/jorg/repository/dcnn_acdc/logs/20180416_08_25_43_dcnn_mcv1_150000E_lr2e02/figures/patient098/analysis_seg_err_slice6_mc10.pdf\n",
      "INFO - Successfully saved fig /home/jorg/repository/dcnn_acdc/logs/20180416_08_25_43_dcnn_mcv1_150000E_lr2e02/figures/patient098/analysis_seg_err_slice7_mc10.pdf\n",
      "Rows/columns 14/4\n",
      "INFO - Successfully saved fig /home/jorg/repository/dcnn_acdc/logs/20180416_08_25_43_dcnn_mcv1_150000E_lr2e02/figures/patient099/analysis_seg_err_slice1_mc10.pdf\n",
      "INFO - Successfully saved fig /home/jorg/repository/dcnn_acdc/logs/20180416_08_25_43_dcnn_mcv1_150000E_lr2e02/figures/patient099/analysis_seg_err_slice2_mc10.pdf\n",
      "INFO - Successfully saved fig /home/jorg/repository/dcnn_acdc/logs/20180416_08_25_43_dcnn_mcv1_150000E_lr2e02/figures/patient099/analysis_seg_err_slice3_mc10.pdf\n",
      "INFO - Successfully saved fig /home/jorg/repository/dcnn_acdc/logs/20180416_08_25_43_dcnn_mcv1_150000E_lr2e02/figures/patient099/analysis_seg_err_slice4_mc10.pdf\n",
      "INFO - Successfully saved fig /home/jorg/repository/dcnn_acdc/logs/20180416_08_25_43_dcnn_mcv1_150000E_lr2e02/figures/patient099/analysis_seg_err_slice5_mc10.pdf\n",
      "INFO - Successfully saved fig /home/jorg/repository/dcnn_acdc/logs/20180416_08_25_43_dcnn_mcv1_150000E_lr2e02/figures/patient099/analysis_seg_err_slice6_mc10.pdf\n",
      "INFO - Successfully saved fig /home/jorg/repository/dcnn_acdc/logs/20180416_08_25_43_dcnn_mcv1_150000E_lr2e02/figures/patient099/analysis_seg_err_slice7_mc10.pdf\n",
      "INFO - Successfully saved fig /home/jorg/repository/dcnn_acdc/logs/20180416_08_25_43_dcnn_mcv1_150000E_lr2e02/figures/patient099/analysis_seg_err_slice8_mc10.pdf\n",
      "INFO - Successfully saved fig /home/jorg/repository/dcnn_acdc/logs/20180416_08_25_43_dcnn_mcv1_150000E_lr2e02/figures/patient099/analysis_seg_err_slice9_mc10.pdf\n",
      "INFO - Successfully saved fig /home/jorg/repository/dcnn_acdc/logs/20180416_08_25_43_dcnn_mcv1_150000E_lr2e02/figures/patient099/analysis_seg_err_slice10_mc10.pdf\n",
      "INFO - Successfully saved fig /home/jorg/repository/dcnn_acdc/logs/20180416_08_25_43_dcnn_mcv1_150000E_lr2e02/figures/patient099/analysis_seg_err_slice11_mc10.pdf\n"
     ]
    },
    {
     "name": "stdout",
     "output_type": "stream",
     "text": [
      "INFO - Successfully saved fig /home/jorg/repository/dcnn_acdc/logs/20180416_08_25_43_dcnn_mcv1_150000E_lr2e02/figures/patient099/analysis_seg_err_slice12_mc10.pdf\n",
      "INFO - Successfully saved fig /home/jorg/repository/dcnn_acdc/logs/20180416_08_25_43_dcnn_mcv1_150000E_lr2e02/figures/patient099/analysis_seg_err_slice13_mc10.pdf\n",
      "INFO - Successfully saved fig /home/jorg/repository/dcnn_acdc/logs/20180416_08_25_43_dcnn_mcv1_150000E_lr2e02/figures/patient099/analysis_seg_err_slice14_mc10.pdf\n",
      "INFO - Successfully saved fig /home/jorg/repository/dcnn_acdc/logs/20180416_08_25_43_dcnn_mcv1_150000E_lr2e02/figures/patient099/analysis_seg_err_slice15_mc10.pdf\n",
      "INFO - Successfully saved fig /home/jorg/repository/dcnn_acdc/logs/20180416_08_25_43_dcnn_mcv1_150000E_lr2e02/figures/patient099/analysis_seg_err_slice16_mc10.pdf\n",
      "Rows/columns 14/4\n",
      "INFO - Successfully saved fig /home/jorg/repository/dcnn_acdc/logs/20180416_08_25_43_dcnn_mcv1_150000E_lr2e02/figures/patient100/analysis_seg_err_slice1_mc10.pdf\n",
      "INFO - Successfully saved fig /home/jorg/repository/dcnn_acdc/logs/20180416_08_25_43_dcnn_mcv1_150000E_lr2e02/figures/patient100/analysis_seg_err_slice2_mc10.pdf\n",
      "INFO - Successfully saved fig /home/jorg/repository/dcnn_acdc/logs/20180416_08_25_43_dcnn_mcv1_150000E_lr2e02/figures/patient100/analysis_seg_err_slice3_mc10.pdf\n",
      "INFO - Successfully saved fig /home/jorg/repository/dcnn_acdc/logs/20180416_08_25_43_dcnn_mcv1_150000E_lr2e02/figures/patient100/analysis_seg_err_slice4_mc10.pdf\n",
      "INFO - Successfully saved fig /home/jorg/repository/dcnn_acdc/logs/20180416_08_25_43_dcnn_mcv1_150000E_lr2e02/figures/patient100/analysis_seg_err_slice5_mc10.pdf\n",
      "INFO - Successfully saved fig /home/jorg/repository/dcnn_acdc/logs/20180416_08_25_43_dcnn_mcv1_150000E_lr2e02/figures/patient100/analysis_seg_err_slice6_mc10.pdf\n",
      "INFO - Successfully saved fig /home/jorg/repository/dcnn_acdc/logs/20180416_08_25_43_dcnn_mcv1_150000E_lr2e02/figures/patient100/analysis_seg_err_slice7_mc10.pdf\n",
      "INFO - Successfully saved fig /home/jorg/repository/dcnn_acdc/logs/20180416_08_25_43_dcnn_mcv1_150000E_lr2e02/figures/patient100/analysis_seg_err_slice8_mc10.pdf\n",
      "INFO - Ready!\n"
     ]
    }
   ],
   "source": [
    "# image_range = [16,17, 18, 19]\n",
    "errors_only = False\n",
    "\n",
    "for image_num in image_range:\n",
    "    exper_handler.test_results.visualize_uncertainty_histograms(image_num=image_num, width=20, height=60, \n",
    "                                                                info_type=\"uncertainty\",\n",
    "                                                                 do_save=True, slice_range=None,\n",
    "                                                                 std_threshold=0., errors_only=errors_only, \n",
    "                                                                 do_show=False, use_bald=True,\n",
    "                                                                 model_name = exper_handler.exper.model_name)\n",
    "                                                                 # model_name=\"MC-dropout (0.1)\") [0,1,2,3,4,5]\n",
    "print(\"INFO - Ready!\")"
   ]
  },
  {
   "cell_type": "code",
   "execution_count": 43,
   "metadata": {},
   "outputs": [
    {
     "name": "stdout",
     "output_type": "stream",
     "text": [
      "Loaded outlier stats for 1 training epochs (property=outliers_per_epoch, dictionary (key=epoch) with tuple (6 elements) and property=test_results_per_epoch, dict (key=epoch) with tuple (4))\n"
     ]
    }
   ],
   "source": [
    "exper_handler = exper_hdl_mc005\n",
    "exper_handler.get_outlier_stats(verbose=True)"
   ]
  },
  {
   "cell_type": "code",
   "execution_count": 44,
   "metadata": {},
   "outputs": [
    {
     "name": "stdout",
     "output_type": "stream",
     "text": [
      "Patient ID patient036\n",
      "{7: [1, 2, 3]}\n",
      "{6: [1], 7: [1, 2, 3]}\n"
     ]
    }
   ],
   "source": [
    "\n",
    "image_num = 5\n",
    "# geth the patient id for this image_num\n",
    "patient_id = test_set.img_file_names[image_num]\n",
    "print(\"Patient ID {}\".format(patient_id))\n",
    "# get the \"latest\" (max epoch) outlier statistics, tuple with 6 dictionaries\n",
    "outlier_stats = exper_handler.exper.outliers_per_epoch[exper_handler.exper.epoch_id]\n",
    "image_outliers = ImageOutliers(patient_id, outlier_stats)\n",
    "print(image_outliers.out_img_cls_es)\n",
    "print(image_outliers.out_img_cls_ed)"
   ]
  }
 ],
 "metadata": {
  "kernelspec": {
   "display_name": "Python 2",
   "language": "python",
   "name": "python2"
  },
  "language_info": {
   "codemirror_mode": {
    "name": "ipython",
    "version": 2
   },
   "file_extension": ".py",
   "mimetype": "text/x-python",
   "name": "python",
   "nbconvert_exporter": "python",
   "pygments_lexer": "ipython2",
   "version": "2.7.14"
  }
 },
 "nbformat": 4,
 "nbformat_minor": 2
}
