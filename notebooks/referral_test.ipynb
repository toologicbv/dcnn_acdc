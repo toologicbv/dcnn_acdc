{
 "cells": [
  {
   "cell_type": "code",
   "execution_count": 1,
   "metadata": {
    "collapsed": true
   },
   "outputs": [],
   "source": [
    "\n",
    "from __future__ import print_function\n",
    "\n",
    "import sys\n",
    "\n",
    "sys.path.extend(['/home/jorg/repository/dcnn_acdc'])\n",
    "\n",
    "import matplotlib\n",
    "import matplotlib.pyplot as plt\n",
    "\n",
    "from matplotlib import cm\n",
    "\n",
    "\n",
    "from datetime import datetime\n",
    "from pytz import timezone\n",
    "import itertools\n",
    "import copy\n",
    "\n",
    "import SimpleITK as sitk\n",
    "import numpy as np\n",
    "import torch\n",
    "from torch.autograd import Variable\n",
    "import torch.nn as nn\n",
    "import torch.nn.functional as F\n",
    "import torch.optim as optim\n",
    "from torch.nn import init\n",
    "\n",
    "import numpy as np\n",
    "import dill\n",
    "import os\n",
    "import glob\n",
    "from collections import OrderedDict\n",
    "\n",
    "from in_out.load_data import ACDC2017DataSet\n",
    "from config.config import config\n",
    "from utils.experiment import Experiment, ExperimentHandler\n",
    "from utils.batch_handlers import TwoDimBatchHandler\n",
    "from utils.test_handler import ACDC2017TestHandler, test_ensemble\n",
    "from utils.test_results import TestResults\n",
    "from plotting.learning_curves import loss_plot\n",
    "from plotting.uncertainty_plots import analyze_slices\n",
    "from plotting.slice_outliers_plots import plot_outlier_slice_hists\n",
    "from utils.generate_uncertainty_maps import ImageOutliers\n",
    "\n",
    "from models.dilated_cnn import BaseDilated2DCNN\n",
    "\n",
    "%matplotlib inline\n",
    "%load_ext autoreload\n",
    "%autoreload 2"
   ]
  },
  {
   "cell_type": "code",
   "execution_count": 2,
   "metadata": {
    "collapsed": true
   },
   "outputs": [],
   "source": [
    "ROOT_DIR = \"/home/jorg/repository/dcnn_acdc\"\n",
    "LOG_DIR = os.path.join(ROOT_DIR, \"logs\")\n",
    "CYCLE_OFFSET = 100000\n",
    "# set seeds\n",
    "SEED = 4325\n",
    "torch.manual_seed(SEED)\n",
    "torch.cuda.manual_seed(SEED)\n",
    "torch.backends.cudnn.enabled = True\n",
    "np.random.seed(SEED)\n",
    "\n",
    "# IMPORTANT - THE FOLD WE'RE USING FOR TESTING. NOTE: Training and testing fold should be the same\n",
    "# we raise an error in the test_ensemble method if this is not the case!\n",
    "TEST_FOLD = 0\n",
    "\n",
    "# baseline: \n",
    "exp_base = {2: \"20180328_10_53_16_dcnnv1_150000E_lr2e02\",\n",
    "            0: \"20180330_09_56_39_dcnnv1_150000E_lr2e02\"}\n",
    "exp_base_path = os.path.join(LOG_DIR, exp_base[TEST_FOLD])\n",
    "\n",
    "# MC dropout models\n",
    "# Fold 2: \n",
    "# Fold 0: 20180413_16_36_58_dcnn_mcv1_150000E_lr2e02\n",
    "exp_mc005 = {2: \"\",\n",
    "             0: \"20180413_16_36_58_dcnn_mcv1_150000E_lr2e02\"}\n",
    "exp_mc005_path = os.path.join(LOG_DIR, exp_mc005[TEST_FOLD])\n",
    "\n",
    "# MC dropout models\n",
    "# Fold 2: \n",
    "# Fold 0: 20180413_16_36_58_dcnn_mcv1_150000E_lr2e02\n",
    "exp_mc01 = {2: \"\",\n",
    "            0: \"20180416_08_25_43_dcnn_mcv1_150000E_lr2e02\"}\n",
    "exp_mc01_path = os.path.join(LOG_DIR, exp_mc01[TEST_FOLD])\n",
    "\n",
    "\n",
    "# This model was retrained on checkpoint 140000 of the baseline MC model 20180413_16_36_58_dcnn_mcv1_150000E_lr2e02\n",
    "# @epoch0-> generate uMaps, trained for 20,000 epochs where uMaps are re-generated each 10,000 iterations\n",
    "# IMPORTANT: the model was ONLY trained on outlier slices for 20,000 epochs (after pre-training of 140,000)\n",
    "# Fold 2: \n",
    "# Fold 0: 20180413_17_03_22_dcnn_mcv1_150000E_lr2e02\n",
    "exp_mc005_expert1 = {2: \"\",\n",
    "                     0: \"20180417_17_43_20_dcnn_mcv1_20000E_lr2e02\"}\n",
    "exp_mc005_expert1_path = os.path.join(LOG_DIR, exp_mc005_expert1[TEST_FOLD])\n",
    "\n",
    "# Fold 2: \n",
    "# Fold 0: 20180418_15_02_05_dcnn_mcv1_150000E_lr2e02\n",
    "exp_mc01_brier = {2: \"\",\n",
    "                    0: \"20180418_15_02_05_dcnn_mcv1_150000E_lr2e02\"}\n",
    "exp_mc01_brier_path = os.path.join(LOG_DIR, exp_mc01_brier[TEST_FOLD])"
   ]
  },
  {
   "cell_type": "code",
   "execution_count": 3,
   "metadata": {},
   "outputs": [
    {
     "name": "stderr",
     "output_type": "stream",
     "text": [
      "\r",
      "  0%|          | 0/25 [00:00<?, ?it/s]"
     ]
    },
    {
     "name": "stdout",
     "output_type": "stream",
     "text": [
      "Load experiment from /home/jorg/repository/dcnn_acdc/logs/20180330_09_56_39_dcnnv1_150000E_lr2e02/stats/exper_stats.dll\n",
      "Model name DCNN baseline fold-0\n",
      "Load experiment from /home/jorg/repository/dcnn_acdc/logs/20180413_16_36_58_dcnn_mcv1_150000E_lr2e02/stats/exper_stats.dll\n",
      "Model name MC-dropout fold-0 (p=0.05)\n",
      "Load experiment from /home/jorg/repository/dcnn_acdc/logs/20180416_08_25_43_dcnn_mcv1_150000E_lr2e02/stats/exper_stats.dll\n",
      "Model name MC-dropout fold-0 (p=0.1)\n",
      "Load experiment from /home/jorg/repository/dcnn_acdc/logs/20180417_17_43_20_dcnn_mcv1_20000E_lr2e02/stats/exper_stats.dll\n",
      "Model name MC-dropout-expert1 fold-10000 (p=0)\n",
      "Load experiment from /home/jorg/repository/dcnn_acdc/logs/20180418_15_02_05_dcnn_mcv1_150000E_lr2e02/stats/exper_stats.dll\n",
      "Model name MC-dropout brier fold-0 (p=0.1)\n",
      "INFO - Testhandler - >>> Search in val-dir for /home/jorg/repository/dcnn_acdc/data/Folds/fold0/validate/images_iso/*patient*.mhd <<<\n",
      "INFO - File list contains 50 files, hence 25 patients\n"
     ]
    },
    {
     "name": "stderr",
     "output_type": "stream",
     "text": [
      "100%|██████████| 25/25 [00:01<00:00, 15.52it/s]"
     ]
    },
    {
     "name": "stdout",
     "output_type": "stream",
     "text": [
      "INFO - Successfully loaded 25 ED/ES patient pairs\n"
     ]
    },
    {
     "name": "stderr",
     "output_type": "stream",
     "text": [
      "\n"
     ]
    }
   ],
   "source": [
    "exper_base = ExperimentHandler.load_experiment(exp_base_path)\n",
    "exper_hdl_base = ExperimentHandler(exper_base, use_logfile=False)\n",
    "exper_hdl_base.set_root_dir(ROOT_DIR)\n",
    "exper_hdl_base.set_model_name(\"DCNN baseline fold-{}\".format(exper_hdl_base.exper.run_args.fold_ids[0]))\n",
    "print(\"Model name {}\".format(exper_hdl_base.exper.model_name))\n",
    "\n",
    "exper_mc005 = ExperimentHandler.load_experiment(exp_mc005_path)\n",
    "exper_hdl_mc005 = ExperimentHandler(exper_mc005, use_logfile=False)\n",
    "exper_hdl_mc005.set_root_dir(ROOT_DIR)\n",
    "exper_hdl_mc005.set_model_name(\"MC-dropout fold-{} (p={})\".format(exper_hdl_mc005.exper.run_args.fold_ids[0],\n",
    "    exper_hdl_mc005.exper.run_args.drop_prob))\n",
    "print(\"Model name {}\".format(exper_hdl_mc005.exper.model_name))\n",
    "\n",
    "exper_mc01 = ExperimentHandler.load_experiment(exp_mc01_path)\n",
    "exper_hdl_mc01 = ExperimentHandler(exper_mc01, use_logfile=False)\n",
    "exper_hdl_mc01.set_root_dir(ROOT_DIR)\n",
    "exper_hdl_mc01.set_model_name(\"MC-dropout fold-{} (p={})\".format(exper_hdl_mc01.exper.run_args.fold_ids[0],\n",
    "    exper_hdl_mc01.exper.run_args.drop_prob))\n",
    "print(\"Model name {}\".format(exper_hdl_mc01.exper.model_name))\n",
    "\n",
    "exper_mc005_expert1 = ExperimentHandler.load_experiment(exp_mc005_expert1_path)\n",
    "exper_hdl_mc005_expert1 = ExperimentHandler(exper_mc005_expert1, use_logfile=False)\n",
    "exper_hdl_mc005_expert1.set_root_dir(ROOT_DIR)\n",
    "exper_hdl_mc005_expert1.set_model_name(\"MC-dropout-expert1 fold-{} (p={})\".format(\n",
    "                                     exper_hdl_mc005_expert1.exper.run_args.chkpnt_freq,\n",
    "                                     exper_hdl_mc005_expert1.exper.run_args.fold_ids[0],\n",
    "                                     exper_hdl_mc005_expert1.exper.run_args.drop_prob))\n",
    "print(\"Model name {}\".format(exper_hdl_mc005_expert1.exper.model_name))\n",
    "\n",
    "exper_mc01_brier = ExperimentHandler.load_experiment(exp_mc01_brier_path)\n",
    "exper_hdl_mc01_brier = ExperimentHandler(exper_mc01_brier, use_logfile=False)\n",
    "exper_hdl_mc01_brier.set_root_dir(ROOT_DIR)\n",
    "exper_hdl_mc01_brier.set_model_name(\"MC-dropout brier fold-{} (p={})\".format(\n",
    "                                exper_hdl_mc01_brier.exper.run_args.fold_ids[0],\n",
    "                                exper_hdl_mc01_brier.exper.run_args.drop_prob))\n",
    "print(\"Model name {}\".format(exper_hdl_mc01_brier.exper.model_name))\n",
    "\n",
    "try:\n",
    "    del test_set\n",
    "except:\n",
    "    pass\n",
    "\n",
    "test_set = ACDC2017TestHandler(exper_config=exper_hdl_mc005.exper.config, \n",
    "                               search_mask=config.dflt_image_name + \".mhd\", fold_ids=[TEST_FOLD],\n",
    "                               debug=False, batch_size=25, use_cuda=True, load_train=False, load_val=True,\n",
    "                               use_iso_path=True)"
   ]
  },
  {
   "cell_type": "code",
   "execution_count": 53,
   "metadata": {
    "scrolled": false
   },
   "outputs": [
    {
     "name": "stdout",
     "output_type": "stream",
     "text": [
      "Loading existing model loaded from checkpoint dir /home/jorg/repository/dcnn_acdc/logs/20180416_08_25_43_dcnn_mcv1_150000E_lr2e02/checkpoints\n",
      "Evaluating model MC-dropout fold-0 (p=0.1) - runID 1\n",
      "INFO - Running test on 3 images with model from checkpoint 150000\n",
      "Slice 1/RV - Referral (801/307 of 52272): Absolute/relative ES 0.02 / 0.47 (1707) - ED 0.01 / 0.14 (2221)\n",
      "Slice 1/LV - Referral (114/72 of 52272): Absolute/relative ES 0.00 / 0.06 (1833) - ED 0.00 / 0.03 (2152)\n",
      "Slice 2/RV - Referral (355/103 of 52272): Absolute/relative ES 0.01 / 0.18 (1924) - ED 0.00 / 0.04 (2426)\n",
      "Slice 2/LV - Referral (208/85 of 52272): Absolute/relative ES 0.00 / 0.10 (2114) - ED 0.00 / 0.03 (2429)\n",
      "Slice 3/RV - Referral (539/172 of 52272): Absolute/relative ES 0.01 / 0.28 (1915) - ED 0.00 / 0.08 (2202)\n",
      "Slice 3/LV - Referral (318/296 of 52272): Absolute/relative ES 0.01 / 0.14 (2216) - ED 0.01 / 0.12 (2453)\n",
      "Slice 4/RV - Referral (653/289 of 52272): Absolute/relative ES 0.01 / 0.43 (1510) - ED 0.01 / 0.17 (1660)\n",
      "Slice 4/LV - Referral (263/185 of 52272): Absolute/relative ES 0.01 / 0.12 (2220) - ED 0.00 / 0.08 (2436)\n",
      "Slice 5/RV - Referral (350/158 of 52272): Absolute/relative ES 0.01 / 0.33 (1072) - ED 0.00 / 0.13 (1217)\n",
      "Slice 5/LV - Referral (200/203 of 52272): Absolute/relative ES 0.00 / 0.09 (2170) - ED 0.00 / 0.08 (2411)\n",
      "Slice 6/RV - Referral (332/99 of 52272): Absolute/relative ES 0.01 / 0.39 (852) - ED 0.00 / 0.11 (925)\n",
      "Slice 6/LV - Referral (281/251 of 52272): Absolute/relative ES 0.01 / 0.14 (2058) - ED 0.00 / 0.11 (2232)\n",
      "Slice 7/RV - Referral (291/94 of 52272): Absolute/relative ES 0.01 / 0.50 (579) - ED 0.00 / 0.16 (600)\n",
      "Slice 7/LV - Referral (164/121 of 52272): Absolute/relative ES 0.00 / 0.10 (1717) - ED 0.00 / 0.07 (1842)\n",
      "Slice 8/RV - Referral (205/67 of 52272): Absolute/relative ES 0.00 / 0.42 (489) - ED 0.00 / 0.13 (535)\n",
      "Slice 8/LV - Referral (66/22 of 52272): Absolute/relative ES 0.00 / 0.06 (1143) - ED 0.00 / 0.02 (1206)\n",
      "Slice 9/RV - Referral (146/64 of 52272): Absolute/relative ES 0.00 / 0.65 (225) - ED 0.00 / 0.19 (342)\n",
      "Slice 9/LV - Referral (34/11 of 52272): Absolute/relative ES 0.00 / 0.06 (585) - ED 0.00 / 0.02 (671)\n",
      "Slice 10/RV - Referral (0/2 of 52272): Absolute/relative ES 0.00 / 0.00 (0) - ED 0.00 / 1.00 (2)\n",
      "Slice 10/LV - Referral (7/0 of 52272): Absolute/relative ES 0.00 / 1.00 (7) - ED 0.00 / 0.00 (3)\n",
      "Image 1-patient016 - Test accuracy: test loss -1.606\t  dice(RV/Myo/LV): ES 0.91/0.83/0.97 --- ED 0.96/0.82/0.97\n",
      "Image 1 - Test accuracy: test loss -1.606\t Hausdorff(RV/Myo/LV): ES 11.63/10.48/10.93 --- ED 24.09/19.60/11.88\n",
      "Slice 1/RV - Referral (177/263 of 52750): Absolute/relative ES 0.00 / 0.24 (743) - ED 0.00 / 0.13 (1962)\n",
      "Slice 1/LV - Referral (48/49 of 52750): Absolute/relative ES 0.00 / 0.07 (691) - ED 0.00 / 0.04 (1176)\n",
      "Slice 2/RV - Referral (154/104 of 52750): Absolute/relative ES 0.00 / 0.11 (1370) - ED 0.00 / 0.06 (1658)\n",
      "Slice 2/LV - Referral (52/36 of 52750): Absolute/relative ES 0.00 / 0.06 (830) - ED 0.00 / 0.03 (1385)\n",
      "Slice 3/RV - Referral (175/47 of 52750): Absolute/relative ES 0.00 / 0.16 (1100) - ED 0.00 / 0.04 (1269)\n",
      "Slice 3/LV - Referral (69/36 of 52750): Absolute/relative ES 0.00 / 0.07 (1020) - ED 0.00 / 0.03 (1407)\n",
      "Slice 4/RV - Referral (225/83 of 52750): Absolute/relative ES 0.00 / 0.28 (799) - ED 0.00 / 0.09 (918)\n",
      "Slice 4/LV - Referral (93/26 of 52750): Absolute/relative ES 0.00 / 0.09 (1011) - ED 0.00 / 0.02 (1401)\n",
      "Slice 5/RV - Referral (151/47 of 52750): Absolute/relative ES 0.00 / 0.26 (586) - ED 0.00 / 0.07 (676)\n",
      "Slice 5/LV - Referral (53/20 of 52750): Absolute/relative ES 0.00 / 0.06 (926) - ED 0.00 / 0.02 (1283)\n",
      "Slice 6/RV - Referral (108/30 of 52750): Absolute/relative ES 0.00 / 0.38 (287) - ED 0.00 / 0.07 (448)\n",
      "Slice 6/LV - Referral (57/26 of 52750): Absolute/relative ES 0.00 / 0.08 (723) - ED 0.00 / 0.02 (1082)\n",
      "Slice 7/RV - Referral (17/6 of 52750): Absolute/relative ES 0.00 / 0.14 (123) - ED 0.00 / 0.02 (246)\n",
      "Slice 7/LV - Referral (22/19 of 52750): Absolute/relative ES 0.00 / 0.06 (343) - ED 0.00 / 0.02 (768)\n",
      "Slice 8/RV - Referral (0/5 of 52750): Absolute/relative ES 0.00 / 0.00 (0) - ED 0.00 / 0.06 (83)\n",
      "Slice 8/LV - Referral (4/7 of 52750): Absolute/relative ES 0.00 / 0.03 (153) - ED 0.00 / 0.02 (441)\n",
      "Slice 9/RV - Referral (0/12 of 52750): Absolute/relative ES 0.00 / 0.00 (0) - ED 0.00 / 0.86 (14)\n",
      "Slice 9/LV - Referral (0/0 of 52750): Absolute/relative ES 0.00 / 0.00 (0) - ED 0.00 / 0.00 (0)\n",
      "Image 11-patient056 - Test accuracy: test loss -1.124\t  dice(RV/Myo/LV): ES 0.89/0.90/0.98 --- ED 0.98/0.88/0.99\n",
      "Image 11 - Test accuracy: test loss -1.124\t Hausdorff(RV/Myo/LV): ES 11.96/10.38/3.96 --- ED 4.20/16.63/5.05\n",
      "Slice 1/RV - Referral (237/304 of 58058): Absolute/relative ES 0.00 / 0.28 (842) - ED 0.01 / 0.22 (1376)\n",
      "Slice 1/LV - Referral (29/7 of 58058): Absolute/relative ES 0.00 / 0.08 (354) - ED 0.00 / 0.01 (649)\n",
      "Slice 2/RV - Referral (305/294 of 58058): Absolute/relative ES 0.01 / 0.29 (1038) - ED 0.01 / 0.20 (1446)\n",
      "Slice 2/LV - Referral (21/21 of 58058): Absolute/relative ES 0.00 / 0.06 (339) - ED 0.00 / 0.03 (692)\n",
      "Slice 3/RV - Referral (561/477 of 58058): Absolute/relative ES 0.01 / 0.48 (1165) - ED 0.01 / 0.32 (1470)\n",
      "Slice 3/LV - Referral (39/26 of 58058): Absolute/relative ES 0.00 / 0.13 (311) - ED 0.00 / 0.04 (668)\n",
      "Slice 4/RV - Referral (202/149 of 58058): Absolute/relative ES 0.00 / 0.19 (1052) - ED 0.00 / 0.11 (1332)\n",
      "Slice 4/LV - Referral (41/42 of 58058): Absolute/relative ES 0.00 / 0.16 (263) - ED 0.00 / 0.07 (591)\n",
      "Slice 5/RV - Referral (200/168 of 58058): Absolute/relative ES 0.00 / 0.26 (780) - ED 0.00 / 0.16 (1079)\n",
      "Slice 5/LV - Referral (50/18 of 58058): Absolute/relative ES 0.00 / 0.22 (229) - ED 0.00 / 0.03 (543)\n",
      "Slice 6/RV - Referral (71/46 of 58058): Absolute/relative ES 0.00 / 0.12 (585) - ED 0.00 / 0.05 (903)\n",
      "Slice 6/LV - Referral (50/11 of 58058): Absolute/relative ES 0.00 / 0.57 (87) - ED 0.00 / 0.03 (381)\n",
      "Slice 7/RV - Referral (209/387 of 58058): Absolute/relative ES 0.00 / 0.53 (394) - ED 0.01 / 0.53 (729)\n",
      "Slice 7/LV - Referral (18/22 of 58058): Absolute/relative ES 0.00 / 0.53 (34) - ED 0.00 / 0.12 (179)\n",
      "Slice 8/RV - Referral (40/154 of 58058): Absolute/relative ES 0.00 / 0.98 (41) - ED 0.00 / 0.96 (161)\n",
      "Slice 8/LV - Referral (4/24 of 58058): Absolute/relative ES 0.00 / 0.21 (19) - ED 0.00 / 0.51 (47)\n",
      "Image 25-patient100 - Test accuracy: test loss -1.311\t  dice(RV/Myo/LV): ES 0.88/0.90/0.96 --- ED 0.97/0.89/0.98\n",
      "Image 25 - Test accuracy: test loss -1.311\t Hausdorff(RV/Myo/LV): ES 10.48/7.00/3.13 --- ED 11.54/10.00/2.80\n",
      "(2, 8)\n",
      "Test accuracy: \t dice(RV/Myo/LV): ES 0.89 (0.01)/0.88 (0.03)/0.97 (0.01) --- ED 0.97 (0.01)/0.87 (0.03)/0.98 (0.01)\n",
      "Test accuracy: \t Hausdorff(RV/Myo/LV): ES 11.36 (0.64)/9.29 (1.62)/6.01 (3.50) --- ED 13.28 (8.21)/15.41 (4.01)/6.58 (3.86)\n",
      "Ready\n"
     ]
    }
   ],
   "source": [
    "settings = {'sample_eval': {},\n",
    "            'ensemble_eval': {\"mc_samples\": 1}, \"sample_weights\": False, \"store_details\": False,\n",
    "           'generate_stats': False, \"save_results\": True, \"checkpoints\": [150000],\n",
    "           'use_uncertainty': False, \"discard_outliers\": False}\n",
    "\n",
    "\n",
    "mc_samples = 1\n",
    "sample_weights = False\n",
    "store_details = True\n",
    "image_range = [0, 10, 24]\n",
    "if not sample_weights:\n",
    "    generate_stats = False\n",
    "else:\n",
    "    generate_stats = True\n",
    "save_results = False\n",
    "checkpoints = [150000] #  [150000]\n",
    "use_uncertainty = True\n",
    "referral_threshold = 0.4\n",
    "discard_outliers = False\n",
    "\n",
    "exper_handler = exper_hdl_mc01\n",
    "\n",
    "exper_handler.logger = None   \n",
    "exper_handler.exper.outliers_per_epoch = None\n",
    "\n",
    "test_ensemble(test_set, exper_handler, mc_samples=mc_samples, sample_weights=sample_weights,  \n",
    "              discard_outliers=discard_outliers, referral_threshold=referral_threshold, image_range=image_range, \n",
    "              checkpoints=checkpoints, use_uncertainty=use_uncertainty,\n",
    "              verbose=False, reset_results=True, store_details=store_details, \n",
    "              generate_stats=generate_stats, save_results=save_results, do_filter=True)\n",
    "# do_filter = 6 most connected component filtering\n",
    "\n",
    "\n",
    "    \n",
    "print(\"Ready\")"
   ]
  },
  {
   "cell_type": "code",
   "execution_count": null,
   "metadata": {
    "collapsed": true
   },
   "outputs": [],
   "source": [
    "Image 1-patient016 - Test accuracy: test loss -1.606\t  dice(RV/Myo/LV): ES 0.85/0.83/0.96 --- ED 0.94/0.82/0.96\n",
    "Image 1 - Test accuracy: test loss -1.606\t Hausdorff(RV/Myo/LV): ES 11.63/10.48/10.93 --- ED 25.36/19.60/11.88\n",
    "Image 2-patient017 - Test accuracy: test loss -3.440\t  dice(RV/Myo/LV): ES 0.93/0.85/0.97 --- ED 0.95/0.82/0.97\n",
    "Image 2 - Test accuracy: test loss -3.440\t Hausdorff(RV/Myo/LV): ES 10.10/16.33/10.66 --- ED 12.76/16.92/12.52"
   ]
  },
  {
   "cell_type": "code",
   "execution_count": 89,
   "metadata": {},
   "outputs": [
    {
     "name": "stdout",
     "output_type": "stream",
     "text": [
      "(8, 223, 264, 8)\n",
      "(223, 264)\n",
      "(10, 223, 264)\n"
     ]
    }
   ],
   "source": [
    "mc_probs = exper_handler.test_results.mc_pred_probs[0]\n",
    "std_stats = exper_handler.test_results.stddev_maps[0]\n",
    "print(std_stats.shape)\n",
    "sliceid = 7\n",
    "c=1  # ES-RV\n",
    "# get probs from slice 8 [#samples, classes, width, height, #slices]\n",
    "mc_probs_slice = mc_probs[:, 1, :, :, 7]\n",
    "# get stddev-maps [classes, width, height, #slices]\n",
    "std_stats_slice = std_stats[1, :, :, 7]\n",
    "print(std_stats_slice.shape)\n",
    "print(mc_probs_slice.shape)"
   ]
  },
  {
   "cell_type": "code",
   "execution_count": 195,
   "metadata": {},
   "outputs": [
    {
     "name": "stdout",
     "output_type": "stream",
     "text": [
      "INFO - Loading results from file /home/jorg/repository/dcnn_acdc/logs/20180418_15_02_05_dcnn_mcv1_150000E_lr2e02//stats/test_results_25imgs_mc10_fold0_ep150000.dll\n",
      "INFO - Successfully loaded TestResult object.\n",
      "Num of images in test set 25\n"
     ]
    }
   ],
   "source": [
    "exper_handler = exper_hdl_mc01_brier\n",
    "t_path = \"/home/jorg/repository/dcnn_acdc/logs/20180418_15_02_05_dcnn_mcv1_150000E_lr2e02//stats/test_results_25imgs_mc10_fold0_ep150000.dll\"\n",
    "test_results = TestResults.load_results(t_path)\n",
    "print(\"Num of images in test set {}\".format(len(test_results.image_ids)))\n",
    "exper_handler.test_results = test_results"
   ]
  },
  {
   "cell_type": "code",
   "execution_count": null,
   "metadata": {
    "scrolled": false
   },
   "outputs": [],
   "source": [
    "image_range = None\n",
    "u_type = \"stddev\"\n",
    "\n",
    "analyze_slices(exper_handler, image_range=image_range, do_save=True, do_show=False, u_type=u_type,\n",
    "              use_high_threshold=True, translate_img_range=True)"
   ]
  },
  {
   "cell_type": "code",
   "execution_count": 9,
   "metadata": {},
   "outputs": [
    {
     "name": "stdout",
     "output_type": "stream",
     "text": [
      "Rows/columns 14/4\n",
      "INFO - Successfully saved fig /home/jorg/repository/dcnn_acdc/logs/20180416_08_25_43_dcnn_mcv1_150000E_lr2e02/figures/patient080/analysis_seg_err_slice1_mc10.pdf\n",
      "INFO - Successfully saved fig /home/jorg/repository/dcnn_acdc/logs/20180416_08_25_43_dcnn_mcv1_150000E_lr2e02/figures/patient080/analysis_seg_err_slice2_mc10.pdf\n",
      "INFO - Successfully saved fig /home/jorg/repository/dcnn_acdc/logs/20180416_08_25_43_dcnn_mcv1_150000E_lr2e02/figures/patient080/analysis_seg_err_slice3_mc10.pdf\n",
      "INFO - Successfully saved fig /home/jorg/repository/dcnn_acdc/logs/20180416_08_25_43_dcnn_mcv1_150000E_lr2e02/figures/patient080/analysis_seg_err_slice4_mc10.pdf\n",
      "INFO - Successfully saved fig /home/jorg/repository/dcnn_acdc/logs/20180416_08_25_43_dcnn_mcv1_150000E_lr2e02/figures/patient080/analysis_seg_err_slice5_mc10.pdf\n",
      "INFO - Successfully saved fig /home/jorg/repository/dcnn_acdc/logs/20180416_08_25_43_dcnn_mcv1_150000E_lr2e02/figures/patient080/analysis_seg_err_slice6_mc10.pdf\n",
      "Rows/columns 14/4\n",
      "INFO - Successfully saved fig /home/jorg/repository/dcnn_acdc/logs/20180416_08_25_43_dcnn_mcv1_150000E_lr2e02/figures/patient096/analysis_seg_err_slice1_mc10.pdf\n",
      "INFO - Successfully saved fig /home/jorg/repository/dcnn_acdc/logs/20180416_08_25_43_dcnn_mcv1_150000E_lr2e02/figures/patient096/analysis_seg_err_slice2_mc10.pdf\n",
      "INFO - Successfully saved fig /home/jorg/repository/dcnn_acdc/logs/20180416_08_25_43_dcnn_mcv1_150000E_lr2e02/figures/patient096/analysis_seg_err_slice3_mc10.pdf\n",
      "INFO - Successfully saved fig /home/jorg/repository/dcnn_acdc/logs/20180416_08_25_43_dcnn_mcv1_150000E_lr2e02/figures/patient096/analysis_seg_err_slice4_mc10.pdf\n",
      "INFO - Successfully saved fig /home/jorg/repository/dcnn_acdc/logs/20180416_08_25_43_dcnn_mcv1_150000E_lr2e02/figures/patient096/analysis_seg_err_slice5_mc10.pdf\n",
      "INFO - Successfully saved fig /home/jorg/repository/dcnn_acdc/logs/20180416_08_25_43_dcnn_mcv1_150000E_lr2e02/figures/patient096/analysis_seg_err_slice6_mc10.pdf\n",
      "INFO - Successfully saved fig /home/jorg/repository/dcnn_acdc/logs/20180416_08_25_43_dcnn_mcv1_150000E_lr2e02/figures/patient096/analysis_seg_err_slice7_mc10.pdf\n",
      "INFO - Successfully saved fig /home/jorg/repository/dcnn_acdc/logs/20180416_08_25_43_dcnn_mcv1_150000E_lr2e02/figures/patient096/analysis_seg_err_slice8_mc10.pdf\n",
      "INFO - Successfully saved fig /home/jorg/repository/dcnn_acdc/logs/20180416_08_25_43_dcnn_mcv1_150000E_lr2e02/figures/patient096/analysis_seg_err_slice9_mc10.pdf\n",
      "INFO - Successfully saved fig /home/jorg/repository/dcnn_acdc/logs/20180416_08_25_43_dcnn_mcv1_150000E_lr2e02/figures/patient096/analysis_seg_err_slice10_mc10.pdf\n",
      "INFO - Successfully saved fig /home/jorg/repository/dcnn_acdc/logs/20180416_08_25_43_dcnn_mcv1_150000E_lr2e02/figures/patient096/analysis_seg_err_slice11_mc10.pdf\n",
      "INFO - Successfully saved fig /home/jorg/repository/dcnn_acdc/logs/20180416_08_25_43_dcnn_mcv1_150000E_lr2e02/figures/patient096/analysis_seg_err_slice12_mc10.pdf\n",
      "INFO - Successfully saved fig /home/jorg/repository/dcnn_acdc/logs/20180416_08_25_43_dcnn_mcv1_150000E_lr2e02/figures/patient096/analysis_seg_err_slice13_mc10.pdf\n",
      "INFO - Successfully saved fig /home/jorg/repository/dcnn_acdc/logs/20180416_08_25_43_dcnn_mcv1_150000E_lr2e02/figures/patient096/analysis_seg_err_slice14_mc10.pdf\n",
      "INFO - Successfully saved fig /home/jorg/repository/dcnn_acdc/logs/20180416_08_25_43_dcnn_mcv1_150000E_lr2e02/figures/patient096/analysis_seg_err_slice15_mc10.pdf\n",
      "INFO - Successfully saved fig /home/jorg/repository/dcnn_acdc/logs/20180416_08_25_43_dcnn_mcv1_150000E_lr2e02/figures/patient096/analysis_seg_err_slice16_mc10.pdf\n",
      "INFO - Successfully saved fig /home/jorg/repository/dcnn_acdc/logs/20180416_08_25_43_dcnn_mcv1_150000E_lr2e02/figures/patient096/analysis_seg_err_slice17_mc10.pdf\n",
      "INFO - Successfully saved fig /home/jorg/repository/dcnn_acdc/logs/20180416_08_25_43_dcnn_mcv1_150000E_lr2e02/figures/patient096/analysis_seg_err_slice18_mc10.pdf\n",
      "Rows/columns 14/4\n",
      "INFO - Successfully saved fig /home/jorg/repository/dcnn_acdc/logs/20180416_08_25_43_dcnn_mcv1_150000E_lr2e02/figures/patient097/analysis_seg_err_slice1_mc10.pdf\n",
      "INFO - Successfully saved fig /home/jorg/repository/dcnn_acdc/logs/20180416_08_25_43_dcnn_mcv1_150000E_lr2e02/figures/patient097/analysis_seg_err_slice2_mc10.pdf\n",
      "INFO - Successfully saved fig /home/jorg/repository/dcnn_acdc/logs/20180416_08_25_43_dcnn_mcv1_150000E_lr2e02/figures/patient097/analysis_seg_err_slice3_mc10.pdf\n",
      "INFO - Successfully saved fig /home/jorg/repository/dcnn_acdc/logs/20180416_08_25_43_dcnn_mcv1_150000E_lr2e02/figures/patient097/analysis_seg_err_slice4_mc10.pdf\n",
      "INFO - Successfully saved fig /home/jorg/repository/dcnn_acdc/logs/20180416_08_25_43_dcnn_mcv1_150000E_lr2e02/figures/patient097/analysis_seg_err_slice5_mc10.pdf\n",
      "INFO - Successfully saved fig /home/jorg/repository/dcnn_acdc/logs/20180416_08_25_43_dcnn_mcv1_150000E_lr2e02/figures/patient097/analysis_seg_err_slice6_mc10.pdf\n",
      "INFO - Successfully saved fig /home/jorg/repository/dcnn_acdc/logs/20180416_08_25_43_dcnn_mcv1_150000E_lr2e02/figures/patient097/analysis_seg_err_slice7_mc10.pdf\n",
      "INFO - Successfully saved fig /home/jorg/repository/dcnn_acdc/logs/20180416_08_25_43_dcnn_mcv1_150000E_lr2e02/figures/patient097/analysis_seg_err_slice8_mc10.pdf\n",
      "Rows/columns 14/4\n",
      "INFO - Successfully saved fig /home/jorg/repository/dcnn_acdc/logs/20180416_08_25_43_dcnn_mcv1_150000E_lr2e02/figures/patient098/analysis_seg_err_slice1_mc10.pdf\n",
      "INFO - Successfully saved fig /home/jorg/repository/dcnn_acdc/logs/20180416_08_25_43_dcnn_mcv1_150000E_lr2e02/figures/patient098/analysis_seg_err_slice2_mc10.pdf\n",
      "INFO - Successfully saved fig /home/jorg/repository/dcnn_acdc/logs/20180416_08_25_43_dcnn_mcv1_150000E_lr2e02/figures/patient098/analysis_seg_err_slice3_mc10.pdf\n",
      "INFO - Successfully saved fig /home/jorg/repository/dcnn_acdc/logs/20180416_08_25_43_dcnn_mcv1_150000E_lr2e02/figures/patient098/analysis_seg_err_slice4_mc10.pdf\n",
      "INFO - Successfully saved fig /home/jorg/repository/dcnn_acdc/logs/20180416_08_25_43_dcnn_mcv1_150000E_lr2e02/figures/patient098/analysis_seg_err_slice5_mc10.pdf\n",
      "INFO - Successfully saved fig /home/jorg/repository/dcnn_acdc/logs/20180416_08_25_43_dcnn_mcv1_150000E_lr2e02/figures/patient098/analysis_seg_err_slice6_mc10.pdf\n",
      "INFO - Successfully saved fig /home/jorg/repository/dcnn_acdc/logs/20180416_08_25_43_dcnn_mcv1_150000E_lr2e02/figures/patient098/analysis_seg_err_slice7_mc10.pdf\n",
      "Rows/columns 14/4\n",
      "INFO - Successfully saved fig /home/jorg/repository/dcnn_acdc/logs/20180416_08_25_43_dcnn_mcv1_150000E_lr2e02/figures/patient099/analysis_seg_err_slice1_mc10.pdf\n",
      "INFO - Successfully saved fig /home/jorg/repository/dcnn_acdc/logs/20180416_08_25_43_dcnn_mcv1_150000E_lr2e02/figures/patient099/analysis_seg_err_slice2_mc10.pdf\n",
      "INFO - Successfully saved fig /home/jorg/repository/dcnn_acdc/logs/20180416_08_25_43_dcnn_mcv1_150000E_lr2e02/figures/patient099/analysis_seg_err_slice3_mc10.pdf\n",
      "INFO - Successfully saved fig /home/jorg/repository/dcnn_acdc/logs/20180416_08_25_43_dcnn_mcv1_150000E_lr2e02/figures/patient099/analysis_seg_err_slice4_mc10.pdf\n",
      "INFO - Successfully saved fig /home/jorg/repository/dcnn_acdc/logs/20180416_08_25_43_dcnn_mcv1_150000E_lr2e02/figures/patient099/analysis_seg_err_slice5_mc10.pdf\n",
      "INFO - Successfully saved fig /home/jorg/repository/dcnn_acdc/logs/20180416_08_25_43_dcnn_mcv1_150000E_lr2e02/figures/patient099/analysis_seg_err_slice6_mc10.pdf\n",
      "INFO - Successfully saved fig /home/jorg/repository/dcnn_acdc/logs/20180416_08_25_43_dcnn_mcv1_150000E_lr2e02/figures/patient099/analysis_seg_err_slice7_mc10.pdf\n",
      "INFO - Successfully saved fig /home/jorg/repository/dcnn_acdc/logs/20180416_08_25_43_dcnn_mcv1_150000E_lr2e02/figures/patient099/analysis_seg_err_slice8_mc10.pdf\n",
      "INFO - Successfully saved fig /home/jorg/repository/dcnn_acdc/logs/20180416_08_25_43_dcnn_mcv1_150000E_lr2e02/figures/patient099/analysis_seg_err_slice9_mc10.pdf\n",
      "INFO - Successfully saved fig /home/jorg/repository/dcnn_acdc/logs/20180416_08_25_43_dcnn_mcv1_150000E_lr2e02/figures/patient099/analysis_seg_err_slice10_mc10.pdf\n",
      "INFO - Successfully saved fig /home/jorg/repository/dcnn_acdc/logs/20180416_08_25_43_dcnn_mcv1_150000E_lr2e02/figures/patient099/analysis_seg_err_slice11_mc10.pdf\n"
     ]
    },
    {
     "name": "stdout",
     "output_type": "stream",
     "text": [
      "INFO - Successfully saved fig /home/jorg/repository/dcnn_acdc/logs/20180416_08_25_43_dcnn_mcv1_150000E_lr2e02/figures/patient099/analysis_seg_err_slice12_mc10.pdf\n",
      "INFO - Successfully saved fig /home/jorg/repository/dcnn_acdc/logs/20180416_08_25_43_dcnn_mcv1_150000E_lr2e02/figures/patient099/analysis_seg_err_slice13_mc10.pdf\n",
      "INFO - Successfully saved fig /home/jorg/repository/dcnn_acdc/logs/20180416_08_25_43_dcnn_mcv1_150000E_lr2e02/figures/patient099/analysis_seg_err_slice14_mc10.pdf\n",
      "INFO - Successfully saved fig /home/jorg/repository/dcnn_acdc/logs/20180416_08_25_43_dcnn_mcv1_150000E_lr2e02/figures/patient099/analysis_seg_err_slice15_mc10.pdf\n",
      "INFO - Successfully saved fig /home/jorg/repository/dcnn_acdc/logs/20180416_08_25_43_dcnn_mcv1_150000E_lr2e02/figures/patient099/analysis_seg_err_slice16_mc10.pdf\n",
      "Rows/columns 14/4\n",
      "INFO - Successfully saved fig /home/jorg/repository/dcnn_acdc/logs/20180416_08_25_43_dcnn_mcv1_150000E_lr2e02/figures/patient100/analysis_seg_err_slice1_mc10.pdf\n",
      "INFO - Successfully saved fig /home/jorg/repository/dcnn_acdc/logs/20180416_08_25_43_dcnn_mcv1_150000E_lr2e02/figures/patient100/analysis_seg_err_slice2_mc10.pdf\n",
      "INFO - Successfully saved fig /home/jorg/repository/dcnn_acdc/logs/20180416_08_25_43_dcnn_mcv1_150000E_lr2e02/figures/patient100/analysis_seg_err_slice3_mc10.pdf\n",
      "INFO - Successfully saved fig /home/jorg/repository/dcnn_acdc/logs/20180416_08_25_43_dcnn_mcv1_150000E_lr2e02/figures/patient100/analysis_seg_err_slice4_mc10.pdf\n",
      "INFO - Successfully saved fig /home/jorg/repository/dcnn_acdc/logs/20180416_08_25_43_dcnn_mcv1_150000E_lr2e02/figures/patient100/analysis_seg_err_slice5_mc10.pdf\n",
      "INFO - Successfully saved fig /home/jorg/repository/dcnn_acdc/logs/20180416_08_25_43_dcnn_mcv1_150000E_lr2e02/figures/patient100/analysis_seg_err_slice6_mc10.pdf\n",
      "INFO - Successfully saved fig /home/jorg/repository/dcnn_acdc/logs/20180416_08_25_43_dcnn_mcv1_150000E_lr2e02/figures/patient100/analysis_seg_err_slice7_mc10.pdf\n",
      "INFO - Successfully saved fig /home/jorg/repository/dcnn_acdc/logs/20180416_08_25_43_dcnn_mcv1_150000E_lr2e02/figures/patient100/analysis_seg_err_slice8_mc10.pdf\n",
      "INFO - Ready!\n"
     ]
    }
   ],
   "source": [
    "# image_range = [16,17, 18, 19]\n",
    "errors_only = False\n",
    "\n",
    "for image_num in image_range:\n",
    "    exper_handler.test_results.visualize_uncertainty_histograms(image_num=image_num, width=20, height=60, \n",
    "                                                                info_type=\"uncertainty\",\n",
    "                                                                 do_save=True, slice_range=None,\n",
    "                                                                 std_threshold=0., errors_only=errors_only, \n",
    "                                                                 do_show=False, use_bald=True,\n",
    "                                                                 model_name = exper_handler.exper.model_name)\n",
    "                                                                 # model_name=\"MC-dropout (0.1)\") [0,1,2,3,4,5]\n",
    "print(\"INFO - Ready!\")"
   ]
  },
  {
   "cell_type": "code",
   "execution_count": 43,
   "metadata": {},
   "outputs": [
    {
     "name": "stdout",
     "output_type": "stream",
     "text": [
      "Loaded outlier stats for 1 training epochs (property=outliers_per_epoch, dictionary (key=epoch) with tuple (6 elements) and property=test_results_per_epoch, dict (key=epoch) with tuple (4))\n"
     ]
    }
   ],
   "source": [
    "exper_handler = exper_hdl_mc005\n",
    "exper_handler.get_outlier_stats(verbose=True)"
   ]
  },
  {
   "cell_type": "code",
   "execution_count": 44,
   "metadata": {},
   "outputs": [
    {
     "name": "stdout",
     "output_type": "stream",
     "text": [
      "Patient ID patient036\n",
      "{7: [1, 2, 3]}\n",
      "{6: [1], 7: [1, 2, 3]}\n"
     ]
    }
   ],
   "source": [
    "\n",
    "image_num = 5\n",
    "# geth the patient id for this image_num\n",
    "patient_id = test_set.img_file_names[image_num]\n",
    "print(\"Patient ID {}\".format(patient_id))\n",
    "# get the \"latest\" (max epoch) outlier statistics, tuple with 6 dictionaries\n",
    "outlier_stats = exper_handler.exper.outliers_per_epoch[exper_handler.exper.epoch_id]\n",
    "image_outliers = ImageOutliers(patient_id, outlier_stats)\n",
    "print(image_outliers.out_img_cls_es)\n",
    "print(image_outliers.out_img_cls_ed)"
   ]
  }
 ],
 "metadata": {
  "kernelspec": {
   "display_name": "Python 2",
   "language": "python",
   "name": "python2"
  },
  "language_info": {
   "codemirror_mode": {
    "name": "ipython",
    "version": 2
   },
   "file_extension": ".py",
   "mimetype": "text/x-python",
   "name": "python",
   "nbconvert_exporter": "python",
   "pygments_lexer": "ipython2",
   "version": "2.7.14"
  }
 },
 "nbformat": 4,
 "nbformat_minor": 2
}
