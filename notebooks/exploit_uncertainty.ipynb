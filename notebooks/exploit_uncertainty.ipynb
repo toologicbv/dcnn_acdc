{
 "cells": [
  {
   "cell_type": "code",
   "execution_count": 1,
   "metadata": {
    "collapsed": true
   },
   "outputs": [],
   "source": [
    "\n",
    "from __future__ import print_function\n",
    "\n",
    "import sys\n",
    "\n",
    "# sys.path.extend(['/home/jogi/git/repository/dcnn_acdc'])\n",
    "sys.path.extend(['/home/jorg/repository/dcnn_acdc'])\n",
    "\n",
    "import matplotlib\n",
    "import matplotlib.pyplot as plt\n",
    "\n",
    "from matplotlib import cm\n",
    "\n",
    "\n",
    "from datetime import datetime\n",
    "from pytz import timezone\n",
    "import itertools\n",
    "import copy\n",
    "\n",
    "import SimpleITK as sitk\n",
    "import numpy as np\n",
    "import torch\n",
    "from torch.autograd import Variable\n",
    "import torch.nn as nn\n",
    "import torch.nn.functional as F\n",
    "import torch.optim as optim\n",
    "from torch.nn import init\n",
    "\n",
    "import numpy as np\n",
    "import dill\n",
    "import os\n",
    "import glob\n",
    "from collections import OrderedDict\n",
    "\n",
    "from in_out.load_data import ACDC2017DataSet\n",
    "from config.config import config\n",
    "from utils.experiment import Experiment, ExperimentHandler\n",
    "from utils.batch_handlers import TwoDimBatchHandler\n",
    "from utils.test_handler import ACDC2017TestHandler\n",
    "from plotting.learning_curves import loss_plot\n",
    "from plotting.uncertainty_plots import analyze_slices\n",
    "\n",
    "from models.dilated_cnn import BaseDilated2DCNN\n",
    "\n",
    "%matplotlib inline\n",
    "%load_ext autoreload\n",
    "%autoreload 2"
   ]
  },
  {
   "cell_type": "code",
   "execution_count": 4,
   "metadata": {},
   "outputs": [
    {
     "name": "stderr",
     "output_type": "stream",
     "text": [
      "\r",
      "  0%|          | 0/10 [00:00<?, ?it/s]"
     ]
    },
    {
     "name": "stdout",
     "output_type": "stream",
     "text": [
      "Load from /home/jorg/repository/dcnn_acdc/logs/20180328_10_54_36_dcnn_mcv1_150000E_lr2e02/stats/exper_stats.dll\n",
      "!!! IMPORTANT !!! - EVALUATING MODELS ON HOLD OUT IMAGES IN FOLD 2\n",
      "Model name MC-dropout fold-2 (p=0.05)\n",
      "Load from /home/jorg/repository/dcnn_acdc/logs/20180329_08_04_12_dcnn_mcv1_150000E_lr2e04/stats/exper_stats.dll\n",
      "Model name MC-BS-dropout fold-2 (p=0.05)\n",
      "Load from /home/jorg/repository/dcnn_acdc/logs/20180328_10_54_55_dcnn_mcv1_150000E_lr2e02/stats/exper_stats.dll\n",
      "Model name MC-dropout fold-2 (p=0.1)\n",
      "Load from /home/jorg/repository/dcnn_acdc/logs/20180329_08_03_29_dcnn_mcv1_150000E_lr2e04/stats/exper_stats.dll\n",
      "Model name MC-BS-dropout fold-2 (p=0.1)\n",
      "INFO - File list contains 50 files, hence 25 patients\n",
      "0 - /home/jorg/repository/dcnn_acdc/data/Folds/fold2/validate/images/patient006_frame01.mhd\n",
      "1 - /home/jorg/repository/dcnn_acdc/data/Folds/fold2/validate/images/patient006_frame16.mhd\n"
     ]
    },
    {
     "name": "stderr",
     "output_type": "stream",
     "text": [
      "\r",
      " 10%|█         | 1/10 [00:00<00:08,  1.05it/s]"
     ]
    },
    {
     "name": "stdout",
     "output_type": "stream",
     "text": [
      "2 - /home/jorg/repository/dcnn_acdc/data/Folds/fold2/validate/images/patient007_frame01.mhd\n",
      "3 - /home/jorg/repository/dcnn_acdc/data/Folds/fold2/validate/images/patient007_frame07.mhd\n"
     ]
    },
    {
     "name": "stderr",
     "output_type": "stream",
     "text": [
      " 20%|██        | 2/10 [00:01<00:07,  1.06it/s]/home/jorg/anaconda2/envs/pyt_0_3_0/lib/python2.7/site-packages/scipy/ndimage/interpolation.py:616: UserWarning: From scipy 0.13.0, the output shape of zoom() is calculated with round() instead of int() - for these inputs the size of the returned array has changed.\n",
      "  \"the returned array has changed.\", UserWarning)\n"
     ]
    },
    {
     "name": "stdout",
     "output_type": "stream",
     "text": [
      "4 - /home/jorg/repository/dcnn_acdc/data/Folds/fold2/validate/images/patient008_frame01.mhd\n",
      "5 - /home/jorg/repository/dcnn_acdc/data/Folds/fold2/validate/images/patient008_frame13.mhd\n"
     ]
    },
    {
     "name": "stderr",
     "output_type": "stream",
     "text": [
      "\r",
      " 30%|███       | 3/10 [00:02<00:05,  1.21it/s]"
     ]
    },
    {
     "name": "stdout",
     "output_type": "stream",
     "text": [
      "6 - /home/jorg/repository/dcnn_acdc/data/Folds/fold2/validate/images/patient009_frame01.mhd\n",
      "7 - /home/jorg/repository/dcnn_acdc/data/Folds/fold2/validate/images/patient009_frame13.mhd\n"
     ]
    },
    {
     "name": "stderr",
     "output_type": "stream",
     "text": [
      "\r",
      " 40%|████      | 4/10 [00:02<00:04,  1.35it/s]"
     ]
    },
    {
     "name": "stdout",
     "output_type": "stream",
     "text": [
      "8 - /home/jorg/repository/dcnn_acdc/data/Folds/fold2/validate/images/patient010_frame01.mhd\n",
      "9 - /home/jorg/repository/dcnn_acdc/data/Folds/fold2/validate/images/patient010_frame13.mhd\n"
     ]
    },
    {
     "name": "stderr",
     "output_type": "stream",
     "text": [
      "\r",
      " 50%|█████     | 5/10 [00:03<00:03,  1.40it/s]"
     ]
    },
    {
     "name": "stdout",
     "output_type": "stream",
     "text": [
      "10 - /home/jorg/repository/dcnn_acdc/data/Folds/fold2/validate/images/patient026_frame01.mhd\n",
      "11 - /home/jorg/repository/dcnn_acdc/data/Folds/fold2/validate/images/patient026_frame12.mhd\n"
     ]
    },
    {
     "name": "stderr",
     "output_type": "stream",
     "text": [
      "\r",
      " 60%|██████    | 6/10 [00:04<00:02,  1.47it/s]"
     ]
    },
    {
     "name": "stdout",
     "output_type": "stream",
     "text": [
      "12 - /home/jorg/repository/dcnn_acdc/data/Folds/fold2/validate/images/patient027_frame01.mhd\n",
      "13 - /home/jorg/repository/dcnn_acdc/data/Folds/fold2/validate/images/patient027_frame11.mhd\n"
     ]
    },
    {
     "name": "stderr",
     "output_type": "stream",
     "text": [
      "\r",
      " 70%|███████   | 7/10 [00:04<00:01,  1.53it/s]"
     ]
    },
    {
     "name": "stdout",
     "output_type": "stream",
     "text": [
      "14 - /home/jorg/repository/dcnn_acdc/data/Folds/fold2/validate/images/patient028_frame01.mhd\n",
      "15 - /home/jorg/repository/dcnn_acdc/data/Folds/fold2/validate/images/patient028_frame09.mhd\n"
     ]
    },
    {
     "name": "stderr",
     "output_type": "stream",
     "text": [
      "\r",
      " 80%|████████  | 8/10 [00:05<00:01,  1.53it/s]"
     ]
    },
    {
     "name": "stdout",
     "output_type": "stream",
     "text": [
      "16 - /home/jorg/repository/dcnn_acdc/data/Folds/fold2/validate/images/patient029_frame01.mhd\n",
      "17 - /home/jorg/repository/dcnn_acdc/data/Folds/fold2/validate/images/patient029_frame12.mhd\n"
     ]
    },
    {
     "name": "stderr",
     "output_type": "stream",
     "text": [
      "\r",
      " 90%|█████████ | 9/10 [00:05<00:00,  1.57it/s]"
     ]
    },
    {
     "name": "stdout",
     "output_type": "stream",
     "text": [
      "18 - /home/jorg/repository/dcnn_acdc/data/Folds/fold2/validate/images/patient030_frame01.mhd\n",
      "19 - /home/jorg/repository/dcnn_acdc/data/Folds/fold2/validate/images/patient030_frame12.mhd\n"
     ]
    },
    {
     "name": "stderr",
     "output_type": "stream",
     "text": [
      "\r",
      "100%|██████████| 10/10 [00:06<00:00,  1.59it/s]"
     ]
    },
    {
     "name": "stdout",
     "output_type": "stream",
     "text": [
      "INFO - Successfully loaded 10 ED/ES patient pairs\n"
     ]
    },
    {
     "name": "stderr",
     "output_type": "stream",
     "text": [
      "\n"
     ]
    }
   ],
   "source": [
    "# Constants aka fixed variables\n",
    "ROOT_DIR = \"/home/jorg/repository/dcnn_acdc\"\n",
    "LOG_DIR = os.path.join(ROOT_DIR, \"logs\")\n",
    "CYCLE_OFFSET = 100000\n",
    "# set seeds\n",
    "SEED = 4325\n",
    "torch.manual_seed(SEED)\n",
    "torch.cuda.manual_seed(SEED)\n",
    "torch.backends.cudnn.enabled = True\n",
    "np.random.seed(SEED)\n",
    "\n",
    "# MC dropout models\n",
    "# Fold 2: 20180328_10_54_36_dcnn_mcv1_150000E_lr2e02\n",
    "# Fold 0: 20180330_09_56_01_dcnn_mcv1_150000E_lr2e02\n",
    "exp_mc005_model = os.path.join(LOG_DIR, \"20180328_10_54_36_dcnn_mcv1_150000E_lr2e02\")\n",
    "# Fold 2: 20180329_08_04_12_dcnn_mcv1_150000E_lr2e04\n",
    "# Fold 0: 20180331_09_49_14_dcnn_mcv1_150000E_lr2e02\n",
    "exp_mc005_bs_model = os.path.join(LOG_DIR, \"20180329_08_04_12_dcnn_mcv1_150000E_lr2e04\")\n",
    "\n",
    "\n",
    "# Fold 2: 20180328_10_54_55_dcnn_mcv1_150000E_lr2e02\n",
    "# Fold 0: 20180330_09_56_15_dcnn_mcv1_150000E_lr2e02\n",
    "exp_mc01_model = os.path.join(LOG_DIR, \"20180328_10_54_55_dcnn_mcv1_150000E_lr2e02\")\n",
    "# Fold 2: 20180329_08_03_29_dcnn_mcv1_150000E_lr2e04\n",
    "# Fold 0: 20180331_09_48_48_dcnn_mcv1_150000E_lr2e02\n",
    "exp_mc01_bs_model = os.path.join(LOG_DIR, \"20180329_08_03_29_dcnn_mcv1_150000E_lr2e04\")\n",
    "\n",
    "exper_mc005 = ExperimentHandler.load_experiment(exp_mc005_model)\n",
    "training_fold = exper_mc005.run_args.fold_ids[0]\n",
    "print(\"!!! IMPORTANT !!! - EVALUATING MODELS ON HOLD OUT IMAGES IN FOLD {}\".format(training_fold))\n",
    "\n",
    "exper_hdl_mc005 = ExperimentHandler(exper_mc005, use_logfile=False)\n",
    "exper_hdl_mc005.set_root_dir(ROOT_DIR)\n",
    "exper_hdl_mc005.set_model_name(\"MC-dropout fold-{} (p={})\".format(exper_hdl_mc005.exper.run_args.fold_ids[0],\n",
    "    exper_hdl_mc005.exper.run_args.drop_prob))\n",
    "print(\"Model name {}\".format(exper_hdl_mc005.exper.model_name))\n",
    "\n",
    "exper_mc005_bs = ExperimentHandler.load_experiment(exp_mc005_bs_model)\n",
    "exper_hdl_mc005_bs = ExperimentHandler(exper_mc005_bs, use_logfile=False)\n",
    "exper_hdl_mc005_bs.set_root_dir(ROOT_DIR)\n",
    "exper_hdl_mc005_bs.set_model_name(\"MC-BS-dropout fold-{} (p={})\".format(\n",
    "    exper_hdl_mc005_bs.exper.run_args.fold_ids[0],\n",
    "    exper_hdl_mc005_bs.exper.run_args.drop_prob))\n",
    "print(\"Model name {}\".format(exper_hdl_mc005_bs.exper.model_name))\n",
    "\n",
    "exper_mc01 = ExperimentHandler.load_experiment(exp_mc01_model)\n",
    "exper_hdl_mc01 = ExperimentHandler(exper_mc01, use_logfile=False)\n",
    "exper_hdl_mc01.set_root_dir(ROOT_DIR)\n",
    "exper_hdl_mc01.set_model_name(\"MC-dropout fold-{} (p={})\".format(exper_hdl_mc01.exper.run_args.fold_ids[0],\n",
    "    exper_hdl_mc01.exper.run_args.drop_prob))\n",
    "print(\"Model name {}\".format(exper_hdl_mc01.exper.model_name))\n",
    "\n",
    "exper_mc01_bs = ExperimentHandler.load_experiment(exp_mc01_bs_model)\n",
    "exper_hdl_mc01_bs = ExperimentHandler(exper_mc01_bs, use_logfile=False)\n",
    "exper_hdl_mc01_bs.set_root_dir(ROOT_DIR)\n",
    "exper_hdl_mc01_bs.set_model_name(\"MC-BS-dropout fold-{} (p={})\".format(\n",
    "    exper_hdl_mc01_bs.exper.run_args.fold_ids[0],\n",
    "    exper_hdl_mc01_bs.exper.run_args.drop_prob))\n",
    "print(\"Model name {}\".format(exper_hdl_mc01_bs.exper.model_name))\n",
    "\n",
    "try:\n",
    "    del test_set\n",
    "except:\n",
    "    pass\n",
    "\n",
    "test_set = ACDC2017TestHandler(exper_config=exper_mc005.config, \n",
    "                               search_mask=config.dflt_image_name + \".mhd\", fold_ids=training_fold,\n",
    "                               debug=False, batch_size=10, use_cuda=True)"
   ]
  },
  {
   "cell_type": "code",
   "execution_count": 6,
   "metadata": {
    "collapsed": true
   },
   "outputs": [],
   "source": [
    "def test_ensemble(test_set, exper_hdl, mc_samples=10, sample_weights=True, use_uncertainty=False,\n",
    "                  u_threshold=None, image_range=None, verbose=False, reset_results=False, \n",
    "                  store_details=False, generate_stats=False, save_results=False, use_seed=False,\n",
    "                  do_filter=False, checkpoints=None):\n",
    "    if checkpoints is None:\n",
    "        checkpoints = [100000, 110000, 120000, 130000, 140000, 150000]  \n",
    "    if reset_results:\n",
    "        exper_hdl.reset_results(mc_samples=mc_samples, use_dropout=sample_weights)\n",
    "    if use_uncertainty:\n",
    "        print(\"INFO - Using {:.2f} as uncertainty threshold\".format(std_threshold))\n",
    "    for checkpoint in checkpoints:\n",
    "        dcnn_model = exper_hdl.load_checkpoint(verbose=False, drop_prob=exper_hdl.exper.run_args.drop_prob, \n",
    "                                               checkpoint=checkpoint)\n",
    "        if image_range is None:\n",
    "            image_range = np.arange(len(test_set.images))\n",
    "        num_of_images = len(image_range)\n",
    "        print(\"Evaluating model {}\".format(exper_hdl.exper.model_name))\n",
    "        print(\"INFO - Running test on {} images with model from checkpoint {}\".format(num_of_images, checkpoint))\n",
    "        for image_num in image_range:\n",
    "            exper_hdl.test(dcnn_model, test_set, image_num=image_num, sample_weights=sample_weights, \n",
    "                           mc_samples=mc_samples, compute_hd=True, use_uncertainty=use_uncertainty, \n",
    "                           u_threshold=u_threshold, verbose=verbose, store_details=store_details,\n",
    "                           use_seed=use_seed, do_filter=do_filter)\n",
    "        del dcnn_model\n",
    "    exper_hdl.test_results.compute_mean_stats()\n",
    "    exper_hdl.test_results.show_results()\n",
    "    \n",
    "    if generate_stats:\n",
    "        print(\"INFO - generating statistics for {} run(s). May take a while\".format(exper_hdl.test_results.N))\n",
    "        exper_hdl.test_results.generate_all_statistics()\n",
    "    if save_results:\n",
    "        exper_hdl.test_results.save_results()\n",
    "\n",
    "# None means all test images will be evaluated\n",
    "image_range = None"
   ]
  },
  {
   "cell_type": "code",
   "execution_count": 8,
   "metadata": {},
   "outputs": [
    {
     "name": "stdout",
     "output_type": "stream",
     "text": [
      "INFO - Evaluating model MC-dropout fold-2 (p=0.05)\n",
      "Evaluating model MC-dropout fold-2 (p=0.05)\n",
      "INFO - Running test on 1 images with model from checkpoint 150000\n",
      "test_result.use_dropout True\n",
      "Image 10 - Test accuracy: test loss -0.979\t dice(RV/Myo/LV): ES 0.00/0.90/0.58 --- ED 0.73/0.85/0.86\n",
      "Image 10 - Test accuracy: test loss -0.979\t Hausdorff(RV/Myo/LV): ES 107.48/16.33/16.33 --- ED 57.21/16.09/17.26\n",
      "Test accuracy: \t dice(RV/Myo/LV): ES 0.00 (0.00)/0.90 (0.00)/0.58 (0.00) --- ED 0.73 (0.00)/0.85 (0.00)/0.86 (0.00)\n",
      "Test accuracy: \t Hausdorff(RV/Myo/LV): ES 107.48 (0.00)/16.33 (0.00)/16.33 (0.00) --- ED 57.21 (0.00)/16.09 (0.00)/17.26 (0.00)\n",
      "INFO - generating statistics for 1 run(s). May take a while\n",
      "Ready\n"
     ]
    }
   ],
   "source": [
    "sample_weights = True\n",
    "mc_samples = 20\n",
    "store_details = True\n",
    "image_range = [9]  # [1, 9, 19]\n",
    "generate_stats = True\n",
    "\n",
    "save_results = False\n",
    "#  exper_hdl_mc01 exper_hdl_mc025 exp_hdl_mc01_bs  exper_hdl_mc04  exp_hdl_mc01_bs\n",
    "exper_handler = exper_hdl_mc005\n",
    "exper_handler.logger = None\n",
    "\n",
    "print(\"INFO - Evaluating model {}\".format(exper_handler.exper.model_name))\n",
    "\n",
    "test_ensemble(test_set, exper_handler, mc_samples=mc_samples, sample_weights=sample_weights,\n",
    "              use_uncertainty=False, \n",
    "              u_threshold=0.05, image_range=image_range, verbose=False, reset_results=True, use_seed=True,\n",
    "              store_details=store_details, generate_stats=generate_stats, save_results=save_results,\n",
    "              do_filter=True, checkpoints=[150000])\n",
    "\n",
    "\n",
    "    \n",
    "print(\"Ready\")"
   ]
  },
  {
   "cell_type": "code",
   "execution_count": 9,
   "metadata": {
    "collapsed": true
   },
   "outputs": [],
   "source": [
    "from sklearn import mixture\n",
    "from matplotlib.colors import LogNorm"
   ]
  },
  {
   "cell_type": "code",
   "execution_count": 13,
   "metadata": {},
   "outputs": [
    {
     "name": "stdout",
     "output_type": "stream",
     "text": [
      "(223, 264)\n"
     ]
    },
    {
     "data": {
      "text/plain": [
       "GaussianMixture(covariance_type='full', init_params='kmeans', max_iter=100,\n",
       "        means_init=None, n_components=10, n_init=1, precisions_init=None,\n",
       "        random_state=None, reg_covar=1e-06, tol=0.001, verbose=0,\n",
       "        verbose_interval=10, warm_start=False, weights_init=None)"
      ]
     },
     "execution_count": 13,
     "metadata": {},
     "output_type": "execute_result"
    }
   ],
   "source": [
    "def get_uncertainty_maps(testset, image_num, c_phase=0, slice_id=0, uncertainty_type=\"bald\"):\n",
    "    if uncertainty_type == \"bald\":\n",
    "        uncertainty_map = testset.bald_maps[image_num][c_phase, :, :, slice_id]\n",
    "    else:\n",
    "        uncertainty_map = testset.uncertainty_maps[image_num][c_phase, :, :, slice_id]\n",
    "    \n",
    "    return uncertainty_map        \n",
    "\n",
    "heat_map = get_uncertainty_maps(exper_handler.test_results, image_num=0, c_phase=1, slice_id=0)\n",
    "print(heat_map.shape)\n",
    "\n",
    "un_data = heat_map.ravel()\n",
    "\n",
    "del clf\n",
    "gmm = mixture.GaussianMixture(n_components=10, covariance_type='full')\n",
    "gmm.fit(heat_map)\n",
    "\n",
    "\n",
    "# plt.imshow(z+10, extent=(np.amin(x), np.amax(x), np.amin(y), np.amax(y)),\n",
    "#        cmap=cm.hot, norm=LogNorm())\n",
    "\n",
    "# plt.colorbar()\n",
    "# plt.show()"
   ]
  },
  {
   "cell_type": "code",
   "execution_count": 14,
   "metadata": {},
   "outputs": [
    {
     "ename": "ValueError",
     "evalue": "Expected the input data X have 264 features, but got 2 features",
     "output_type": "error",
     "traceback": [
      "\u001b[0;31m\u001b[0m",
      "\u001b[0;31mValueError\u001b[0mTraceback (most recent call last)",
      "\u001b[0;32m<ipython-input-14-96eb2fb6388e>\u001b[0m in \u001b[0;36m<module>\u001b[0;34m()\u001b[0m\n\u001b[1;32m      4\u001b[0m \u001b[0mX\u001b[0m\u001b[0;34m,\u001b[0m \u001b[0mY\u001b[0m \u001b[0;34m=\u001b[0m \u001b[0mnp\u001b[0m\u001b[0;34m.\u001b[0m\u001b[0mmeshgrid\u001b[0m\u001b[0;34m(\u001b[0m\u001b[0mx\u001b[0m\u001b[0;34m,\u001b[0m \u001b[0my\u001b[0m\u001b[0;34m)\u001b[0m\u001b[0;34m\u001b[0m\u001b[0m\n\u001b[1;32m      5\u001b[0m \u001b[0mXX\u001b[0m \u001b[0;34m=\u001b[0m \u001b[0mnp\u001b[0m\u001b[0;34m.\u001b[0m\u001b[0marray\u001b[0m\u001b[0;34m(\u001b[0m\u001b[0;34m[\u001b[0m\u001b[0mX\u001b[0m\u001b[0;34m.\u001b[0m\u001b[0mravel\u001b[0m\u001b[0;34m(\u001b[0m\u001b[0;34m)\u001b[0m\u001b[0;34m,\u001b[0m \u001b[0mY\u001b[0m\u001b[0;34m.\u001b[0m\u001b[0mravel\u001b[0m\u001b[0;34m(\u001b[0m\u001b[0;34m)\u001b[0m\u001b[0;34m]\u001b[0m\u001b[0;34m)\u001b[0m\u001b[0;34m.\u001b[0m\u001b[0mT\u001b[0m\u001b[0;34m\u001b[0m\u001b[0m\n\u001b[0;32m----> 6\u001b[0;31m \u001b[0mZ\u001b[0m \u001b[0;34m=\u001b[0m \u001b[0;34m-\u001b[0m\u001b[0mclf\u001b[0m\u001b[0;34m.\u001b[0m\u001b[0mscore_samples\u001b[0m\u001b[0;34m(\u001b[0m\u001b[0mXX\u001b[0m\u001b[0;34m)\u001b[0m\u001b[0;34m\u001b[0m\u001b[0m\n\u001b[0m\u001b[1;32m      7\u001b[0m \u001b[0mZ\u001b[0m \u001b[0;34m=\u001b[0m \u001b[0mZ\u001b[0m\u001b[0;34m.\u001b[0m\u001b[0mreshape\u001b[0m\u001b[0;34m(\u001b[0m\u001b[0mX\u001b[0m\u001b[0;34m.\u001b[0m\u001b[0mshape\u001b[0m\u001b[0;34m)\u001b[0m\u001b[0;34m\u001b[0m\u001b[0m\n\u001b[1;32m      8\u001b[0m CS = plt.contour(X, Y, Z, norm=LogNorm(vmin=1.0, vmax=1000.0),\n",
      "\u001b[0;32m/home/jorg/anaconda2/envs/pyt_0_3_0/lib/python2.7/site-packages/sklearn/mixture/base.pyc\u001b[0m in \u001b[0;36mscore_samples\u001b[0;34m(self, X)\u001b[0m\n\u001b[1;32m    302\u001b[0m         \"\"\"\n\u001b[1;32m    303\u001b[0m         \u001b[0mself\u001b[0m\u001b[0;34m.\u001b[0m\u001b[0m_check_is_fitted\u001b[0m\u001b[0;34m(\u001b[0m\u001b[0;34m)\u001b[0m\u001b[0;34m\u001b[0m\u001b[0m\n\u001b[0;32m--> 304\u001b[0;31m         \u001b[0mX\u001b[0m \u001b[0;34m=\u001b[0m \u001b[0m_check_X\u001b[0m\u001b[0;34m(\u001b[0m\u001b[0mX\u001b[0m\u001b[0;34m,\u001b[0m \u001b[0mNone\u001b[0m\u001b[0;34m,\u001b[0m \u001b[0mself\u001b[0m\u001b[0;34m.\u001b[0m\u001b[0mmeans_\u001b[0m\u001b[0;34m.\u001b[0m\u001b[0mshape\u001b[0m\u001b[0;34m[\u001b[0m\u001b[0;36m1\u001b[0m\u001b[0;34m]\u001b[0m\u001b[0;34m)\u001b[0m\u001b[0;34m\u001b[0m\u001b[0m\n\u001b[0m\u001b[1;32m    305\u001b[0m \u001b[0;34m\u001b[0m\u001b[0m\n\u001b[1;32m    306\u001b[0m         \u001b[0;32mreturn\u001b[0m \u001b[0mlogsumexp\u001b[0m\u001b[0;34m(\u001b[0m\u001b[0mself\u001b[0m\u001b[0;34m.\u001b[0m\u001b[0m_estimate_weighted_log_prob\u001b[0m\u001b[0;34m(\u001b[0m\u001b[0mX\u001b[0m\u001b[0;34m)\u001b[0m\u001b[0;34m,\u001b[0m \u001b[0maxis\u001b[0m\u001b[0;34m=\u001b[0m\u001b[0;36m1\u001b[0m\u001b[0;34m)\u001b[0m\u001b[0;34m\u001b[0m\u001b[0m\n",
      "\u001b[0;32m/home/jorg/anaconda2/envs/pyt_0_3_0/lib/python2.7/site-packages/sklearn/mixture/base.pyc\u001b[0m in \u001b[0;36m_check_X\u001b[0;34m(X, n_components, n_features)\u001b[0m\n\u001b[1;32m     60\u001b[0m         raise ValueError(\"Expected the input data X have %d features, \"\n\u001b[1;32m     61\u001b[0m                          \u001b[0;34m\"but got %d features\"\u001b[0m\u001b[0;34m\u001b[0m\u001b[0m\n\u001b[0;32m---> 62\u001b[0;31m                          % (n_features, X.shape[1]))\n\u001b[0m\u001b[1;32m     63\u001b[0m     \u001b[0;32mreturn\u001b[0m \u001b[0mX\u001b[0m\u001b[0;34m\u001b[0m\u001b[0m\n\u001b[1;32m     64\u001b[0m \u001b[0;34m\u001b[0m\u001b[0m\n",
      "\u001b[0;31mValueError\u001b[0m: Expected the input data X have 264 features, but got 2 features"
     ]
    }
   ],
   "source": [
    "# display predicted scores by the model as a contour plot\n",
    "x = np.linspace(0, heat_map.shape[0])\n",
    "y = np.linspace(0, heat_map.shape[1])\n",
    "X, Y = np.meshgrid(x, y)\n",
    "XX = np.array([X.ravel(), Y.ravel()]).T\n",
    "Z = -clf.score_samples(XX)\n",
    "Z = Z.reshape(X.shape)\n",
    "CS = plt.contour(X, Y, Z, norm=LogNorm(vmin=1.0, vmax=1000.0),\n",
    "                 levels=np.logspace(0, 3, 10))\n",
    "CB = plt.colorbar(CS, shrink=0.8, extend='both')\n",
    "\n",
    "plt.title('Negative log-likelihood predicted by a GMM')\n",
    "plt.axis('tight')\n",
    "plt.show()"
   ]
  },
  {
   "cell_type": "code",
   "execution_count": null,
   "metadata": {
    "collapsed": true
   },
   "outputs": [],
   "source": [
    "clf = mixture.GaussianMixture(n_components=2, covariance_type='full')\n",
    "clf.fit(X_train)\n",
    "\n",
    "# display predicted scores by the model as a contour plot\n",
    "x = np.linspace(-20., 30.)\n",
    "y = np.linspace(-20., 40.)\n",
    "X, Y = np.meshgrid(x, y)\n",
    "XX = np.array([X.ravel(), Y.ravel()]).T\n",
    "Z = -clf.score_samples(XX)\n",
    "Z = Z.reshape(X.shape)\n",
    "\n",
    "CS = plt.contour(X, Y, Z, norm=LogNorm(vmin=1.0, vmax=1000.0),\n",
    "                 levels=np.logspace(0, 3, 10))\n",
    "CB = plt.colorbar(CS, shrink=0.8, extend='both')\n",
    "plt.scatter(X_train[:, 0], X_train[:, 1], .8)\n",
    "\n",
    "plt.title('Negative log-likelihood predicted by a GMM')\n",
    "plt.axis('tight')\n",
    "plt.show()"
   ]
  }
 ],
 "metadata": {
  "kernelspec": {
   "display_name": "Python 2",
   "language": "python",
   "name": "python2"
  },
  "language_info": {
   "codemirror_mode": {
    "name": "ipython",
    "version": 2
   },
   "file_extension": ".py",
   "mimetype": "text/x-python",
   "name": "python",
   "nbconvert_exporter": "python",
   "pygments_lexer": "ipython2",
   "version": "2.7.14"
  }
 },
 "nbformat": 4,
 "nbformat_minor": 2
}
