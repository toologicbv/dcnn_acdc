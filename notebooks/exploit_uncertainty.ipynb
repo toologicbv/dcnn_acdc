{
 "cells": [
  {
   "cell_type": "code",
   "execution_count": 12,
   "metadata": {},
   "outputs": [
    {
     "name": "stdout",
     "output_type": "stream",
     "text": [
      "The autoreload extension is already loaded. To reload it, use:\n",
      "  %reload_ext autoreload\n"
     ]
    }
   ],
   "source": [
    "\n",
    "from __future__ import print_function\n",
    "\n",
    "import sys\n",
    "\n",
    "# sys.path.extend(['/home/jogi/git/repository/dcnn_acdc'])\n",
    "sys.path.extend(['/home/jorg/repository/dcnn_acdc'])\n",
    "\n",
    "import matplotlib\n",
    "import matplotlib.pyplot as plt\n",
    "\n",
    "from matplotlib import cm\n",
    "\n",
    "\n",
    "from datetime import datetime\n",
    "from pytz import timezone\n",
    "import itertools\n",
    "import copy\n",
    "\n",
    "import SimpleITK as sitk\n",
    "import numpy as np\n",
    "import torch\n",
    "from torch.autograd import Variable\n",
    "import torch.nn as nn\n",
    "import torch.nn.functional as F\n",
    "import torch.optim as optim\n",
    "from torch.nn import init\n",
    "\n",
    "import numpy as np\n",
    "import dill\n",
    "import os\n",
    "import glob\n",
    "from collections import OrderedDict\n",
    "\n",
    "from in_out.load_data import ACDC2017DataSet\n",
    "from config.config import config\n",
    "from utils.experiment import Experiment, ExperimentHandler\n",
    "from utils.batch_handlers import TwoDimBatchHandler\n",
    "from utils.test_handler import ACDC2017TestHandler\n",
    "from plotting.learning_curves import loss_plot\n",
    "from plotting.uncertainty_plots import analyze_slices\n",
    "from utils.generate_uncertainty_maps import UncertaintyMapsGenerator\n",
    "\n",
    "from models.dilated_cnn import BaseDilated2DCNN\n",
    "\n",
    "%matplotlib inline\n",
    "%load_ext autoreload\n",
    "%autoreload 2"
   ]
  },
  {
   "cell_type": "code",
   "execution_count": 2,
   "metadata": {
    "collapsed": true
   },
   "outputs": [],
   "source": [
    "# Constants aka fixed variables\n",
    "ROOT_DIR = \"/home/jorg/repository/dcnn_acdc\"\n",
    "LOG_DIR = os.path.join(ROOT_DIR, \"logs\")\n",
    "CYCLE_OFFSET = 100000\n",
    "# set seeds\n",
    "SEED = 4325\n",
    "torch.manual_seed(SEED)\n",
    "torch.cuda.manual_seed(SEED)\n",
    "torch.backends.cudnn.enabled = True\n",
    "np.random.seed(SEED)\n",
    "\n",
    "# IMPORTANT - THE FOLD WE'RE USING FOR TESTING. NOTE: Training and testing fold should be the same\n",
    "# we raise an error in the test_ensemble method if this is not the case!\n",
    "TEST_FOLD = 0\n",
    "\n",
    "# baseline: \n",
    "exp_base = {2: \"20180328_10_53_16_dcnnv1_150000E_lr2e02\",\n",
    "            0: \"20180330_09_56_39_dcnnv1_150000E_lr2e02\"}\n",
    "exp_base_model = os.path.join(LOG_DIR, exp_base[TEST_FOLD])\n",
    "# Jelmers base model with brier-score\n",
    "# Fold 2: 20180329_08_02_33_dcnnv1_150000E_lr2e04\n",
    "# Fold 0: 20180331_09_48_22_dcnnv1_150000E_lr2e02\n",
    "exp_base_bs = {2: \"20180329_08_02_33_dcnnv1_150000E_lr2e04\",\n",
    "               0: \"20180331_09_48_22_dcnnv1_150000E_lr2e02\"}\n",
    "exp_base_bs_model = os.path.join(LOG_DIR, exp_base_bs[TEST_FOLD])\n",
    "# MC dropout models\n",
    "# Fold 2: 20180328_10_54_36_dcnn_mcv1_150000E_lr2e02\n",
    "# Fold 0: 20180330_09_56_01_dcnn_mcv1_150000E_lr2e02\n",
    "exp_mc005 = {2: \"20180328_10_54_36_dcnn_mcv1_150000E_lr2e02\",\n",
    "             0: \"20180330_09_56_01_dcnn_mcv1_150000E_lr2e02\"}\n",
    "exp_mc005_model = os.path.join(LOG_DIR, exp_mc005[TEST_FOLD])\n",
    "# Fold 2: 20180329_08_04_12_dcnn_mcv1_150000E_lr2e04\n",
    "# Fold 0: 20180331_09_49_14_dcnn_mcv1_150000E_lr2e02\n",
    "exp_mc005_bs = {2: \"20180329_08_04_12_dcnn_mcv1_150000E_lr2e04\",\n",
    "                0: \"20180331_09_49_14_dcnn_mcv1_150000E_lr2e02\"}\n",
    "exp_mc005_bs_model = os.path.join(LOG_DIR, exp_mc005_bs[TEST_FOLD])\n",
    "\n",
    "# Fold 2: 20180328_10_54_55_dcnn_mcv1_150000E_lr2e02\n",
    "# Fold 0: 20180330_09_56_15_dcnn_mcv1_150000E_lr2e02\n",
    "exp_mc01 = {2: \"20180328_10_54_55_dcnn_mcv1_150000E_lr2e02\",\n",
    "            0: \"20180330_09_56_15_dcnn_mcv1_150000E_lr2e02\"}\n",
    "exp_mc01_model = os.path.join(LOG_DIR, exp_mc01[TEST_FOLD])\n",
    "# Fold 2: 20180329_08_03_29_dcnn_mcv1_150000E_lr2e04\n",
    "# Fold 0: 20180331_09_48_48_dcnn_mcv1_150000E_lr2e02\n",
    "exp_mc01_bs = {2: \"20180329_08_03_29_dcnn_mcv1_150000E_lr2e04\",\n",
    "               0: \"20180331_09_48_48_dcnn_mcv1_150000E_lr2e02\"}\n",
    "exp_mc01_bs_model = os.path.join(LOG_DIR, exp_mc01_bs[TEST_FOLD])\n",
    "\n",
    "# Fold 2: 20180329_08_26_03_dcnn_mcv1_150000E_lr2e02\n",
    "# Fold 0: 20180404_09_06_37_dcnn_mcv1_150000E_lr2e02\n",
    "exp_mc02 = {2: \"20180329_08_26_03_dcnn_mcv1_150000E_lr2e02\",\n",
    "            0: \"20180404_09_06_37_dcnn_mcv1_150000E_lr2e02\"}\n",
    "exp_mc02_model = os.path.join(LOG_DIR, exp_mc02[TEST_FOLD])\n",
    "# Fold 2: 20180331_10_03_03_dcnn_mcv1_150000E_lr2e04\n",
    "# Fold 0: 20180404_09_12_48_dcnn_mcv1_150000E_lr2e04\n",
    "exp_mc02_bs = {2: \"20180331_10_03_03_dcnn_mcv1_150000E_lr2e04\",\n",
    "               0: \"20180404_09_12_48_dcnn_mcv1_150000E_lr2e04\"}\n",
    "exp_mc02_bs_model = os.path.join(LOG_DIR, exp_mc02_bs[TEST_FOLD])\n",
    "\n",
    "# Fold 2: 20180329_08_42_47_dcnn_mcv1_150000E_lr2e02\n",
    "# Fold 0: 20180404_09_05_00_dcnn_mcv1_150000E_lr2e02\n",
    "exp_mc03 = {2: \"20180329_08_42_47_dcnn_mcv1_150000E_lr2e02\",\n",
    "            0: \"20180404_09_05_00_dcnn_mcv1_150000E_lr2e02\"}\n",
    "exp_mc03_model = os.path.join(LOG_DIR, exp_mc03[TEST_FOLD])\n",
    "# Fold 2: 20180331_10_02_23_dcnn_mcv1_150000E_lr2e04\n",
    "# Fold 0: 20180405_08_32_07_dcnn_mcv1_150000E_lr2e04\n",
    "exp_mc03_bs = {2: \"20180331_10_02_23_dcnn_mcv1_150000E_lr2e04\",\n",
    "               0: \"20180405_08_32_07_dcnn_mcv1_150000E_lr2e04\"}\n",
    "exp_mc03_bs_model = os.path.join(LOG_DIR, exp_mc03_bs[TEST_FOLD])"
   ]
  },
  {
   "cell_type": "code",
   "execution_count": 4,
   "metadata": {},
   "outputs": [
    {
     "name": "stderr",
     "output_type": "stream",
     "text": [
      "\r",
      "  0%|          | 0/5 [00:00<?, ?it/s]"
     ]
    },
    {
     "name": "stdout",
     "output_type": "stream",
     "text": [
      "Load experiment from /home/jorg/repository/dcnn_acdc/logs/20180330_09_56_01_dcnn_mcv1_150000E_lr2e02/stats/exper_stats.dll\n",
      "Model name MC-dropout fold-0 (p=0.05)\n",
      "Load experiment from /home/jorg/repository/dcnn_acdc/logs/20180331_09_49_14_dcnn_mcv1_150000E_lr2e02/stats/exper_stats.dll\n",
      "Model name MC-BS-dropout fold-0 (p=0.05)\n",
      "Load experiment from /home/jorg/repository/dcnn_acdc/logs/20180330_09_56_15_dcnn_mcv1_150000E_lr2e02/stats/exper_stats.dll\n",
      "Model name MC-dropout fold-0 (p=0.1)\n",
      "Load experiment from /home/jorg/repository/dcnn_acdc/logs/20180331_09_48_48_dcnn_mcv1_150000E_lr2e02/stats/exper_stats.dll\n",
      "Model name MC-BS-dropout fold-0 (p=0.1)\n",
      "Load experiment from /home/jorg/repository/dcnn_acdc/logs/20180404_09_06_37_dcnn_mcv1_150000E_lr2e02/stats/exper_stats.dll\n",
      "Model name MC-dropout fold-0 (p=0.2)\n",
      "Load experiment from /home/jorg/repository/dcnn_acdc/logs/20180404_09_12_48_dcnn_mcv1_150000E_lr2e04/stats/exper_stats.dll\n",
      "Model name MC-BS-dropout fold-0 (p=0.2)\n",
      "Load experiment from /home/jorg/repository/dcnn_acdc/logs/20180404_09_05_00_dcnn_mcv1_150000E_lr2e02/stats/exper_stats.dll\n",
      "Model name MC-dropout fold-0 (p=0.3)\n",
      "Load experiment from /home/jorg/repository/dcnn_acdc/logs/20180405_08_32_07_dcnn_mcv1_150000E_lr2e04/stats/exper_stats.dll\n",
      "Model name MC-BS-dropout fold-0 (p=0.3)\n",
      "INFO - File list contains 50 files, hence 25 patients\n",
      "0 - /home/jorg/repository/dcnn_acdc/data/Folds/fold0/validate/images/patient016_frame01.mhd\n",
      "1 - /home/jorg/repository/dcnn_acdc/data/Folds/fold0/validate/images/patient016_frame12.mhd\n"
     ]
    },
    {
     "name": "stderr",
     "output_type": "stream",
     "text": [
      " 20%|██        | 1/5 [00:00<00:02,  1.95it/s]/home/jorg/anaconda2/envs/pyt_0_3_0/lib/python2.7/site-packages/scipy/ndimage/interpolation.py:616: UserWarning: From scipy 0.13.0, the output shape of zoom() is calculated with round() instead of int() - for these inputs the size of the returned array has changed.\n",
      "  \"the returned array has changed.\", UserWarning)\n"
     ]
    },
    {
     "name": "stdout",
     "output_type": "stream",
     "text": [
      "2 - /home/jorg/repository/dcnn_acdc/data/Folds/fold0/validate/images/patient017_frame01.mhd\n",
      "3 - /home/jorg/repository/dcnn_acdc/data/Folds/fold0/validate/images/patient017_frame09.mhd\n"
     ]
    },
    {
     "name": "stderr",
     "output_type": "stream",
     "text": [
      "\r",
      " 40%|████      | 2/5 [00:01<00:01,  1.81it/s]"
     ]
    },
    {
     "name": "stdout",
     "output_type": "stream",
     "text": [
      "4 - /home/jorg/repository/dcnn_acdc/data/Folds/fold0/validate/images/patient018_frame01.mhd\n",
      "5 - /home/jorg/repository/dcnn_acdc/data/Folds/fold0/validate/images/patient018_frame10.mhd\n"
     ]
    },
    {
     "name": "stderr",
     "output_type": "stream",
     "text": [
      "\r",
      " 60%|██████    | 3/5 [00:01<00:01,  1.97it/s]"
     ]
    },
    {
     "name": "stdout",
     "output_type": "stream",
     "text": [
      "6 - /home/jorg/repository/dcnn_acdc/data/Folds/fold0/validate/images/patient019_frame01.mhd\n",
      "7 - /home/jorg/repository/dcnn_acdc/data/Folds/fold0/validate/images/patient019_frame11.mhd\n"
     ]
    },
    {
     "name": "stderr",
     "output_type": "stream",
     "text": [
      "\r",
      " 80%|████████  | 4/5 [00:02<00:00,  1.84it/s]"
     ]
    },
    {
     "name": "stdout",
     "output_type": "stream",
     "text": [
      "8 - /home/jorg/repository/dcnn_acdc/data/Folds/fold0/validate/images/patient020_frame01.mhd\n",
      "9 - /home/jorg/repository/dcnn_acdc/data/Folds/fold0/validate/images/patient020_frame11.mhd\n"
     ]
    },
    {
     "name": "stderr",
     "output_type": "stream",
     "text": [
      "\r",
      "100%|██████████| 5/5 [00:02<00:00,  1.79it/s]"
     ]
    },
    {
     "name": "stdout",
     "output_type": "stream",
     "text": [
      "INFO - Successfully loaded 5 ED/ES patient pairs\n"
     ]
    },
    {
     "name": "stderr",
     "output_type": "stream",
     "text": [
      "\n"
     ]
    }
   ],
   "source": [
    "exper_mc005 = ExperimentHandler.load_experiment(exp_mc005_model)\n",
    "exper_hdl_mc005 = ExperimentHandler(exper_mc005, use_logfile=False)\n",
    "exper_hdl_mc005.set_root_dir(ROOT_DIR)\n",
    "exper_hdl_mc005.set_model_name(\"MC-dropout fold-{} (p={})\".format(exper_hdl_mc005.exper.run_args.fold_ids[0],\n",
    "    exper_hdl_mc005.exper.run_args.drop_prob))\n",
    "print(\"Model name {}\".format(exper_hdl_mc005.exper.model_name))\n",
    "\n",
    "exper_mc005_bs = ExperimentHandler.load_experiment(exp_mc005_bs_model)\n",
    "exper_hdl_mc005_bs = ExperimentHandler(exper_mc005_bs, use_logfile=False)\n",
    "exper_hdl_mc005_bs.set_root_dir(ROOT_DIR)\n",
    "exper_hdl_mc005_bs.set_model_name(\"MC-BS-dropout fold-{} (p={})\".format(\n",
    "    exper_hdl_mc005_bs.exper.run_args.fold_ids[0],\n",
    "    exper_hdl_mc005_bs.exper.run_args.drop_prob))\n",
    "print(\"Model name {}\".format(exper_hdl_mc005_bs.exper.model_name))\n",
    "\n",
    "exper_mc01 = ExperimentHandler.load_experiment(exp_mc01_model)\n",
    "exper_hdl_mc01 = ExperimentHandler(exper_mc01, use_logfile=False)\n",
    "exper_hdl_mc01.set_root_dir(ROOT_DIR)\n",
    "exper_hdl_mc01.set_model_name(\"MC-dropout fold-{} (p={})\".format(exper_hdl_mc01.exper.run_args.fold_ids[0],\n",
    "    exper_hdl_mc01.exper.run_args.drop_prob))\n",
    "print(\"Model name {}\".format(exper_hdl_mc01.exper.model_name))\n",
    "\n",
    "exper_mc01_bs = ExperimentHandler.load_experiment(exp_mc01_bs_model)\n",
    "exper_hdl_mc01_bs = ExperimentHandler(exper_mc01_bs, use_logfile=False)\n",
    "exper_hdl_mc01_bs.set_root_dir(ROOT_DIR)\n",
    "exper_hdl_mc01_bs.set_model_name(\"MC-BS-dropout fold-{} (p={})\".format(\n",
    "    exper_hdl_mc01_bs.exper.run_args.fold_ids[0],\n",
    "    exper_hdl_mc01_bs.exper.run_args.drop_prob))\n",
    "print(\"Model name {}\".format(exper_hdl_mc01_bs.exper.model_name))\n",
    "\n",
    "\n",
    "exper_mc02 = ExperimentHandler.load_experiment(exp_mc02_model)\n",
    "exper_hdl_mc02 = ExperimentHandler(exper_mc02, use_logfile=False)\n",
    "exper_hdl_mc02.set_root_dir(ROOT_DIR)\n",
    "exper_hdl_mc02.set_model_name(\"MC-dropout fold-{} (p={})\".format(exper_hdl_mc02.exper.run_args.fold_ids[0],\n",
    "    exper_hdl_mc02.exper.run_args.drop_prob))\n",
    "print(\"Model name {}\".format(exper_hdl_mc02.exper.model_name))\n",
    "\n",
    "exper_mc02_bs = ExperimentHandler.load_experiment(exp_mc02_bs_model)\n",
    "exper_hdl_mc02_bs = ExperimentHandler(exper_mc02_bs, use_logfile=False)\n",
    "exper_hdl_mc02_bs.set_root_dir(ROOT_DIR)\n",
    "exper_hdl_mc02_bs.set_model_name(\"MC-BS-dropout fold-{} (p={})\".format(\n",
    "    exper_hdl_mc02_bs.exper.run_args.fold_ids[0],\n",
    "    exper_hdl_mc02_bs.exper.run_args.drop_prob))\n",
    "print(\"Model name {}\".format(exper_hdl_mc02_bs.exper.model_name))\n",
    "\n",
    "\n",
    "exper_mc03 = ExperimentHandler.load_experiment(exp_mc03_model)\n",
    "exper_hdl_mc03 = ExperimentHandler(exper_mc03, use_logfile=False)\n",
    "exper_hdl_mc03.set_root_dir(ROOT_DIR)\n",
    "exper_hdl_mc03.set_model_name(\"MC-dropout fold-{} (p={})\".format(exper_hdl_mc03.exper.run_args.fold_ids[0],\n",
    "    exper_hdl_mc03.exper.run_args.drop_prob))\n",
    "print(\"Model name {}\".format(exper_hdl_mc03.exper.model_name))\n",
    "\n",
    "\n",
    "exper_mc03_bs = ExperimentHandler.load_experiment(exp_mc03_bs_model)\n",
    "exper_hdl_mc03_bs = ExperimentHandler(exper_mc03_bs, use_logfile=False)\n",
    "exper_hdl_mc03_bs.set_root_dir(ROOT_DIR)\n",
    "exper_hdl_mc03_bs.set_model_name(\"MC-BS-dropout fold-{} (p={})\".format(\n",
    "        exper_hdl_mc03_bs.exper.run_args.fold_ids[0],\n",
    "        exper_hdl_mc03_bs.exper.run_args.drop_prob))\n",
    "print(\"Model name {}\".format(exper_hdl_mc03_bs.exper.model_name))\n",
    "\n",
    "\n",
    "try:\n",
    "    del test_set\n",
    "except:\n",
    "    pass\n",
    "\n",
    "test_set = ACDC2017TestHandler(exper_config=config, \n",
    "                               search_mask=config.dflt_image_name + \".mhd\", fold_ids=[TEST_FOLD],\n",
    "                               debug=False, batch_size=5, use_cuda=True, load_val=True)"
   ]
  },
  {
   "cell_type": "code",
   "execution_count": 4,
   "metadata": {},
   "outputs": [
    {
     "name": "stdout",
     "output_type": "stream",
     "text": [
      "INFO - loading model MC-dropout fold-0 (p=0.05)\n"
     ]
    },
    {
     "name": "stderr",
     "output_type": "stream",
     "text": [
      "\r",
      "  0%|          | 0/5 [00:00<?, ?it/s]"
     ]
    },
    {
     "name": "stdout",
     "output_type": "stream",
     "text": [
      "INFO - Starting to generate uncertainty maps for 5 images using 10 samples and u-threshold 0.00\n"
     ]
    },
    {
     "name": "stderr",
     "output_type": "stream",
     "text": [
      "\r",
      " 20%|██        | 1/5 [00:10<00:43, 10.90s/it]"
     ]
    },
    {
     "name": "stdout",
     "output_type": "stream",
     "text": [
      "INFO - Successfully saved maps to /home/jorg/repository/dcnn_acdc/logs/20180330_09_56_01_dcnn_mcv1_150000E_lr2e02/u_maps/patient016_umaps.npz\n"
     ]
    },
    {
     "name": "stderr",
     "output_type": "stream",
     "text": [
      "\r",
      " 40%|████      | 2/5 [00:22<00:33, 11.22s/it]"
     ]
    },
    {
     "name": "stdout",
     "output_type": "stream",
     "text": [
      "INFO - Successfully saved maps to /home/jorg/repository/dcnn_acdc/logs/20180330_09_56_01_dcnn_mcv1_150000E_lr2e02/u_maps/patient017_umaps.npz\n"
     ]
    },
    {
     "name": "stderr",
     "output_type": "stream",
     "text": [
      "\r",
      " 60%|██████    | 3/5 [00:30<00:20, 10.22s/it]"
     ]
    },
    {
     "name": "stdout",
     "output_type": "stream",
     "text": [
      "INFO - Successfully saved maps to /home/jorg/repository/dcnn_acdc/logs/20180330_09_56_01_dcnn_mcv1_150000E_lr2e02/u_maps/patient018_umaps.npz\n"
     ]
    },
    {
     "name": "stderr",
     "output_type": "stream",
     "text": [
      "\r",
      " 80%|████████  | 4/5 [00:43<00:10, 10.86s/it]"
     ]
    },
    {
     "name": "stdout",
     "output_type": "stream",
     "text": [
      "INFO - Successfully saved maps to /home/jorg/repository/dcnn_acdc/logs/20180330_09_56_01_dcnn_mcv1_150000E_lr2e02/u_maps/patient019_umaps.npz\n"
     ]
    },
    {
     "name": "stderr",
     "output_type": "stream",
     "text": [
      "\r",
      "100%|██████████| 5/5 [00:55<00:00, 11.15s/it]"
     ]
    },
    {
     "name": "stdout",
     "output_type": "stream",
     "text": [
      "INFO - Successfully saved maps to /home/jorg/repository/dcnn_acdc/logs/20180330_09_56_01_dcnn_mcv1_150000E_lr2e02/u_maps/patient020_umaps.npz\n",
      "INFO - Saved results to /home/jorg/repository/dcnn_acdc/logs/20180330_09_56_01_dcnn_mcv1_150000E_lr2e02/stats/test_results_5imgs_mc10_folds0_ep150000.dll\n",
      "INFO - Total duration of generation process 55.74 secs\n"
     ]
    },
    {
     "name": "stderr",
     "output_type": "stream",
     "text": [
      "\n"
     ]
    }
   ],
   "source": [
    "from utils.generate_uncertainty_maps import UncertaintyMapsGenerator\n",
    "mc_samples = 10\n",
    "exper_handler = exper_hdl_mc005\n",
    "exper_handler.logger = None\n",
    "\n",
    "maps_generator = UncertaintyMapsGenerator(exper_handler, test_set=test_set, verbose=False, mc_samples=mc_samples,\n",
    "                                          store_test_results=True)\n",
    "maps_generator()"
   ]
  },
  {
   "cell_type": "code",
   "execution_count": null,
   "metadata": {
    "collapsed": true
   },
   "outputs": [],
   "source": [
    "from sklearn import mixture\n",
    "from matplotlib.colors import LogNorm"
   ]
  },
  {
   "cell_type": "code",
   "execution_count": null,
   "metadata": {},
   "outputs": [],
   "source": [
    "def get_uncertainty_maps(testset, image_num, c_phase=0, slice_id=0, uncertainty_type=\"bald\"):\n",
    "    if uncertainty_type == \"bald\":\n",
    "        uncertainty_map = testset.bald_maps[image_num][c_phase, :, :, slice_id]\n",
    "    else:\n",
    "        uncertainty_map = testset.uncertainty_maps[image_num][c_phase, :, :, slice_id]\n",
    "    \n",
    "    return uncertainty_map        \n",
    "\n",
    "heat_map = get_uncertainty_maps(exper_handler.test_results, image_num=0, c_phase=1, slice_id=0)\n",
    "print(heat_map.shape)\n",
    "\n",
    "un_data = heat_map.ravel()\n",
    "\n",
    "del clf\n",
    "gmm = mixture.GaussianMixture(n_components=10, covariance_type='full')\n",
    "gmm.fit(heat_map)\n",
    "\n",
    "\n",
    "# plt.imshow(z+10, extent=(np.amin(x), np.amax(x), np.amin(y), np.amax(y)),\n",
    "#        cmap=cm.hot, norm=LogNorm())\n",
    "\n",
    "# plt.colorbar()\n",
    "# plt.show()"
   ]
  },
  {
   "cell_type": "code",
   "execution_count": null,
   "metadata": {},
   "outputs": [],
   "source": [
    "# display predicted scores by the model as a contour plot\n",
    "x = np.linspace(0, heat_map.shape[0])\n",
    "y = np.linspace(0, heat_map.shape[1])\n",
    "X, Y = np.meshgrid(x, y)\n",
    "XX = np.array([X.ravel(), Y.ravel()]).T\n",
    "Z = -clf.score_samples(XX)\n",
    "Z = Z.reshape(X.shape)\n",
    "CS = plt.contour(X, Y, Z, norm=LogNorm(vmin=1.0, vmax=1000.0),\n",
    "                 levels=np.logspace(0, 3, 10))\n",
    "CB = plt.colorbar(CS, shrink=0.8, extend='both')\n",
    "\n",
    "plt.title('Negative log-likelihood predicted by a GMM')\n",
    "plt.axis('tight')\n",
    "plt.show()_mc005"
   ]
  },
  {
   "cell_type": "code",
   "execution_count": null,
   "metadata": {},
   "outputs": [],
   "source": [
    "clf = mixture.GaussianMixture(n_components=2, covariance_type='full')\n",
    "clf.fit(X_train)\n",
    "\n",
    "# display predicted scores by the model as a contour plot\n",
    "x = np.linspace(-20., 30.)\n",
    "y = np.linspace(-20., 40.)\n",
    "X, Y = np.meshgrid(x, y)\n",
    "XX = np.array([X.ravel(), Y.ravel()]).T\n",
    "Z = -clf.score_samples(XX)\n",
    "Z = Z.reshape(X.shape)\n",
    "\n",
    "CS = plt.contour(X, Y, Z, norm=LogNorm(vmin=1.0, vmax=1000.0),\n",
    "                 levels=np.logspace(0, 3, 10))\n",
    "CB = plt.colorbar(CS, shrink=0.8, extend='both')\n",
    "plt.scatter(X_train[:, 0], X_train[:, 1], .8)\n",
    "\n",
    "plt.title('Negative log-likelihood predicted by a GMM')\n",
    "plt.axis('tight')\n",
    "plt.show()"
   ]
  },
  {
   "cell_type": "code",
   "execution_count": 9,
   "metadata": {},
   "outputs": [
    {
     "name": "stderr",
     "output_type": "stream",
     "text": [
      "\r",
      "  0%|          | 0/5 [00:00<?, ?it/s]"
     ]
    },
    {
     "name": "stdout",
     "output_type": "stream",
     "text": [
      "INFO - Testhandler - >>> Search for /home/jorg/repository/dcnn_acdc/data/Folds/fold0/train/images/*patient*.mhd <<<\n",
      "INFO - File list contains 200 files, hence 100 patients\n",
      "0 - /home/jorg/repository/dcnn_acdc/data/Folds/fold0/train/images/patient001_frame01.mhd\n",
      "1 - /home/jorg/repository/dcnn_acdc/data/Folds/fold0/train/images/patient001_frame12.mhd\n"
     ]
    },
    {
     "name": "stderr",
     "output_type": "stream",
     "text": [
      "\r",
      " 20%|██        | 1/5 [00:00<00:03,  1.17it/s]"
     ]
    },
    {
     "name": "stdout",
     "output_type": "stream",
     "text": [
      "2 - /home/jorg/repository/dcnn_acdc/data/Folds/fold0/train/images/patient002_frame01.mhd\n",
      "3 - /home/jorg/repository/dcnn_acdc/data/Folds/fold0/train/images/patient002_frame12.mhd\n"
     ]
    },
    {
     "name": "stderr",
     "output_type": "stream",
     "text": [
      "\r",
      " 40%|████      | 2/5 [00:01<00:02,  1.40it/s]"
     ]
    },
    {
     "name": "stdout",
     "output_type": "stream",
     "text": [
      "4 - /home/jorg/repository/dcnn_acdc/data/Folds/fold0/train/images/patient003_frame01.mhd\n",
      "5 - /home/jorg/repository/dcnn_acdc/data/Folds/fold0/train/images/patient003_frame15.mhd\n"
     ]
    },
    {
     "name": "stderr",
     "output_type": "stream",
     "text": [
      "\r",
      " 60%|██████    | 3/5 [00:02<00:01,  1.34it/s]"
     ]
    },
    {
     "name": "stdout",
     "output_type": "stream",
     "text": [
      "6 - /home/jorg/repository/dcnn_acdc/data/Folds/fold0/train/images/patient004_frame01.mhd\n",
      "7 - /home/jorg/repository/dcnn_acdc/data/Folds/fold0/train/images/patient004_frame15.mhd\n"
     ]
    },
    {
     "name": "stderr",
     "output_type": "stream",
     "text": [
      "\r",
      " 80%|████████  | 4/5 [00:02<00:00,  1.36it/s]"
     ]
    },
    {
     "name": "stdout",
     "output_type": "stream",
     "text": [
      "8 - /home/jorg/repository/dcnn_acdc/data/Folds/fold0/train/images/patient005_frame01.mhd\n",
      "9 - /home/jorg/repository/dcnn_acdc/data/Folds/fold0/train/images/patient005_frame13.mhd\n"
     ]
    },
    {
     "name": "stderr",
     "output_type": "stream",
     "text": [
      "\r",
      "100%|██████████| 5/5 [00:03<00:00,  1.42it/s]"
     ]
    },
    {
     "name": "stdout",
     "output_type": "stream",
     "text": [
      "INFO - Successfully loaded 5 ED/ES patient pairs\n"
     ]
    },
    {
     "name": "stderr",
     "output_type": "stream",
     "text": [
      "\n"
     ]
    }
   ],
   "source": [
    "test_set = ACDC2017TestHandler(exper_config=config, \n",
    "                               search_mask=config.dflt_image_name + \".mhd\", fold_ids=[0],\n",
    "                               debug=False, batch_size=5, use_cuda=True, load_train=True, load_val=True)"
   ]
  },
  {
   "cell_type": "code",
   "execution_count": 5,
   "metadata": {},
   "outputs": [
    {
     "name": "stdout",
     "output_type": "stream",
     "text": [
      "Load experiment from /home/jorg/repository/dcnn_acdc/logs/20180330_09_56_01_dcnn_mcv1_150000E_lr2e02/stats/exper_stats.dll\n",
      "Model name MC-dropout fold-0 (p=0.05)\n"
     ]
    }
   ],
   "source": [
    "ROOT_DIR = \"/home/jorg/repository/dcnn_acdc\"\n",
    "LOG_DIR = os.path.join(ROOT_DIR, \"logs\")\n",
    "exp_model = os.path.join(LOG_DIR, \"20180330_09_56_01_dcnn_mcv1_150000E_lr2e02\")\n",
    "exper = ExperimentHandler.load_experiment(exp_model)\n",
    "exper_hdl = ExperimentHandler(exper, use_logfile=False)\n",
    "exper_hdl.set_root_dir(ROOT_DIR)\n",
    "exper_hdl.set_model_name(\"MC-dropout fold-{} (p={})\".format(exper_hdl.exper.run_args.fold_ids[0],\n",
    "    exper_hdl.exper.run_args.drop_prob))\n",
    "print(\"Model name {}\".format(exper_hdl.exper.model_name))\n",
    "exper_handler = exper_hdl"
   ]
  },
  {
   "cell_type": "code",
   "execution_count": 13,
   "metadata": {},
   "outputs": [
    {
     "name": "stderr",
     "output_type": "stream",
     "text": [
      "\r",
      "  0%|          | 0/5 [00:00<?, ?it/s]"
     ]
    },
    {
     "name": "stdout",
     "output_type": "stream",
     "text": [
      "INFO - loading model MC-dropout fold-0 (p=0.05)\n",
      "INFO - Starting to generate uncertainty maps for 5 images using 10 samples and u-threshold 0.10\n",
      "NOTE: first cleaning up previous generated uncertainty maps!\n"
     ]
    },
    {
     "name": "stderr",
     "output_type": "stream",
     "text": [
      "\r",
      " 20%|██        | 1/5 [00:10<00:42, 10.65s/it]"
     ]
    },
    {
     "name": "stdout",
     "output_type": "stream",
     "text": [
      "INFO - Successfully saved maps to /home/jorg/repository/dcnn_acdc/logs/20180330_09_56_01_dcnn_mcv1_150000E_lr2e02/u_maps/patient016_umaps.npz\n"
     ]
    },
    {
     "name": "stderr",
     "output_type": "stream",
     "text": [
      "\r",
      " 40%|████      | 2/5 [00:22<00:33, 11.07s/it]"
     ]
    },
    {
     "name": "stdout",
     "output_type": "stream",
     "text": [
      "INFO - Successfully saved maps to /home/jorg/repository/dcnn_acdc/logs/20180330_09_56_01_dcnn_mcv1_150000E_lr2e02/u_maps/patient017_umaps.npz\n"
     ]
    },
    {
     "name": "stderr",
     "output_type": "stream",
     "text": [
      "\r",
      " 60%|██████    | 3/5 [00:30<00:20, 10.04s/it]"
     ]
    },
    {
     "name": "stdout",
     "output_type": "stream",
     "text": [
      "INFO - Successfully saved maps to /home/jorg/repository/dcnn_acdc/logs/20180330_09_56_01_dcnn_mcv1_150000E_lr2e02/u_maps/patient018_umaps.npz\n"
     ]
    },
    {
     "name": "stderr",
     "output_type": "stream",
     "text": [
      "\r",
      " 80%|████████  | 4/5 [00:42<00:10, 10.71s/it]"
     ]
    },
    {
     "name": "stdout",
     "output_type": "stream",
     "text": [
      "INFO - Successfully saved maps to /home/jorg/repository/dcnn_acdc/logs/20180330_09_56_01_dcnn_mcv1_150000E_lr2e02/u_maps/patient019_umaps.npz\n"
     ]
    },
    {
     "name": "stderr",
     "output_type": "stream",
     "text": [
      "\r",
      "100%|██████████| 5/5 [00:55<00:00, 11.02s/it]"
     ]
    },
    {
     "name": "stdout",
     "output_type": "stream",
     "text": [
      "INFO - Successfully saved maps to /home/jorg/repository/dcnn_acdc/logs/20180330_09_56_01_dcnn_mcv1_150000E_lr2e02/u_maps/patient020_umaps.npz\n",
      "INFO - Total duration of generation process 55.08 secs\n"
     ]
    },
    {
     "name": "stderr",
     "output_type": "stream",
     "text": [
      "\n"
     ]
    }
   ],
   "source": [
    "u_threshold = 0.1\n",
    "mc_samples = 10\n",
    "exper_handler = exper_hdl\n",
    "exper_handler.logger = None\n",
    "\n",
    "maps_generator = UncertaintyMapsGenerator(exper_handler, test_set=test_set, verbose=False, mc_samples=mc_samples,\n",
    "                                          u_threshold=u_threshold)\n",
    "maps_generator()"
   ]
  },
  {
   "cell_type": "code",
   "execution_count": 15,
   "metadata": {},
   "outputs": [
    {
     "name": "stdout",
     "output_type": "stream",
     "text": [
      "/home/jorg/repository/dcnn_acdc/logs/20180330_09_56_01_dcnn_mcv1_150000E_lr2e02/u_maps/*_umaps.npz\n"
     ]
    }
   ],
   "source": [
    "from utils.generate_uncertainty_maps import UncertaintyMapsGenerator\n",
    "\n",
    "batch_uncty = UncertaintyMapsGenerator.load_uncertainty_maps(exper_handler=exper_handler)"
   ]
  },
  {
   "cell_type": "code",
   "execution_count": 17,
   "metadata": {},
   "outputs": [
    {
     "name": "stdout",
     "output_type": "stream",
     "text": [
      "Number of outlier slices 22. Dataset contains 88 slices in total\n"
     ]
    }
   ],
   "source": [
    "\n",
    "batch_uncty.gen_normalized_stats()\n",
    "batch_uncty.detect_outliers()\n",
    "dtaset_outof_slices = batch_uncty.get_outlier_obj()\n",
    "dtaset_outof_slices.create_dataset(dataset, train=False)\n",
    "print(\"Number of outlier slices {}. Dataset contains {} slices in \"\n",
    "      \"total\".format(len(dtaset_outof_slices.outlier_slices), len(dtaset_outof_slices.images)))"
   ]
  },
  {
   "cell_type": "code",
   "execution_count": null,
   "metadata": {},
   "outputs": [],
   "source": [
    "exper_handler = exper_handler\n",
    "\n",
    "image_range = None\n",
    "u_type = \"stddev\"\n",
    "\n",
    "analyze_slices(exper_handler, image_range=image_range, do_save=True, do_show=True, u_type=u_type,\n",
    "               translate_img_range=True)"
   ]
  },
  {
   "cell_type": "code",
   "execution_count": 10,
   "metadata": {},
   "outputs": [
    {
     "name": "stdout",
     "output_type": "stream",
     "text": [
      "patient005\n",
      "OrderedDict([('patient001', 0), ('patient002', 1), ('patient003', 2), ('patient004', 3), ('patient005', 4), ('patient006', 5), ('patient007', 6), ('patient008', 7), ('patient009', 8), ('patient010', 9), ('patient011', 10), ('patient012', 11), ('patient013', 12), ('patient014', 13), ('patient015', 14), ('patient021', 15), ('patient022', 16), ('patient023', 17), ('patient024', 18), ('patient025', 19), ('patient026', 20), ('patient027', 21), ('patient028', 22), ('patient029', 23), ('patient030', 24), ('patient031', 25), ('patient032', 26), ('patient033', 27), ('patient034', 28), ('patient035', 29), ('patient041', 30), ('patient042', 31), ('patient043', 32), ('patient044', 33), ('patient045', 34), ('patient046', 35), ('patient047', 36), ('patient048', 37), ('patient049', 38), ('patient050', 39), ('patient051', 40), ('patient052', 41), ('patient053', 42), ('patient054', 43), ('patient055', 44), ('patient061', 45), ('patient062', 46), ('patient063', 47), ('patient064', 48), ('patient065', 49), ('patient066', 50), ('patient067', 51), ('patient068', 52), ('patient069', 53), ('patient070', 54), ('patient071', 55), ('patient072', 56), ('patient073', 57), ('patient074', 58), ('patient075', 59), ('patient081', 60), ('patient082', 61), ('patient083', 62), ('patient084', 63), ('patient085', 64), ('patient086', 65), ('patient087', 66), ('patient088', 67), ('patient089', 68), ('patient090', 69), ('patient091', 70), ('patient092', 71), ('patient093', 72), ('patient094', 73), ('patient095', 74), ('patient016', 75), ('patient017', 76), ('patient018', 77), ('patient019', 78), ('patient020', 79), ('patient036', 80), ('patient037', 81), ('patient038', 82), ('patient039', 83), ('patient040', 84), ('patient056', 85), ('patient057', 86), ('patient058', 87), ('patient059', 88), ('patient060', 89), ('patient076', 90), ('patient077', 91), ('patient078', 92), ('patient079', 93), ('patient080', 94), ('patient096', 95), ('patient097', 96), ('patient098', 97), ('patient099', 98), ('patient100', 99)])\n"
     ]
    }
   ],
   "source": [
    "print(dataset.image_names[4])\n",
    "print(dataset.trans_dict)"
   ]
  },
  {
   "cell_type": "code",
   "execution_count": 8,
   "metadata": {},
   "outputs": [
    {
     "name": "stderr",
     "output_type": "stream",
     "text": [
      "  1%|▏         | 1/75 [00:00<00:11,  6.32it/s]"
     ]
    },
    {
     "name": "stdout",
     "output_type": "stream",
     "text": [
      "INFO - Using folds ['0'] - busy loading images/references...this may take a while!\n",
      "INFO - >>> Search for /home/jorg/repository/dcnn_acdc/data/Folds/fold0/train/images_iso/*patient*.mhd <<<\n"
     ]
    },
    {
     "name": "stderr",
     "output_type": "stream",
     "text": [
      "100%|██████████| 75/75 [00:06<00:00, 12.26it/s]\n",
      "100%|██████████| 25/25 [00:01<00:00, 13.51it/s]"
     ]
    },
    {
     "name": "stdout",
     "output_type": "stream",
     "text": [
      "INFO - Using folds ['0'] - loaded 200 files: 2892 slices in train set, 912 slices in validation set\n"
     ]
    },
    {
     "name": "stderr",
     "output_type": "stream",
     "text": [
      "\n"
     ]
    }
   ],
   "source": [
    "dataset = ACDC2017DataSet(exper_hdl.exper.config, search_mask=config.dflt_image_name + \".mhd\",\n",
    "                              fold_ids=exper_hdl.exper.run_args.fold_ids, preprocess=False,\n",
    "                              debug=exper_hdl.exper.run_args.quick_run)"
   ]
  }
 ],
 "metadata": {
  "kernelspec": {
   "display_name": "Python 2",
   "language": "python",
   "name": "python2"
  },
  "language_info": {
   "codemirror_mode": {
    "name": "ipython",
    "version": 2
   },
   "file_extension": ".py",
   "mimetype": "text/x-python",
   "name": "python",
   "nbconvert_exporter": "python",
   "pygments_lexer": "ipython2",
   "version": "2.7.14"
  }
 },
 "nbformat": 4,
 "nbformat_minor": 2
}
