{
 "cells": [
  {
   "cell_type": "code",
   "execution_count": 3,
   "metadata": {},
   "outputs": [],
   "source": [
    "from __future__ import print_function\n",
    "\n",
    "import sys\n",
    "import socket\n",
    "\n",
    "if socket.gethostname() == \"qiaubuntu\" or socket.gethostname() == \"toologic-ubuntu2\":\n",
    "    sys.path.extend(['/home/jorg/repository/dcnn_acdc'])\n",
    "else:\n",
    "    sys.path.extend(['/home/jorg/repo/dcnn_acdc'])\n",
    "\n",
    "import matplotlib\n",
    "import matplotlib.pyplot as plt\n",
    "\n",
    "from matplotlib import cm\n",
    "\n",
    "from datetime import datetime\n",
    "from pytz import timezone\n",
    "import copy\n",
    "\n",
    "import numpy as np\n",
    "import torch\n",
    "\n",
    "import numpy as np\n",
    "import dill\n",
    "import os\n",
    "import glob\n",
    "from collections import OrderedDict\n",
    "\n",
    "from in_out.load_data import ACDC2017DataSet\n",
    "from in_out.detector.detector_dataset import RegionDetectorDataSet\n",
    "from config.config import config as config_acdc\n",
    "from common.detector.config import config_detector\n",
    "from plotting.color_maps import transparent_cmap\n",
    "from plotting.seg_errors_and_maps import plot_slices\n",
    "from utils.exper_hdl_ensemble import ExperHandlerEnsemble\n",
    "from common.detector.box_utils import find_bbox_object, BoundingBox\n",
    "from utils.detector.batch_handler import BatchHandler\n",
    "from utils.detector.experiment import Experiment\n",
    "from utils.detector.exper_handler import ExperimentHandler\n",
    "\n",
    "mycmap = transparent_cmap(plt.get_cmap('jet'))\n",
    "\n",
    "%matplotlib inline\n",
    "%load_ext autoreload\n",
    "%autoreload 2"
   ]
  },
  {
   "cell_type": "code",
   "execution_count": 4,
   "metadata": {},
   "outputs": [
    {
     "name": "stdout",
     "output_type": "stream",
     "text": [
      "Load experiment from /home/jorg/repository/dcnn_acdc/logs/ACDC/20180418_15_02_05_dcnn_mcv1_150000E_lr2e02/stats/exper_stats.dll\n",
      "INFO - Experimental details extracted:: dcnn_mc p=0.10 fold=['0'] loss=brier\n",
      "Load experiment from /home/jorg/repository/dcnn_acdc/logs/ACDC/20180426_14_13_46_dcnn_mc_f1p01_brier_150KE_lr2e02/stats/exper_stats.dll\n",
      "INFO - Experimental details extracted:: dcnn_mc p=0.10 fold=['1'] loss=brier\n",
      "Load experiment from /home/jorg/repository/dcnn_acdc/logs/ACDC/20180426_14_14_39_dcnn_mc_f2p01_brier_150KE_lr2e02/stats/exper_stats.dll\n",
      "INFO - Experimental details extracted:: dcnn_mc p=0.10 fold=['2'] loss=brier\n",
      "Load experiment from /home/jorg/repository/dcnn_acdc/logs/ACDC/20180426_14_14_57_dcnn_mc_f3p01_brier_150KE_lr2e02/stats/exper_stats.dll\n",
      "INFO - Experimental details extracted:: dcnn_mc p=0.10 fold=['3'] loss=brier\n"
     ]
    }
   ],
   "source": [
    "# Constants aka fixed variables\n",
    "ROOT_DIR = \"/home/jorg/repository/dcnn_acdc\"\n",
    "\n",
    "# set seeds\n",
    "SEED = 4325\n",
    "torch.manual_seed(SEED)\n",
    "torch.cuda.manual_seed(SEED)\n",
    "torch.backends.cudnn.enabled = True\n",
    "torch.backends.cudnn.deterministic = True\n",
    "np.random.seed(SEED)\n",
    "\n",
    "# Load our baseline \n",
    "seg_exper_ensemble = ExperHandlerEnsemble(config_detector.exper_dict_brier)"
   ]
  },
  {
   "cell_type": "markdown",
   "metadata": {},
   "source": [
    "## Statistics w.r.t. error rois = seg-errors we want our detector to identify"
   ]
  },
  {
   "cell_type": "code",
   "execution_count": 5,
   "metadata": {},
   "outputs": [
    {
     "name": "stderr",
     "output_type": "stream",
     "text": [
      "100%|██████████| 25/25 [00:01<00:00, 14.24it/s]\n"
     ]
    }
   ],
   "source": [
    "fold_id = 0\n",
    "exper_handler = seg_exper_ensemble.seg_exper_handlers[fold_id]\n",
    "_ = exper_handler.get_target_roi_maps(mc_dropout=False)\n",
    "_ = exper_handler.get_pred_labels(mc_dropout=False, force_reload=False)\n",
    "exper_handler.get_test_set()\n",
    "print(\"Ready\")"
   ]
  },
  {
   "cell_type": "code",
   "execution_count": 6,
   "metadata": {},
   "outputs": [
    {
     "name": "stdout",
     "output_type": "stream",
     "text": [
      "Total #patients=25, #slices=228\n",
      "Overall 135801/117456\n",
      "[[ 24. 178.  25.]\n",
      " [ 25. 178.  25.]]\n",
      "[[ 25599. 103043.   7159.]\n",
      " [ 20587.  88703.   8166.]]\n",
      "Error roi stats 10505.0/3889.0\n",
      "[[14. 74. 15.]\n",
      " [12. 47. 12.]]\n",
      "[[6017. 3782.  706.]\n",
      " [1796. 1400.  693.]]\n",
      "96.00 % of patients (25) to check\n"
     ]
    }
   ],
   "source": [
    "def compute_roi_error_stats(error_roi_volume, slice_id_error_counts, location_error_counts, cardiac_phase):\n",
    "    # cardiac_phase: 0 = ES and 1 = ED\n",
    "    # error_roi_volume has shape [#classes, w, h, #slices]\n",
    "    error_per_cls_slice = np.sum(error_roi_volume, axis=(1, 2))\n",
    "    num_of_slices = error_roi_volume.shape[3]\n",
    "    check_patient = False\n",
    "    # Base, slice=0\n",
    "    if np.any(error_per_cls_slice[:, 0] != 0):\n",
    "        check_patient = True\n",
    "        slice_id_error_counts[cardiac_phase, 0] += 1\n",
    "        location_error_counts[cardiac_phase, 0] += np.sum(error_per_cls_slice[:, 0])\n",
    "    if np.any(error_per_cls_slice[:, num_of_slices-1] != 0):\n",
    "        check_patient = True\n",
    "        slice_id_error_counts[cardiac_phase, 2] += 1\n",
    "        location_error_counts[cardiac_phase, 2] += np.sum(error_per_cls_slice[:, num_of_slices-1])\n",
    "    # slices in-between base-apex\n",
    "    if np.any(error_per_cls_slice[:, 1:num_of_slices-1] != 0):\n",
    "        check_patient = True\n",
    "        slice_id_error_counts[cardiac_phase, 1] +=  np.count_nonzero(np.sum(error_per_cls_slice[:, 1:num_of_slices-1], axis=0))\n",
    "        location_error_counts[cardiac_phase, 1] += np.sum(error_per_cls_slice[:, 1:num_of_slices-1])\n",
    "        \n",
    "    return slice_id_error_counts, location_error_counts, check_patient\n",
    "\n",
    "\n",
    "# count the overall errors and separate for base/middle/apex: index0 ES/ED, index1: 0=base, 1=middle, 2=apex\n",
    "location_error_counts = np.zeros((2, 3))\n",
    "total_num_of_patients, total_num_of_slices, num_patients_no_check = 0, 0, 0\n",
    "slice_id_error_counts = np.zeros((2, 3))\n",
    "\n",
    "# count the errors to be detected and separate for base/middle/apex: index0 ES/ED, index1: 0=base, 1=middle, 2=apex\n",
    "det_location_error_counts = np.zeros((2, 3))\n",
    "det_slice_id_error_counts = np.zeros((2, 3))\n",
    "# store roi sizes per base, mid, apex for ES (0) and ED (1)\n",
    "det_roi_size_per_location = {0: [[], [], []], 1: [[], [], []]}\n",
    "\n",
    "c_roi_es, c_roi_ed = 0, 0\n",
    "c_total_es, c_total_ed = 0, 0\n",
    "\n",
    "for p_id, roi_volume in exper_handler.target_roi_maps.iteritems():\n",
    "    # split in ES and ED\n",
    "    num_of_slices = roi_volume.shape[3]\n",
    "    total_num_of_slices += num_of_slices\n",
    "    total_num_of_patients += 1\n",
    "    _, labels = exper_handler.test_set.get_test_pair(patient_id=p_id)\n",
    "    pred_labels = exper_handler.pred_labels[p_id]\n",
    "    error_volume = labels != pred_labels\n",
    "    error_volume_es, error_volume_ed = error_volume[0:4], error_volume[4:]\n",
    "    roi_volume_es, roi_volume_ed = roi_volume[0:4], roi_volume[4:]\n",
    "    c_roi_es += np.sum(roi_volume_es)\n",
    "    c_roi_ed += np.sum(roi_volume_ed)\n",
    "    c_total_es += np.sum(error_volume_es)\n",
    "    c_total_ed += np.sum(error_volume_ed)\n",
    "    # roi_volumes_es/ed have [4, w, h, #slices]\n",
    "    det_slice_id_error_counts, det_location_error_counts, check_patient_es = \\\n",
    "    compute_roi_error_stats(roi_volume_es, det_slice_id_error_counts, det_location_error_counts, cardiac_phase=0)\n",
    "    det_slice_id_error_counts, det_location_error_counts, check_patient_ed = \\\n",
    "    compute_roi_error_stats(roi_volume_ed, det_slice_id_error_counts, det_location_error_counts, cardiac_phase=1)\n",
    "    if not check_patient_es and not check_patient_ed:\n",
    "        num_patients_no_check += 1\n",
    "    slice_id_error_counts, location_error_counts, _ = \\\n",
    "    compute_roi_error_stats(error_volume_es, slice_id_error_counts, location_error_counts, cardiac_phase=0)\n",
    "    slice_id_error_counts, location_error_counts, _ = \\\n",
    "    compute_roi_error_stats(error_volume_ed, slice_id_error_counts, location_error_counts, cardiac_phase=1)\n",
    "    \n",
    "\n",
    "print(\"Total #patients={}, #slices={}\".format(total_num_of_patients, total_num_of_slices))\n",
    "print(\"Overall {}/{}\".format(c_total_es, c_total_ed))\n",
    "print(slice_id_error_counts)  \n",
    "print(location_error_counts)\n",
    "print(\"Error roi stats {}/{}\".format(c_roi_es, c_roi_ed))\n",
    "print(det_slice_id_error_counts)  \n",
    "print(det_location_error_counts)\n",
    "print(\"{:.2f} % of patients ({}) to check\".format((100 - (100 * num_patients_no_check/float(total_num_of_patients))), \n",
    "                                                 total_num_of_patients))"
   ]
  },
  {
   "cell_type": "code",
   "execution_count": 7,
   "metadata": {},
   "outputs": [
    {
     "data": {
      "image/png": "[encoded data removed]",
      "text/plain": [
       "<matplotlib.figure.Figure at 0x7f0bd0216750>"
      ]
     },
     "metadata": {},
     "output_type": "display_data"
    }
   ],
   "source": [
    "from matplotlib.ticker import FuncFormatter, MaxNLocator\n",
    "\n",
    "x_values = np.array([0,1,2])\n",
    "x_labels = [\"Base\", \"Middle\", \"Apex\"]\n",
    "\n",
    "def format_fn(tick_val, tick_pos):\n",
    "    if int(tick_val) in x_values:\n",
    "        return x_labels[int(tick_val)]\n",
    "    else:\n",
    "        return ''\n",
    "    \n",
    "width, height = 12, 12\n",
    "fig = plt.figure(figsize=(width, height))\n",
    "\n",
    "perc_slice_location = det_slice_id_error_counts * 1./slice_id_error_counts * 100\n",
    "\n",
    "perc_location_errors = det_location_error_counts * 1./location_error_counts * 100\n",
    "\n",
    "ax1 = plt.subplot2grid((4, 4), (0, 0), rowspan=2, colspan=2)\n",
    "ax1.bar(x_values, perc_slice_location[1], width=0.3)\n",
    "ax1.xaxis.set_major_formatter(FuncFormatter(format_fn))\n",
    "ax1.xaxis.set_major_locator(MaxNLocator(integer=True))\n",
    "ax1.set_xlabel(\"Location\")\n",
    "ax1.set_ylabel(\"%\")\n",
    "ax1.set_title(\"ED: % of e-slices that actually need to be detected\")\n",
    "ax2 = plt.subplot2grid((4, 4), (0, 2), rowspan=2, colspan=2)\n",
    "ax2.bar(x_values, perc_slice_location[0], width=0.3, color=\"g\")\n",
    "ax2.set_xlabel(\"Location\")\n",
    "ax2.xaxis.set_major_formatter(FuncFormatter(format_fn))\n",
    "ax2.xaxis.set_major_locator(MaxNLocator(integer=True))\n",
    "ax2.set_title(\"ES\")\n",
    "\n",
    "ax3 = plt.subplot2grid((4, 4), (2, 0), rowspan=2, colspan=2)\n",
    "ax3.bar(x_values, perc_location_errors[1], width=0.3)\n",
    "ax3.set_xlabel(\"Location\")\n",
    "ax3.xaxis.set_major_formatter(FuncFormatter(format_fn))\n",
    "ax3.xaxis.set_major_locator(MaxNLocator(integer=True))\n",
    "ax3.set_title(\"ED: % of voxel errors that actually need to be detected\")\n",
    "\n",
    "ax4 = plt.subplot2grid((4, 4), (2, 2), rowspan=2, colspan=2)\n",
    "ax4.bar(x_values, perc_location_errors[0], width=0.3, color='g')\n",
    "ax4.set_xlabel(\"Location\")\n",
    "ax4.xaxis.set_major_formatter(FuncFormatter(format_fn))\n",
    "ax4.xaxis.set_major_locator(MaxNLocator(integer=True))\n",
    "ax4.set_title(\"ES\")\n",
    "\n",
    "fig.tight_layout(rect=[0, 0.03, 1, 0.97])\n",
    "plt.show()"
   ]
  },
  {
   "cell_type": "code",
   "execution_count": null,
   "metadata": {
    "collapsed": true
   },
   "outputs": [],
   "source": []
  }
 ],
 "metadata": {
  "kernelspec": {
   "display_name": "Python 2",
   "language": "python",
   "name": "python2"
  },
  "language_info": {
   "codemirror_mode": {
    "name": "ipython",
    "version": 2
   },
   "file_extension": ".py",
   "mimetype": "text/x-python",
   "name": "python",
   "nbconvert_exporter": "python",
   "pygments_lexer": "ipython2",
   "version": "2.7.14"
  }
 },
 "nbformat": 4,
 "nbformat_minor": 2
}
