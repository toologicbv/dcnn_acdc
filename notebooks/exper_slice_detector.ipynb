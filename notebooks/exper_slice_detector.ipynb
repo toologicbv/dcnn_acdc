{
 "cells": [
  {
   "cell_type": "code",
   "execution_count": 1,
   "metadata": {
    "collapsed": true
   },
   "outputs": [],
   "source": [
    "\n",
    "from __future__ import print_function\n",
    "\n",
    "import sys\n",
    "\n",
    "# sys.path.extend(['/home/jogi/git/repository/dcnn_acdc'])\n",
    "sys.path.extend(['/home/jorg/repository/dcnn_acdc'])\n",
    "\n",
    "import matplotlib\n",
    "import matplotlib.pyplot as plt\n",
    "\n",
    "from matplotlib import cm\n",
    "\n",
    "\n",
    "from datetime import datetime\n",
    "from pytz import timezone\n",
    "import itertools\n",
    "import copy\n",
    "\n",
    "import SimpleITK as sitk\n",
    "import numpy as np\n",
    "import torch\n",
    "from torch.autograd import Variable\n",
    "import torch.nn as nn\n",
    "import torch.nn.functional as F\n",
    "import torch.optim as optim\n",
    "from torch.nn import init\n",
    "\n",
    "import numpy as np\n",
    "import dill\n",
    "import os\n",
    "import glob\n",
    "from collections import OrderedDict\n",
    "\n",
    "from in_out.load_data import ACDC2017DataSet\n",
    "from config.config import config\n",
    "from utils.experiment import Experiment, ExperimentHandler\n",
    "from utils.batch_handlers import TwoDimBatchHandler\n",
    "from utils.test_handler import ACDC2017TestHandler, test_ensemble\n",
    "from utils.test_results import TestResults, load_all_results\n",
    "from utils.referral_handler import ReferralHandler, ReferralResults\n",
    "from plotting.learning_curves import loss_plot\n",
    "from plotting.uncertainty_plots import analyze_slices\n",
    "from plotting.main_seg_results import plot_seg_erros_uncertainties\n",
    "from plotting.result_plots import plot_referral_results\n",
    "from plotting.entropy_map_plots import plot_entropy_map_for_patient\n",
    "from plotting.result_plots import plot_referral_results\n",
    "\n",
    "from utils.dslices.exper_handler import ExperHandlerEnsemble\n",
    "\n",
    "from models.dilated_cnn import BaseDilated2DCNN\n",
    "\n",
    "%matplotlib inline\n",
    "%load_ext autoreload\n",
    "%autoreload 2"
   ]
  },
  {
   "cell_type": "code",
   "execution_count": 2,
   "metadata": {},
   "outputs": [
    {
     "name": "stdout",
     "output_type": "stream",
     "text": [
      "Load experiment from /home/jorg/repository/dcnn_acdc/logs/20180426_14_14_57_dcnn_mc_f3p01_brier_150KE_lr2e02/stats/exper_stats.dll\n",
      "Model name: dcnn_mc p=0.10 fold=3 loss=brier\n",
      "-------------------------------------------------------------------------\n",
      "Load experiment from /home/jorg/repository/dcnn_acdc/logs/20180630_10_26_32_dcnn_mc_f3p01_150KE_lr2e02/stats/exper_stats.dll\n",
      "Model name: dcnn_mc p=0.10 fold=3 loss=softdice\n",
      "-------------------------------------------------------------------------\n",
      "Load experiment from /home/jorg/repository/dcnn_acdc/logs/20180703_18_15_22_dcnn_mc_f3p01_entrpy_150KE_lr2e02/stats/exper_stats.dll\n",
      "Model name: dcnn_mc p=0.10 fold=3 loss=cross-entropy\n",
      "-------------------------------------------------------------------------\n"
     ]
    }
   ],
   "source": [
    "# Constants aka fixed variables\n",
    "ROOT_DIR = \"/home/jorg/repository/dcnn_acdc\"\n",
    "LOG_DIR = os.path.join(ROOT_DIR, \"logs\")\n",
    "CYCLE_OFFSET = 100000\n",
    "# set seeds\n",
    "SEED = 4325\n",
    "torch.manual_seed(SEED)\n",
    "torch.cuda.manual_seed(SEED)\n",
    "torch.backends.cudnn.enabled = True\n",
    "np.random.seed(SEED)\n",
    "\n",
    "# IMPORTANT - THE FOLD WE'RE USING FOR TESTING. NOTE: Training and testing fold should be the same\n",
    "# we raise an error in the test_ensemble method if this is not the case!\n",
    "TEST_FOLD = 3\n",
    "\n",
    "exp_mc01_brier = {3: \"20180426_14_14_57_dcnn_mc_f3p01_brier_150KE_lr2e02\",\n",
    "                  2: \"20180426_14_14_39_dcnn_mc_f2p01_brier_150KE_lr2e02\",\n",
    "                  1: \"20180426_14_13_46_dcnn_mc_f1p01_brier_150KE_lr2e02\",\n",
    "                  0: \"20180418_15_02_05_dcnn_mcv1_150000E_lr2e02\"}\n",
    "exp_mc01_brier_path = os.path.join(LOG_DIR, exp_mc01_brier[TEST_FOLD])\n",
    "\n",
    "\n",
    "exp_mc01_softdice = {3: \"20180630_10_26_32_dcnn_mc_f3p01_150KE_lr2e02\",\n",
    "                    2: \"20180630_10_27_07_dcnn_mc_f2p01_150KE_lr2e02\",\n",
    "                    1: \"20180629_11_28_29_dcnn_mc_f1p01_150KE_lr2e02\",\n",
    "                    0: \"20180629_10_33_08_dcnn_mc_f0p01_150KE_lr2e02\"}\n",
    "exp_mc01_softdice_path = os.path.join(LOG_DIR, exp_mc01_softdice[TEST_FOLD])\n",
    "\n",
    "exp_mc01_crossent = {3: \"20180703_18_15_22_dcnn_mc_f3p01_entrpy_150KE_lr2e02\",\n",
    "                     2: \"20180703_18_11_10_dcnn_mc_f2p01_entrpy_150KE_lr2e02\",\n",
    "                     1: \"20180703_18_13_51_dcnn_mc_f1p01_entrpy_150KE_lr2e02\",\n",
    "                     0: \"20180703_18_09_33_dcnn_mc_f0p01_entrpy_150KE_lr2e02\"}\n",
    "exp_mc01_crossent_path = os.path.join(LOG_DIR, exp_mc01_crossent[TEST_FOLD])\n",
    "\n",
    "exper_hdl_mc01_brier = ExperimentHandler()\n",
    "exper_hdl_mc01_brier.load_experiment(exp_mc01_brier_path, use_logfile=False)\n",
    "exper_hdl_mc01_brier.set_root_dir(ROOT_DIR)\n",
    "exper_hdl_mc01_brier.set_model_name(\"MC-dropout brier fold-{} (p={})\".format(\n",
    "                                exper_hdl_mc01_brier.exper.run_args.fold_ids[0],\n",
    "                                exper_hdl_mc01_brier.exper.run_args.drop_prob))\n",
    "print(\"Model name: {}\".format(exper_hdl_mc01_brier.model_name))\n",
    "print(\"-------------------------------------------------------------------------\")\n",
    "\n",
    "exper_hdl_mc01_softdice = ExperimentHandler()\n",
    "exper_hdl_mc01_softdice.load_experiment(exp_mc01_softdice_path, use_logfile=False)\n",
    "exper_hdl_mc01_softdice.set_root_dir(ROOT_DIR)\n",
    "exper_hdl_mc01_softdice.set_model_name(\"MC-dropout soft-dice fold-{} (p={})\".format(\n",
    "                                exper_hdl_mc01_softdice.exper.run_args.fold_ids[0],\n",
    "                                exper_hdl_mc01_softdice.exper.run_args.drop_prob))\n",
    "# make sure we correct spelling for softdice to soft-dice, which we use in figures\n",
    "exper_hdl_mc01_softdice.exper.run_args.loss_function = \"soft-dice\"\n",
    "print(\"Model name: {}\".format(exper_hdl_mc01_softdice.model_name))\n",
    "print(\"-------------------------------------------------------------------------\")\n",
    "\n",
    "exper_hdl_mc01_crossent = ExperimentHandler()\n",
    "exper_hdl_mc01_crossent.load_experiment(exp_mc01_crossent_path, use_logfile=False)\n",
    "exper_hdl_mc01_crossent.set_root_dir(ROOT_DIR)\n",
    "exper_hdl_mc01_crossent.set_model_name(\"MC-dropout cross-entropy fold-{} (p={})\".format(\n",
    "                                exper_hdl_mc01_crossent.exper.run_args.fold_ids[0],\n",
    "                                exper_hdl_mc01_crossent.exper.run_args.drop_prob))\n",
    "print(\"Model name: {}\".format(exper_hdl_mc01_crossent.model_name))\n",
    "print(\"-------------------------------------------------------------------------\")"
   ]
  },
  {
   "cell_type": "code",
   "execution_count": 4,
   "metadata": {},
   "outputs": [
    {
     "name": "stderr",
     "output_type": "stream",
     "text": [
      "\r",
      "  0%|          | 0/75 [00:00<?, ?it/s]"
     ]
    },
    {
     "name": "stdout",
     "output_type": "stream",
     "text": [
      "INFO - Using folds ['3'] - busy loading images/references...this may take a while!\n",
      "INFO - >>> Search for /home/jorg/repository/dcnn_acdc/data/Folds/fold3/train/images_iso/*patient*.mhd <<<\n"
     ]
    },
    {
     "name": "stderr",
     "output_type": "stream",
     "text": [
      "100%|██████████| 75/75 [00:04<00:00, 16.96it/s]\n",
      "100%|██████████| 25/25 [00:01<00:00, 18.51it/s]"
     ]
    },
    {
     "name": "stdout",
     "output_type": "stream",
     "text": [
      "INFO - Using folds ['3'] - loaded 200 files: 75 studies in train set, 25 studies in validation set\n",
      "INFO - Mean width/height/#slices per image 235/263/9\n",
      "---------------------- Image incompleteness statistics -------------------------\n",
      "ES: slices missing RV/MYO/LV 0/0/0 (0.00/0.00/0.00) / complete 0 wo-all 0\n",
      "ED: slices missing RV/MYO/LV 0/0/0 (0.00/0.00/0.00) / complete 0 wo-all 0\n"
     ]
    },
    {
     "name": "stderr",
     "output_type": "stream",
     "text": [
      "\n"
     ]
    }
   ],
   "source": [
    "exper_hdl = exper_hdl_mc01_softdice\n",
    "dataset = ACDC2017DataSet(exper_hdl.exper.config, search_mask=config.dflt_image_name + \".mhd\",\n",
    "                              fold_ids=exper_hdl.exper.run_args.fold_ids, preprocess=False,\n",
    "                              debug=exper_hdl.exper.run_args.quick_run, do_augment=False,\n",
    "                              incomplete_only=False)"
   ]
  },
  {
   "cell_type": "code",
   "execution_count": 5,
   "metadata": {},
   "outputs": [
    {
     "name": "stdout",
     "output_type": "stream",
     "text": [
      "Load experiment from /home/jorg/repository/dcnn_acdc/logs/20180629_10_33_08_dcnn_mc_f0p01_150KE_lr2e02/stats/exper_stats.dll\n",
      "INFO - Experimental details extracted:: dcnn_mc p=0.10 fold=['0'] loss=softdice\n",
      "Load experiment from /home/jorg/repository/dcnn_acdc/logs/20180629_11_28_29_dcnn_mc_f1p01_150KE_lr2e02/stats/exper_stats.dll\n",
      "INFO - Experimental details extracted:: dcnn_mc p=0.10 fold=['1'] loss=softdice\n",
      "Load experiment from /home/jorg/repository/dcnn_acdc/logs/20180630_10_27_07_dcnn_mc_f2p01_150KE_lr2e02/stats/exper_stats.dll\n",
      "INFO - Experimental details extracted:: dcnn_mc p=0.10 fold=['2'] loss=softdice\n",
      "Load experiment from /home/jorg/repository/dcnn_acdc/logs/20180630_10_26_32_dcnn_mc_f3p01_150KE_lr2e02/stats/exper_stats.dll\n",
      "INFO - Experimental details extracted:: dcnn_mc p=0.10 fold=['3'] loss=softdice\n",
      "INFO - Loading referral results for thresholds [0.001]\n"
     ]
    }
   ],
   "source": [
    "from in_out.dataset_slice_detector import create_dataset\n",
    "\n",
    "seg_exper_dict = ExperHandlerEnsemble(exp_mc01_softdice)\n",
    "\n",
    "detect_dataset = create_dataset(dataset, seg_exper_dict, type_of_map=\"u_map\")\n",
    "del seg_exper_dict"
   ]
  },
  {
   "cell_type": "code",
   "execution_count": 6,
   "metadata": {},
   "outputs": [
    {
     "data": {
      "text/plain": [
       "75"
      ]
     },
     "execution_count": 6,
     "metadata": {},
     "output_type": "execute_result"
    }
   ],
   "source": [
    "len(detect_dataset.train_images)"
   ]
  }
 ],
 "metadata": {
  "kernelspec": {
   "display_name": "Python 2",
   "language": "python",
   "name": "python2"
  },
  "language_info": {
   "codemirror_mode": {
    "name": "ipython",
    "version": 2
   },
   "file_extension": ".py",
   "mimetype": "text/x-python",
   "name": "python",
   "nbconvert_exporter": "python",
   "pygments_lexer": "ipython2",
   "version": "2.7.14"
  }
 },
 "nbformat": 4,
 "nbformat_minor": 2
}
