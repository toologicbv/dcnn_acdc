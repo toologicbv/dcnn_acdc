{
 "cells": [
  {
   "cell_type": "code",
   "execution_count": null,
   "metadata": {
    "collapsed": true
   },
   "outputs": [],
   "source": [
    "from __future__ import print_function\n",
    "\n",
    "import sys\n",
    "\n",
    "sys.path.extend(['/home/jorg/repository/dcnn_acdc'])\n",
    "\n",
    "import matplotlib\n",
    "import matplotlib.pyplot as plt\n",
    "\n",
    "from matplotlib import cm\n",
    "\n",
    "from datetime import datetime\n",
    "from pytz import timezone\n",
    "import copy\n",
    "\n",
    "import numpy as np\n",
    "import torch\n",
    "\n",
    "import numpy as np\n",
    "import dill\n",
    "import os\n",
    "import glob\n",
    "from collections import OrderedDict\n",
    "\n",
    "from in_out.load_data import ACDC2017DataSet\n",
    "from in_out.detector.detector_dataset import RegionDetectorDataSet\n",
    "from config.config import config as config_acdc\n",
    "from common.detector.config import config_detector\n",
    "from plotting.color_maps import transparent_cmap\n",
    "from utils.exper_hdl_ensemble import ExperHandlerEnsemble\n",
    "from common.dslices.config import config as config_dslices\n",
    "from common.detector.box_utils import find_bbox_object, BoundingBox\n",
    "from utils.detector.batch_handler import BatchHandler\n",
    "from utils.detector.experiment import Experiment\n",
    "from utils.detector.exper_handler import ExperimentHandler\n",
    "\n",
    "mycmap = transparent_cmap(plt.get_cmap('jet'))\n",
    "\n",
    "%matplotlib inline\n",
    "%load_ext autoreload\n",
    "%autoreload 2"
   ]
  },
  {
   "cell_type": "code",
   "execution_count": null,
   "metadata": {
    "collapsed": true
   },
   "outputs": [],
   "source": [
    "# Constants aka fixed variables\n",
    "ROOT_DIR = \"/home/jorg/repository/dcnn_acdc\"\n",
    "\n",
    "# set seeds\n",
    "SEED = 4325\n",
    "torch.manual_seed(SEED)\n",
    "torch.cuda.manual_seed(SEED)\n",
    "torch.backends.cudnn.enabled = True\n",
    "torch.backends.cudnn.deterministic = True\n",
    "np.random.seed(SEED)\n",
    "\n",
    "# Load our baseline \n",
    "seg_exper_ensemble = ExperHandlerEnsemble(config_dslices.exper_dict_brier)\n"
   ]
  },
  {
   "cell_type": "code",
   "execution_count": null,
   "metadata": {
    "collapsed": true
   },
   "outputs": [],
   "source": [
    "from in_out.detector.detector_dataset import create_dataset\n",
    "\n",
    "dataset = create_dataset(seg_exper_ensemble, train_fold_id=0, quick_run=False, num_of_input_chnls=3,\n",
    "                         model_name=\"rd1\", type_of_map=\"e_map\", use_raw_errors=True)"
   ]
  },
  {
   "cell_type": "code",
   "execution_count": null,
   "metadata": {
    "collapsed": true
   },
   "outputs": [],
   "source": [
    "batch_size = 8\n",
    "train_batch = BatchHandler(dataset, is_train=True, cuda=False, keep_bounding_boxes=False, verbose=False)"
   ]
  },
  {
   "cell_type": "code",
   "execution_count": null,
   "metadata": {
    "collapsed": true
   },
   "outputs": [],
   "source": [
    "x_input, y_lbl_dict = train_batch(batch_size=128, do_balance=False, keep_batch=True)"
   ]
  },
  {
   "cell_type": "code",
   "execution_count": null,
   "metadata": {
    "collapsed": true
   },
   "outputs": [],
   "source": [
    "fold_id = 0\n",
    "exper_handler_acdc = seg_exper_ensemble.seg_exper_handlers[fold_id]\n",
    "train_batch.visualize_batch(grid_spacing=8, index_range=[113, 115], base_apex_only=False, sr_threshold=0.,\n",
    "                               exper_handler=exper_handler_acdc)"
   ]
  },
  {
   "cell_type": "code",
   "execution_count": null,
   "metadata": {
    "collapsed": true
   },
   "outputs": [],
   "source": [
    "slice_num = 5185\n",
    "print(dataset.train_patient_slice_id[slice_num])\n",
    "\n",
    "input_channels = dataset.train_images[slice_num]\n",
    "labels = dataset.train_labels[slice_num]\n",
    "roi = dataset.train_lbl_rois[slice_num][0]\n",
    "print(labels.shape)\n",
    "print(roi)\n",
    "roi_bbox = BoundingBox.create(roi)\n",
    "print(roi_bbox.width, roi_bbox.height)\n",
    "print(roi_bbox.area)\n",
    "# slice(120, 200, None), slice(167, 247, None)\n",
    "patch_labels = labels[120:200, 167:247]\n",
    "\n",
    "fig = plt.figure(figsize=(16, 16))\n",
    "\n",
    "ax1 = plt.subplot2grid((4, 4), (0, 0), rowspan=2, colspan=2)\n",
    "ax1.imshow(labels)\n",
    "roi_patch = roi_bbox.get_matplotlib_patch()\n",
    "ax1.add_patch(roi_patch)\n",
    "\n",
    "ax2 = plt.subplot2grid((4, 4), (0, 2), rowspan=2, colspan=2)\n",
    "ax2.imshow(patch_labels)\n",
    "\n",
    "plt.show()"
   ]
  },
  {
   "cell_type": "code",
   "execution_count": null,
   "metadata": {
    "collapsed": true
   },
   "outputs": [],
   "source": [
    "zeros = 0\n",
    "negatives = 0\n",
    "for slice_num, train_lbl_rois in enumerate(dataset.train_lbl_rois):\n",
    "    if train_lbl_rois.shape[0] != 0:\n",
    "        # print(train_lbl_rois)\n",
    "        roi = train_lbl_rois[0]\n",
    "        if np.any(roi < 0):\n",
    "            negatives += 1\n",
    "            print(slice_num)\n",
    "        elif np.any(roi == 0):\n",
    "            zeros += 1\n",
    "        else:\n",
    "            roi_box = BoundingBox.create(roi)\n",
    "            if roi_box.area > 10000:\n",
    "                print(slice_num)\n",
    "print(zeros, negatives)"
   ]
  }
 ],
 "metadata": {
  "kernelspec": {
   "display_name": "Python 2",
   "language": "python",
   "name": "python2"
  },
  "language_info": {
   "codemirror_mode": {
    "name": "ipython",
    "version": 2
   },
   "file_extension": ".py",
   "mimetype": "text/x-python",
   "name": "python",
   "nbconvert_exporter": "python",
   "pygments_lexer": "ipython2",
   "version": "2.7.14"
  }
 },
 "nbformat": 4,
 "nbformat_minor": 2
}
