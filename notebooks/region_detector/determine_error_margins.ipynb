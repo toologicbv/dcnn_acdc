{
 "cells": [
  {
   "cell_type": "code",
   "execution_count": 1,
   "metadata": {
    "collapsed": true
   },
   "outputs": [],
   "source": [
    "from __future__ import print_function\n",
    "\n",
    "import sys\n",
    "\n",
    "sys.path.extend(['/home/jorg/repository/dcnn_acdc'])\n",
    "\n",
    "import matplotlib\n",
    "import matplotlib.pyplot as plt\n",
    "\n",
    "from matplotlib import cm\n",
    "\n",
    "from datetime import datetime\n",
    "from pytz import timezone\n",
    "import copy\n",
    "\n",
    "import numpy as np\n",
    "import torch\n",
    "\n",
    "import numpy as np\n",
    "import dill\n",
    "import os\n",
    "import glob\n",
    "from collections import OrderedDict\n",
    "\n",
    "from in_out.load_data import ACDC2017DataSet\n",
    "from in_out.detector.detector_dataset import RegionDetectorDataSet\n",
    "from config.config import config as config_acdc\n",
    "from common.detector.config import config_detector\n",
    "from plotting.color_maps import transparent_cmap\n",
    "from plotting.seg_errors_and_maps import plot_slices\n",
    "from utils.exper_hdl_ensemble import ExperHandlerEnsemble\n",
    "from common.detector.box_utils import find_bbox_object, BoundingBox\n",
    "from utils.detector.batch_handler import BatchHandler\n",
    "from utils.detector.experiment import Experiment\n",
    "from utils.detector.exper_handler import ExperimentHandler\n",
    "\n",
    "mycmap = transparent_cmap(plt.get_cmap('jet'))\n",
    "\n",
    "%matplotlib inline\n",
    "%load_ext autoreload\n",
    "%autoreload 2"
   ]
  },
  {
   "cell_type": "code",
   "execution_count": 2,
   "metadata": {},
   "outputs": [
    {
     "name": "stdout",
     "output_type": "stream",
     "text": [
      "Load experiment from /home/jorg/repository/dcnn_acdc/logs/ACDC/20180418_15_02_05_dcnn_mcv1_150000E_lr2e02/stats/exper_stats.dll\n",
      "INFO - Experimental details extracted:: dcnn_mc p=0.10 fold=['0'] loss=brier\n",
      "Load experiment from /home/jorg/repository/dcnn_acdc/logs/ACDC/20180426_14_13_46_dcnn_mc_f1p01_brier_150KE_lr2e02/stats/exper_stats.dll\n",
      "INFO - Experimental details extracted:: dcnn_mc p=0.10 fold=['1'] loss=brier\n",
      "Load experiment from /home/jorg/repository/dcnn_acdc/logs/ACDC/20180426_14_14_39_dcnn_mc_f2p01_brier_150KE_lr2e02/stats/exper_stats.dll\n",
      "INFO - Experimental details extracted:: dcnn_mc p=0.10 fold=['2'] loss=brier\n",
      "Load experiment from /home/jorg/repository/dcnn_acdc/logs/ACDC/20180426_14_14_57_dcnn_mc_f3p01_brier_150KE_lr2e02/stats/exper_stats.dll\n",
      "INFO - Experimental details extracted:: dcnn_mc p=0.10 fold=['3'] loss=brier\n"
     ]
    }
   ],
   "source": [
    "# Constants aka fixed variables\n",
    "ROOT_DIR = \"/home/jorg/repository/dcnn_acdc\"\n",
    "\n",
    "# set seeds\n",
    "SEED = 4325\n",
    "torch.manual_seed(SEED)\n",
    "torch.cuda.manual_seed(SEED)\n",
    "torch.backends.cudnn.enabled = True\n",
    "torch.backends.cudnn.deterministic = True\n",
    "np.random.seed(SEED)\n",
    "\n",
    "# Load our baseline \n",
    "seg_exper_ensemble = ExperHandlerEnsemble(config_detector.exper_dict_brier)"
   ]
  },
  {
   "cell_type": "code",
   "execution_count": 5,
   "metadata": {},
   "outputs": [
    {
     "name": "stderr",
     "output_type": "stream",
     "text": [
      "100%|██████████| 25/25 [00:02<00:00, 11.90it/s]\n"
     ]
    }
   ],
   "source": [
    "fold_id = 3\n",
    "exper_handler = seg_exper_ensemble.seg_exper_handlers[fold_id]\n",
    "exper_handler.get_test_set()\n",
    "\n",
    "# exper_handler.generate_dt_maps()\n",
    "exper_handler.generate_target_rois_for_learning(mc_dropout=False)"
   ]
  },
  {
   "cell_type": "code",
   "execution_count": 12,
   "metadata": {
    "collapsed": true
   },
   "outputs": [],
   "source": [
    "exper_handler.test_set.generate_bbox_target_roi()"
   ]
  },
  {
   "cell_type": "code",
   "execution_count": 34,
   "metadata": {},
   "outputs": [
    {
     "name": "stdout",
     "output_type": "stream",
     "text": [
      "patient057 342 7\n",
      "patient058 506 8\n",
      "patient059 272 8\n",
      "patient016 7052 1\n",
      "patient016 7138 2\n",
      "patient016 6557 3\n",
      "patient016 6160 4\n",
      "patient017 7120 0\n",
      "patient017 7200 1\n",
      "patient017 7268 2\n",
      "patient017 6916 3\n",
      "patient017 6460 4\n",
      "patient036 361 7\n",
      "patient039 255 8\n",
      "patient018 460 7\n",
      "patient019 195 10\n",
      "patient099 96 15\n",
      "patient076 483 7\n",
      "patient040 360 9\n",
      "patient079 256 8\n",
      "patient020 6900 0\n",
      "patient020 5808 1\n",
      "567.0 5698.0\n",
      "96 7268 2915.0 2942.60633484\n"
     ]
    },
    {
     "data": {
      "image/png": "[encoded data removed]",
      "text/plain": [
       "<matplotlib.figure.Figure at 0x7f05449b5510>"
      ]
     },
     "metadata": {},
     "output_type": "display_data"
    }
   ],
   "source": [
    "from common.detector.box_utils import BoundingBox\n",
    "\n",
    "target_roi_slices = exper_handler.test_set.labels_target_roi\n",
    "areas_es, areas_ed = [], []\n",
    "\n",
    "for patient_id, pat_slice_rois in target_roi_slices.iteritems():\n",
    "    # print(patient_id, pat_slice_rois.keys())\n",
    "    \n",
    "    for slice_id, slice_rois in pat_slice_rois.iteritems():\n",
    "        # first index ES/ED, second index slice_x, slice_y\n",
    "        roi_box_es = BoundingBox(slice_rois[0][0], slice_rois[0][1])\n",
    "        roi_box_ed = BoundingBox(slice_rois[1][0], slice_rois[1][1])\n",
    "        area = roi_box_es.width * roi_box_es.height\n",
    "        if area != 0:\n",
    "            if area < 567 or area > 5698:\n",
    "                print(patient_id, area, slice_id)\n",
    "            areas_es.append(area)\n",
    "        area = roi_box_ed.width * roi_box_ed.height\n",
    "        if area != 0:\n",
    "            areas_ed.append(area)\n",
    "areas_es = np.array(areas_es)\n",
    "lower, upper = np.percentile(areas_es, [5, 95], axis=0)\n",
    "print(lower, upper)\n",
    "print(np.min(areas_es), np.max(areas_es), np.median(areas_es), np.mean(areas_es))\n",
    "_ = plt.hist(areas_es, bins=9)            \n",
    "plt.show()"
   ]
  }
 ],
 "metadata": {
  "kernelspec": {
   "display_name": "Python 2",
   "language": "python",
   "name": "python2"
  },
  "language_info": {
   "codemirror_mode": {
    "name": "ipython",
    "version": 2
   },
   "file_extension": ".py",
   "mimetype": "text/x-python",
   "name": "python",
   "nbconvert_exporter": "python",
   "pygments_lexer": "ipython2",
   "version": "2.7.14"
  }
 },
 "nbformat": 4,
 "nbformat_minor": 2
}
